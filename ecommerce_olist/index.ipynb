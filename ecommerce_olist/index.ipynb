{
  "nbformat": 4,
  "nbformat_minor": 0,
  "metadata": {
    "colab": {
      "name": "EDA - Brazilian E-commerce Olist",
      "provenance": [],
      "collapsed_sections": [],
      "authorship_tag": "ABX9TyOCwQEAtUMbm88iRhUO2p3G",
      "include_colab_link": true
    },
    "kernelspec": {
      "name": "python3",
      "display_name": "Python 3"
    }
  },
  "cells": [
    {
      "cell_type": "markdown",
      "metadata": {
        "id": "view-in-github",
        "colab_type": "text"
      },
      "source": [
        "<a href=\"https://colab.research.google.com/github/kngan79/learn-data-science/blob/master/EDA_Brazilian_E_commerce_Olist.ipynb\" target=\"_parent\"><img src=\"https://colab.research.google.com/assets/colab-badge.svg\" alt=\"Open In Colab\"/></a>"
      ]
    },
    {
      "cell_type": "markdown",
      "metadata": {
        "id": "iLIMEQhwgBDV"
      },
      "source": [
        "##Data Loading"
      ]
    },
    {
      "cell_type": "code",
      "metadata": {
        "id": "8x8lI2KCc5yY",
        "colab": {
          "base_uri": "https://localhost:8080/"
        },
        "outputId": "d5228f5d-7858-46d8-a67c-e0fb6277d584"
      },
      "source": [
        "import numpy as np \r\n",
        "import pandas as pd \r\n",
        "import matplotlib.pyplot as plt \r\n",
        "import seaborn as sns \r\n",
        "from scipy.stats import mode\r\n",
        "from pandas.api.types import CategoricalDtype\r\n",
        "from datetime import datetime\r\n",
        "import calendar\r\n",
        "%matplotlib inline\r\n",
        "%load_ext google.colab.data_table"
      ],
      "execution_count": 168,
      "outputs": [
        {
          "output_type": "stream",
          "text": [
            "The google.colab.data_table extension is already loaded. To reload it, use:\n",
            "  %reload_ext google.colab.data_table\n"
          ],
          "name": "stdout"
        }
      ]
    },
    {
      "cell_type": "code",
      "metadata": {
        "id": "Q0yRhhHUdsXh"
      },
      "source": [
        "items = pd.read_csv(\"https://raw.githubusercontent.com/kngan79/learn-data-science/master/ecommerce_olist/olist_order_items_dataset.csv\",sep=\",\", header=0)\r\n",
        "payments = pd.read_csv(\"https://raw.githubusercontent.com/kngan79/learn-data-science/master/ecommerce_olist/olist_order_payments_dataset.csv\",sep=\",\", header=0)\r\n",
        "reviews = pd.read_csv(\"https://raw.githubusercontent.com/kngan79/learn-data-science/master/ecommerce_olist/olist_order_reviews_dataset.csv\",sep=\",\", header=0)\r\n",
        "customers = pd.read_csv(\"https://raw.githubusercontent.com/kngan79/learn-data-science/master/ecommerce_olist/olist_customers_dataset.csv\",sep=\",\", header=0)\r\n",
        "products = pd.read_csv(\"https://raw.githubusercontent.com/kngan79/learn-data-science/master/ecommerce_olist/olist_products_dataset.csv\",sep=\",\", header=0)\r\n",
        "orders = pd.read_csv(\"https://raw.githubusercontent.com/kngan79/learn-data-science/master/ecommerce_olist/olist_orders_dataset.csv\",sep=\",\", header=0)\r\n",
        "category = pd.read_csv(\"https://raw.githubusercontent.com/kngan79/learn-data-science/master/ecommerce_olist/product_category_name_translation.csv\",sep=\",\", header=0)\r\n",
        "geolocation = pd.read_csv(\"https://raw.githubusercontent.com/kngan79/learn-data-science/master/ecommerce_olist/olist_geolocation_dataset.csv\",sep=\",\", header=0)\r\n",
        "sellers = pd.read_csv(\"https://raw.githubusercontent.com/kngan79/learn-data-science/master/ecommerce_olist/olist_sellers_dataset.csv\",sep=\",\", header=0)"
      ],
      "execution_count": 169,
      "outputs": []
    },
    {
      "cell_type": "code",
      "metadata": {
        "colab": {
          "base_uri": "https://localhost:8080/",
          "height": 299
        },
        "id": "jrg3fxrFe_ln",
        "outputId": "d32882b5-e8d7-4840-b1fd-f5b9257886e6"
      },
      "source": [
        "final = pd.merge(orders,customers,on='customer_id')\r\n",
        "final = pd.merge(final,reviews,on='order_id')\r\n",
        "final = pd.merge(final,payments,on='order_id')\r\n",
        "final = pd.merge(final,items,on='order_id')\r\n",
        "final = pd.merge(final,products,on='product_id')\r\n",
        "final = pd.merge(final,category,on='product_category_name')\r\n",
        "final = pd.merge(final,sellers,on='seller_id')\r\n",
        "#final = pd.merge(final,geolocation,on='seller_zip_code_prefix')\r\n",
        "final.head()"
      ],
      "execution_count": 170,
      "outputs": [
        {
          "output_type": "execute_result",
          "data": {
            "text/html": [
              "<div>\n",
              "<style scoped>\n",
              "    .dataframe tbody tr th:only-of-type {\n",
              "        vertical-align: middle;\n",
              "    }\n",
              "\n",
              "    .dataframe tbody tr th {\n",
              "        vertical-align: top;\n",
              "    }\n",
              "\n",
              "    .dataframe thead th {\n",
              "        text-align: right;\n",
              "    }\n",
              "</style>\n",
              "<table border=\"1\" class=\"dataframe\">\n",
              "  <thead>\n",
              "    <tr style=\"text-align: right;\">\n",
              "      <th></th>\n",
              "      <th>order_id</th>\n",
              "      <th>customer_id</th>\n",
              "      <th>order_status</th>\n",
              "      <th>order_purchase_timestamp</th>\n",
              "      <th>order_approved_at</th>\n",
              "      <th>order_delivered_carrier_date</th>\n",
              "      <th>order_delivered_customer_date</th>\n",
              "      <th>order_estimated_delivery_date</th>\n",
              "      <th>customer_unique_id</th>\n",
              "      <th>customer_zip_code_prefix</th>\n",
              "      <th>customer_city</th>\n",
              "      <th>customer_state</th>\n",
              "      <th>review_id</th>\n",
              "      <th>review_score</th>\n",
              "      <th>review_comment_title</th>\n",
              "      <th>review_comment_message</th>\n",
              "      <th>review_creation_date</th>\n",
              "      <th>review_answer_timestamp</th>\n",
              "      <th>payment_sequential</th>\n",
              "      <th>payment_type</th>\n",
              "      <th>payment_installments</th>\n",
              "      <th>payment_value</th>\n",
              "      <th>order_item_id</th>\n",
              "      <th>product_id</th>\n",
              "      <th>seller_id</th>\n",
              "      <th>shipping_limit_date</th>\n",
              "      <th>price</th>\n",
              "      <th>freight_value</th>\n",
              "      <th>product_category_name</th>\n",
              "      <th>product_name_lenght</th>\n",
              "      <th>product_description_lenght</th>\n",
              "      <th>product_photos_qty</th>\n",
              "      <th>product_weight_g</th>\n",
              "      <th>product_length_cm</th>\n",
              "      <th>product_height_cm</th>\n",
              "      <th>product_width_cm</th>\n",
              "      <th>product_category_name_english</th>\n",
              "      <th>seller_zip_code_prefix</th>\n",
              "      <th>seller_city</th>\n",
              "      <th>seller_state</th>\n",
              "    </tr>\n",
              "  </thead>\n",
              "  <tbody>\n",
              "    <tr>\n",
              "      <th>0</th>\n",
              "      <td>e481f51cbdc54678b7cc49136f2d6af7</td>\n",
              "      <td>9ef432eb6251297304e76186b10a928d</td>\n",
              "      <td>delivered</td>\n",
              "      <td>2017-10-02 10:56:33</td>\n",
              "      <td>2017-10-02 11:07:15</td>\n",
              "      <td>2017-10-04 19:55:00</td>\n",
              "      <td>2017-10-10 21:25:13</td>\n",
              "      <td>2017-10-18 00:00:00</td>\n",
              "      <td>7c396fd4830fd04220f754e42b4e5bff</td>\n",
              "      <td>3149</td>\n",
              "      <td>sao paulo</td>\n",
              "      <td>SP</td>\n",
              "      <td>a54f0611adc9ed256b57ede6b6eb5114</td>\n",
              "      <td>4</td>\n",
              "      <td>NaN</td>\n",
              "      <td>Não testei o produto ainda, mas ele veio corre...</td>\n",
              "      <td>2017-10-11 00:00:00</td>\n",
              "      <td>2017-10-12 03:43:48</td>\n",
              "      <td>1</td>\n",
              "      <td>credit_card</td>\n",
              "      <td>1</td>\n",
              "      <td>18.12</td>\n",
              "      <td>1</td>\n",
              "      <td>87285b34884572647811a353c7ac498a</td>\n",
              "      <td>3504c0cb71d7fa48d967e0e4c94d59d9</td>\n",
              "      <td>2017-10-06 11:07:15</td>\n",
              "      <td>29.99</td>\n",
              "      <td>8.72</td>\n",
              "      <td>utilidades_domesticas</td>\n",
              "      <td>40.0</td>\n",
              "      <td>268.0</td>\n",
              "      <td>4.0</td>\n",
              "      <td>500.0</td>\n",
              "      <td>19.0</td>\n",
              "      <td>8.0</td>\n",
              "      <td>13.0</td>\n",
              "      <td>housewares</td>\n",
              "      <td>9350</td>\n",
              "      <td>maua</td>\n",
              "      <td>SP</td>\n",
              "    </tr>\n",
              "    <tr>\n",
              "      <th>1</th>\n",
              "      <td>e481f51cbdc54678b7cc49136f2d6af7</td>\n",
              "      <td>9ef432eb6251297304e76186b10a928d</td>\n",
              "      <td>delivered</td>\n",
              "      <td>2017-10-02 10:56:33</td>\n",
              "      <td>2017-10-02 11:07:15</td>\n",
              "      <td>2017-10-04 19:55:00</td>\n",
              "      <td>2017-10-10 21:25:13</td>\n",
              "      <td>2017-10-18 00:00:00</td>\n",
              "      <td>7c396fd4830fd04220f754e42b4e5bff</td>\n",
              "      <td>3149</td>\n",
              "      <td>sao paulo</td>\n",
              "      <td>SP</td>\n",
              "      <td>a54f0611adc9ed256b57ede6b6eb5114</td>\n",
              "      <td>4</td>\n",
              "      <td>NaN</td>\n",
              "      <td>Não testei o produto ainda, mas ele veio corre...</td>\n",
              "      <td>2017-10-11 00:00:00</td>\n",
              "      <td>2017-10-12 03:43:48</td>\n",
              "      <td>3</td>\n",
              "      <td>voucher</td>\n",
              "      <td>1</td>\n",
              "      <td>2.00</td>\n",
              "      <td>1</td>\n",
              "      <td>87285b34884572647811a353c7ac498a</td>\n",
              "      <td>3504c0cb71d7fa48d967e0e4c94d59d9</td>\n",
              "      <td>2017-10-06 11:07:15</td>\n",
              "      <td>29.99</td>\n",
              "      <td>8.72</td>\n",
              "      <td>utilidades_domesticas</td>\n",
              "      <td>40.0</td>\n",
              "      <td>268.0</td>\n",
              "      <td>4.0</td>\n",
              "      <td>500.0</td>\n",
              "      <td>19.0</td>\n",
              "      <td>8.0</td>\n",
              "      <td>13.0</td>\n",
              "      <td>housewares</td>\n",
              "      <td>9350</td>\n",
              "      <td>maua</td>\n",
              "      <td>SP</td>\n",
              "    </tr>\n",
              "    <tr>\n",
              "      <th>2</th>\n",
              "      <td>e481f51cbdc54678b7cc49136f2d6af7</td>\n",
              "      <td>9ef432eb6251297304e76186b10a928d</td>\n",
              "      <td>delivered</td>\n",
              "      <td>2017-10-02 10:56:33</td>\n",
              "      <td>2017-10-02 11:07:15</td>\n",
              "      <td>2017-10-04 19:55:00</td>\n",
              "      <td>2017-10-10 21:25:13</td>\n",
              "      <td>2017-10-18 00:00:00</td>\n",
              "      <td>7c396fd4830fd04220f754e42b4e5bff</td>\n",
              "      <td>3149</td>\n",
              "      <td>sao paulo</td>\n",
              "      <td>SP</td>\n",
              "      <td>a54f0611adc9ed256b57ede6b6eb5114</td>\n",
              "      <td>4</td>\n",
              "      <td>NaN</td>\n",
              "      <td>Não testei o produto ainda, mas ele veio corre...</td>\n",
              "      <td>2017-10-11 00:00:00</td>\n",
              "      <td>2017-10-12 03:43:48</td>\n",
              "      <td>2</td>\n",
              "      <td>voucher</td>\n",
              "      <td>1</td>\n",
              "      <td>18.59</td>\n",
              "      <td>1</td>\n",
              "      <td>87285b34884572647811a353c7ac498a</td>\n",
              "      <td>3504c0cb71d7fa48d967e0e4c94d59d9</td>\n",
              "      <td>2017-10-06 11:07:15</td>\n",
              "      <td>29.99</td>\n",
              "      <td>8.72</td>\n",
              "      <td>utilidades_domesticas</td>\n",
              "      <td>40.0</td>\n",
              "      <td>268.0</td>\n",
              "      <td>4.0</td>\n",
              "      <td>500.0</td>\n",
              "      <td>19.0</td>\n",
              "      <td>8.0</td>\n",
              "      <td>13.0</td>\n",
              "      <td>housewares</td>\n",
              "      <td>9350</td>\n",
              "      <td>maua</td>\n",
              "      <td>SP</td>\n",
              "    </tr>\n",
              "    <tr>\n",
              "      <th>3</th>\n",
              "      <td>128e10d95713541c87cd1a2e48201934</td>\n",
              "      <td>a20e8105f23924cd00833fd87daa0831</td>\n",
              "      <td>delivered</td>\n",
              "      <td>2017-08-15 18:29:31</td>\n",
              "      <td>2017-08-15 20:05:16</td>\n",
              "      <td>2017-08-17 15:28:33</td>\n",
              "      <td>2017-08-18 14:44:43</td>\n",
              "      <td>2017-08-28 00:00:00</td>\n",
              "      <td>3a51803cc0d012c3b5dc8b7528cb05f7</td>\n",
              "      <td>3366</td>\n",
              "      <td>sao paulo</td>\n",
              "      <td>SP</td>\n",
              "      <td>b46f1e34512b0f4c74a72398b03ca788</td>\n",
              "      <td>4</td>\n",
              "      <td>NaN</td>\n",
              "      <td>Deveriam embalar melhor o produto. A caixa vei...</td>\n",
              "      <td>2017-08-19 00:00:00</td>\n",
              "      <td>2017-08-20 15:16:36</td>\n",
              "      <td>1</td>\n",
              "      <td>credit_card</td>\n",
              "      <td>3</td>\n",
              "      <td>37.77</td>\n",
              "      <td>1</td>\n",
              "      <td>87285b34884572647811a353c7ac498a</td>\n",
              "      <td>3504c0cb71d7fa48d967e0e4c94d59d9</td>\n",
              "      <td>2017-08-21 20:05:16</td>\n",
              "      <td>29.99</td>\n",
              "      <td>7.78</td>\n",
              "      <td>utilidades_domesticas</td>\n",
              "      <td>40.0</td>\n",
              "      <td>268.0</td>\n",
              "      <td>4.0</td>\n",
              "      <td>500.0</td>\n",
              "      <td>19.0</td>\n",
              "      <td>8.0</td>\n",
              "      <td>13.0</td>\n",
              "      <td>housewares</td>\n",
              "      <td>9350</td>\n",
              "      <td>maua</td>\n",
              "      <td>SP</td>\n",
              "    </tr>\n",
              "    <tr>\n",
              "      <th>4</th>\n",
              "      <td>0e7e841ddf8f8f2de2bad69267ecfbcf</td>\n",
              "      <td>26c7ac168e1433912a51b924fbd34d34</td>\n",
              "      <td>delivered</td>\n",
              "      <td>2017-08-02 18:24:47</td>\n",
              "      <td>2017-08-02 18:43:15</td>\n",
              "      <td>2017-08-04 17:35:43</td>\n",
              "      <td>2017-08-07 18:30:01</td>\n",
              "      <td>2017-08-15 00:00:00</td>\n",
              "      <td>ef0996a1a279c26e7ecbd737be23d235</td>\n",
              "      <td>2290</td>\n",
              "      <td>sao paulo</td>\n",
              "      <td>SP</td>\n",
              "      <td>dc90f19c2806f1abba9e72ad3c350073</td>\n",
              "      <td>5</td>\n",
              "      <td>NaN</td>\n",
              "      <td>Só achei ela pequena pra seis xícaras ,mais é ...</td>\n",
              "      <td>2017-08-08 00:00:00</td>\n",
              "      <td>2017-08-08 23:26:23</td>\n",
              "      <td>1</td>\n",
              "      <td>credit_card</td>\n",
              "      <td>1</td>\n",
              "      <td>37.77</td>\n",
              "      <td>1</td>\n",
              "      <td>87285b34884572647811a353c7ac498a</td>\n",
              "      <td>3504c0cb71d7fa48d967e0e4c94d59d9</td>\n",
              "      <td>2017-08-08 18:37:31</td>\n",
              "      <td>29.99</td>\n",
              "      <td>7.78</td>\n",
              "      <td>utilidades_domesticas</td>\n",
              "      <td>40.0</td>\n",
              "      <td>268.0</td>\n",
              "      <td>4.0</td>\n",
              "      <td>500.0</td>\n",
              "      <td>19.0</td>\n",
              "      <td>8.0</td>\n",
              "      <td>13.0</td>\n",
              "      <td>housewares</td>\n",
              "      <td>9350</td>\n",
              "      <td>maua</td>\n",
              "      <td>SP</td>\n",
              "    </tr>\n",
              "  </tbody>\n",
              "</table>\n",
              "</div>"
            ],
            "text/plain": [
              "                           order_id  ... seller_state\n",
              "0  e481f51cbdc54678b7cc49136f2d6af7  ...           SP\n",
              "1  e481f51cbdc54678b7cc49136f2d6af7  ...           SP\n",
              "2  e481f51cbdc54678b7cc49136f2d6af7  ...           SP\n",
              "3  128e10d95713541c87cd1a2e48201934  ...           SP\n",
              "4  0e7e841ddf8f8f2de2bad69267ecfbcf  ...           SP\n",
              "\n",
              "[5 rows x 40 columns]"
            ]
          },
          "metadata": {
            "tags": []
          },
          "execution_count": 170
        }
      ]
    },
    {
      "cell_type": "markdown",
      "metadata": {
        "id": "M_SL0GO9gEiS"
      },
      "source": [
        "##Data Exploratory"
      ]
    },
    {
      "cell_type": "markdown",
      "metadata": {
        "id": "lTfRC8F9gH9P"
      },
      "source": [
        "###Overview"
      ]
    },
    {
      "cell_type": "code",
      "metadata": {
        "colab": {
          "base_uri": "https://localhost:8080/"
        },
        "id": "7lFq6p5gfjvN",
        "outputId": "a7c88f20-91b2-4457-b67b-8ac9f765d43e"
      },
      "source": [
        "final.shape"
      ],
      "execution_count": 171,
      "outputs": [
        {
          "output_type": "execute_result",
          "data": {
            "text/plain": [
              "(116581, 40)"
            ]
          },
          "metadata": {
            "tags": []
          },
          "execution_count": 171
        }
      ]
    },
    {
      "cell_type": "code",
      "metadata": {
        "colab": {
          "base_uri": "https://localhost:8080/"
        },
        "id": "Ys4dvF97gN-m",
        "outputId": "9b3e9c3d-953b-477c-ceef-724ebee29f95"
      },
      "source": [
        "final.info()"
      ],
      "execution_count": 172,
      "outputs": [
        {
          "output_type": "stream",
          "text": [
            "<class 'pandas.core.frame.DataFrame'>\n",
            "Int64Index: 116581 entries, 0 to 116580\n",
            "Data columns (total 40 columns):\n",
            " #   Column                         Non-Null Count   Dtype  \n",
            "---  ------                         --------------   -----  \n",
            " 0   order_id                       116581 non-null  object \n",
            " 1   customer_id                    116581 non-null  object \n",
            " 2   order_status                   116581 non-null  object \n",
            " 3   order_purchase_timestamp       116581 non-null  object \n",
            " 4   order_approved_at              116567 non-null  object \n",
            " 5   order_delivered_carrier_date   115368 non-null  object \n",
            " 6   order_delivered_customer_date  114066 non-null  object \n",
            " 7   order_estimated_delivery_date  116581 non-null  object \n",
            " 8   customer_unique_id             116581 non-null  object \n",
            " 9   customer_zip_code_prefix       116581 non-null  int64  \n",
            " 10  customer_city                  116581 non-null  object \n",
            " 11  customer_state                 116581 non-null  object \n",
            " 12  review_id                      116581 non-null  object \n",
            " 13  review_score                   116581 non-null  int64  \n",
            " 14  review_comment_title           13996 non-null   object \n",
            " 15  review_comment_message         49878 non-null   object \n",
            " 16  review_creation_date           116581 non-null  object \n",
            " 17  review_answer_timestamp        116581 non-null  object \n",
            " 18  payment_sequential             116581 non-null  int64  \n",
            " 19  payment_type                   116581 non-null  object \n",
            " 20  payment_installments           116581 non-null  int64  \n",
            " 21  payment_value                  116581 non-null  float64\n",
            " 22  order_item_id                  116581 non-null  int64  \n",
            " 23  product_id                     116581 non-null  object \n",
            " 24  seller_id                      116581 non-null  object \n",
            " 25  shipping_limit_date            116581 non-null  object \n",
            " 26  price                          116581 non-null  float64\n",
            " 27  freight_value                  116581 non-null  float64\n",
            " 28  product_category_name          116581 non-null  object \n",
            " 29  product_name_lenght            116581 non-null  float64\n",
            " 30  product_description_lenght     116581 non-null  float64\n",
            " 31  product_photos_qty             116581 non-null  float64\n",
            " 32  product_weight_g               116580 non-null  float64\n",
            " 33  product_length_cm              116580 non-null  float64\n",
            " 34  product_height_cm              116580 non-null  float64\n",
            " 35  product_width_cm               116580 non-null  float64\n",
            " 36  product_category_name_english  116581 non-null  object \n",
            " 37  seller_zip_code_prefix         116581 non-null  int64  \n",
            " 38  seller_city                    116581 non-null  object \n",
            " 39  seller_state                   116581 non-null  object \n",
            "dtypes: float64(10), int64(6), object(24)\n",
            "memory usage: 36.5+ MB\n"
          ],
          "name": "stdout"
        }
      ]
    },
    {
      "cell_type": "code",
      "metadata": {
        "colab": {
          "base_uri": "https://localhost:8080/",
          "height": 265
        },
        "id": "OnH5EGZqgRt1",
        "outputId": "a70e1ad3-26e2-407c-db8d-3c5e0a78a799"
      },
      "source": [
        "final.describe()"
      ],
      "execution_count": 173,
      "outputs": [
        {
          "output_type": "execute_result",
          "data": {
            "application/vnd.google.colaboratory.module+javascript": "\n      import \"https://ssl.gstatic.com/colaboratory/data_table/a6224c040fa35dcf/data_table.js\";\n\n      window.createDataTable({\n        data: [[\"count\",\n{\n            'v': 116581.0,\n            'f': \"116581.0\",\n        },\n{\n            'v': 116581.0,\n            'f': \"116581.0\",\n        },\n{\n            'v': 116581.0,\n            'f': \"116581.0\",\n        },\n{\n            'v': 116581.0,\n            'f': \"116581.0\",\n        },\n{\n            'v': 116581.0,\n            'f': \"116581.0\",\n        },\n{\n            'v': 116581.0,\n            'f': \"116581.0\",\n        },\n{\n            'v': 116581.0,\n            'f': \"116581.0\",\n        },\n{\n            'v': 116581.0,\n            'f': \"116581.0\",\n        },\n{\n            'v': 116581.0,\n            'f': \"116581.0\",\n        },\n{\n            'v': 116581.0,\n            'f': \"116581.0\",\n        },\n{\n            'v': 116581.0,\n            'f': \"116581.0\",\n        },\n{\n            'v': 116580.0,\n            'f': \"116580.0\",\n        },\n{\n            'v': 116580.0,\n            'f': \"116580.0\",\n        },\n{\n            'v': 116580.0,\n            'f': \"116580.0\",\n        },\n{\n            'v': 116580.0,\n            'f': \"116580.0\",\n        },\n{\n            'v': 116581.0,\n            'f': \"116581.0\",\n        }],\n [\"mean\",\n{\n            'v': 35053.391556085466,\n            'f': \"35053.391556085466\",\n        },\n{\n            'v': 4.017507140957789,\n            'f': \"4.017507140957789\",\n        },\n{\n            'v': 1.0933685591991833,\n            'f': \"1.0933685591991833\",\n        },\n{\n            'v': 2.9496144311680292,\n            'f': \"2.9496144311680292\",\n        },\n{\n            'v': 172.9102576749176,\n            'f': \"172.9102576749176\",\n        },\n{\n            'v': 1.1969531913433578,\n            'f': \"1.1969531913433578\",\n        },\n{\n            'v': 120.75136917691064,\n            'f': \"120.75136917691064\",\n        },\n{\n            'v': 20.062549815151925,\n            'f': \"20.062549815151925\",\n        },\n{\n            'v': 48.76631698132629,\n            'f': \"48.76631698132629\",\n        },\n{\n            'v': 785.9493313661746,\n            'f': \"785.9493313661746\",\n        },\n{\n            'v': 2.2049905216115833,\n            'f': \"2.2049905216115833\",\n        },\n{\n            'v': 2115.560422027792,\n            'f': \"2115.560422027792\",\n        },\n{\n            'v': 30.318579516212044,\n            'f': \"30.318579516212044\",\n        },\n{\n            'v': 16.645891233487735,\n            'f': \"16.645891233487735\",\n        },\n{\n            'v': 23.116898267284267,\n            'f': \"23.116898267284267\",\n        },\n{\n            'v': 24504.889029944847,\n            'f': \"24504.889029944847\",\n        }],\n [\"std\",\n{\n            'v': 29817.86482137929,\n            'f': \"29817.86482137929\",\n        },\n{\n            'v': 1.3978860222935612,\n            'f': \"1.3978860222935612\",\n        },\n{\n            'v': 0.7272404950432204,\n            'f': \"0.7272404950432204\",\n        },\n{\n            'v': 2.7837975002923905,\n            'f': \"2.7837975002923905\",\n        },\n{\n            'v': 267.622516247366,\n            'f': \"267.622516247366\",\n        },\n{\n            'v': 0.7013500556879562,\n            'f': \"0.7013500556879562\",\n        },\n{\n            'v': 183.84842112001408,\n            'f': \"183.84842112001408\",\n        },\n{\n            'v': 15.845515200192738,\n            'f': \"15.845515200192738\",\n        },\n{\n            'v': 10.033727978576257,\n            'f': \"10.033727978576257\",\n        },\n{\n            'v': 652.6140231923338,\n            'f': \"652.6140231923338\",\n        },\n{\n            'v': 1.7174169016741418,\n            'f': \"1.7174169016741418\",\n        },\n{\n            'v': 3783.587897725784,\n            'f': \"3783.587897725784\",\n        },\n{\n            'v': 16.22275964422518,\n            'f': \"16.22275964422518\",\n        },\n{\n            'v': 13.474741195578256,\n            'f': \"13.474741195578256\",\n        },\n{\n            'v': 11.758686622024536,\n            'f': \"11.758686622024536\",\n        },\n{\n            'v': 27625.157426131733,\n            'f': \"27625.157426131733\",\n        }],\n [\"min\",\n{\n            'v': 1003.0,\n            'f': \"1003.0\",\n        },\n{\n            'v': 1.0,\n            'f': \"1.0\",\n        },\n{\n            'v': 1.0,\n            'f': \"1.0\",\n        },\n{\n            'v': 0.0,\n            'f': \"0.0\",\n        },\n{\n            'v': 0.0,\n            'f': \"0.0\",\n        },\n{\n            'v': 1.0,\n            'f': \"1.0\",\n        },\n{\n            'v': 0.85,\n            'f': \"0.85\",\n        },\n{\n            'v': 0.0,\n            'f': \"0.0\",\n        },\n{\n            'v': 5.0,\n            'f': \"5.0\",\n        },\n{\n            'v': 4.0,\n            'f': \"4.0\",\n        },\n{\n            'v': 1.0,\n            'f': \"1.0\",\n        },\n{\n            'v': 0.0,\n            'f': \"0.0\",\n        },\n{\n            'v': 7.0,\n            'f': \"7.0\",\n        },\n{\n            'v': 2.0,\n            'f': \"2.0\",\n        },\n{\n            'v': 6.0,\n            'f': \"6.0\",\n        },\n{\n            'v': 1001.0,\n            'f': \"1001.0\",\n        }],\n [\"25%\",\n{\n            'v': 11310.0,\n            'f': \"11310.0\",\n        },\n{\n            'v': 4.0,\n            'f': \"4.0\",\n        },\n{\n            'v': 1.0,\n            'f': \"1.0\",\n        },\n{\n            'v': 1.0,\n            'f': \"1.0\",\n        },\n{\n            'v': 61.0,\n            'f': \"61.0\",\n        },\n{\n            'v': 1.0,\n            'f': \"1.0\",\n        },\n{\n            'v': 39.9,\n            'f': \"39.9\",\n        },\n{\n            'v': 13.08,\n            'f': \"13.08\",\n        },\n{\n            'v': 42.0,\n            'f': \"42.0\",\n        },\n{\n            'v': 346.0,\n            'f': \"346.0\",\n        },\n{\n            'v': 1.0,\n            'f': \"1.0\",\n        },\n{\n            'v': 300.0,\n            'f': \"300.0\",\n        },\n{\n            'v': 18.0,\n            'f': \"18.0\",\n        },\n{\n            'v': 8.0,\n            'f': \"8.0\",\n        },\n{\n            'v': 15.0,\n            'f': \"15.0\",\n        },\n{\n            'v': 6429.0,\n            'f': \"6429.0\",\n        }],\n [\"50%\",\n{\n            'v': 24315.0,\n            'f': \"24315.0\",\n        },\n{\n            'v': 5.0,\n            'f': \"5.0\",\n        },\n{\n            'v': 1.0,\n            'f': \"1.0\",\n        },\n{\n            'v': 2.0,\n            'f': \"2.0\",\n        },\n{\n            'v': 108.19,\n            'f': \"108.19\",\n        },\n{\n            'v': 1.0,\n            'f': \"1.0\",\n        },\n{\n            'v': 74.9,\n            'f': \"74.9\",\n        },\n{\n            'v': 16.32,\n            'f': \"16.32\",\n        },\n{\n            'v': 52.0,\n            'f': \"52.0\",\n        },\n{\n            'v': 600.0,\n            'f': \"600.0\",\n        },\n{\n            'v': 1.0,\n            'f': \"1.0\",\n        },\n{\n            'v': 700.0,\n            'f': \"700.0\",\n        },\n{\n            'v': 25.0,\n            'f': \"25.0\",\n        },\n{\n            'v': 13.0,\n            'f': \"13.0\",\n        },\n{\n            'v': 20.0,\n            'f': \"20.0\",\n        },\n{\n            'v': 13690.0,\n            'f': \"13690.0\",\n        }],\n [\"75%\",\n{\n            'v': 58600.0,\n            'f': \"58600.0\",\n        },\n{\n            'v': 5.0,\n            'f': \"5.0\",\n        },\n{\n            'v': 1.0,\n            'f': \"1.0\",\n        },\n{\n            'v': 4.0,\n            'f': \"4.0\",\n        },\n{\n            'v': 189.72,\n            'f': \"189.72\",\n        },\n{\n            'v': 1.0,\n            'f': \"1.0\",\n        },\n{\n            'v': 134.9,\n            'f': \"134.9\",\n        },\n{\n            'v': 21.22,\n            'f': \"21.22\",\n        },\n{\n            'v': 57.0,\n            'f': \"57.0\",\n        },\n{\n            'v': 983.0,\n            'f': \"983.0\",\n        },\n{\n            'v': 3.0,\n            'f': \"3.0\",\n        },\n{\n            'v': 1800.0,\n            'f': \"1800.0\",\n        },\n{\n            'v': 38.0,\n            'f': \"38.0\",\n        },\n{\n            'v': 20.0,\n            'f': \"20.0\",\n        },\n{\n            'v': 30.0,\n            'f': \"30.0\",\n        },\n{\n            'v': 28495.0,\n            'f': \"28495.0\",\n        }],\n [\"max\",\n{\n            'v': 99980.0,\n            'f': \"99980.0\",\n        },\n{\n            'v': 5.0,\n            'f': \"5.0\",\n        },\n{\n            'v': 29.0,\n            'f': \"29.0\",\n        },\n{\n            'v': 24.0,\n            'f': \"24.0\",\n        },\n{\n            'v': 13664.08,\n            'f': \"13664.08\",\n        },\n{\n            'v': 21.0,\n            'f': \"21.0\",\n        },\n{\n            'v': 6735.0,\n            'f': \"6735.0\",\n        },\n{\n            'v': 409.68,\n            'f': \"409.68\",\n        },\n{\n            'v': 76.0,\n            'f': \"76.0\",\n        },\n{\n            'v': 3992.0,\n            'f': \"3992.0\",\n        },\n{\n            'v': 20.0,\n            'f': \"20.0\",\n        },\n{\n            'v': 40425.0,\n            'f': \"40425.0\",\n        },\n{\n            'v': 105.0,\n            'f': \"105.0\",\n        },\n{\n            'v': 105.0,\n            'f': \"105.0\",\n        },\n{\n            'v': 118.0,\n            'f': \"118.0\",\n        },\n{\n            'v': 99730.0,\n            'f': \"99730.0\",\n        }]],\n        columns: [[\"string\", \"index\"], [\"number\", \"customer_zip_code_prefix\"], [\"number\", \"review_score\"], [\"number\", \"payment_sequential\"], [\"number\", \"payment_installments\"], [\"number\", \"payment_value\"], [\"number\", \"order_item_id\"], [\"number\", \"price\"], [\"number\", \"freight_value\"], [\"number\", \"product_name_lenght\"], [\"number\", \"product_description_lenght\"], [\"number\", \"product_photos_qty\"], [\"number\", \"product_weight_g\"], [\"number\", \"product_length_cm\"], [\"number\", \"product_height_cm\"], [\"number\", \"product_width_cm\"], [\"number\", \"seller_zip_code_prefix\"]],\n        columnOptions: [{\"width\": \"1px\", \"className\": \"index_column\"}],\n        rowsPerPage: 25,\n        helpUrl: \"https://colab.research.google.com/notebooks/data_table.ipynb\",\n        suppressOutputScrolling: true,\n        minimumWidth: undefined,\n      });\n    ",
            "text/html": [
              "<div>\n",
              "<style scoped>\n",
              "    .dataframe tbody tr th:only-of-type {\n",
              "        vertical-align: middle;\n",
              "    }\n",
              "\n",
              "    .dataframe tbody tr th {\n",
              "        vertical-align: top;\n",
              "    }\n",
              "\n",
              "    .dataframe thead th {\n",
              "        text-align: right;\n",
              "    }\n",
              "</style>\n",
              "<table border=\"1\" class=\"dataframe\">\n",
              "  <thead>\n",
              "    <tr style=\"text-align: right;\">\n",
              "      <th></th>\n",
              "      <th>customer_zip_code_prefix</th>\n",
              "      <th>review_score</th>\n",
              "      <th>payment_sequential</th>\n",
              "      <th>payment_installments</th>\n",
              "      <th>payment_value</th>\n",
              "      <th>order_item_id</th>\n",
              "      <th>price</th>\n",
              "      <th>freight_value</th>\n",
              "      <th>product_name_lenght</th>\n",
              "      <th>product_description_lenght</th>\n",
              "      <th>product_photos_qty</th>\n",
              "      <th>product_weight_g</th>\n",
              "      <th>product_length_cm</th>\n",
              "      <th>product_height_cm</th>\n",
              "      <th>product_width_cm</th>\n",
              "      <th>seller_zip_code_prefix</th>\n",
              "    </tr>\n",
              "  </thead>\n",
              "  <tbody>\n",
              "    <tr>\n",
              "      <th>count</th>\n",
              "      <td>116581.000000</td>\n",
              "      <td>116581.000000</td>\n",
              "      <td>116581.000000</td>\n",
              "      <td>116581.000000</td>\n",
              "      <td>116581.000000</td>\n",
              "      <td>116581.000000</td>\n",
              "      <td>116581.000000</td>\n",
              "      <td>116581.000000</td>\n",
              "      <td>116581.000000</td>\n",
              "      <td>116581.000000</td>\n",
              "      <td>116581.000000</td>\n",
              "      <td>116580.000000</td>\n",
              "      <td>116580.00000</td>\n",
              "      <td>116580.000000</td>\n",
              "      <td>116580.000000</td>\n",
              "      <td>116581.000000</td>\n",
              "    </tr>\n",
              "    <tr>\n",
              "      <th>mean</th>\n",
              "      <td>35053.391556</td>\n",
              "      <td>4.017507</td>\n",
              "      <td>1.093369</td>\n",
              "      <td>2.949614</td>\n",
              "      <td>172.910258</td>\n",
              "      <td>1.196953</td>\n",
              "      <td>120.751369</td>\n",
              "      <td>20.062550</td>\n",
              "      <td>48.766317</td>\n",
              "      <td>785.949331</td>\n",
              "      <td>2.204991</td>\n",
              "      <td>2115.560422</td>\n",
              "      <td>30.31858</td>\n",
              "      <td>16.645891</td>\n",
              "      <td>23.116898</td>\n",
              "      <td>24504.889030</td>\n",
              "    </tr>\n",
              "    <tr>\n",
              "      <th>std</th>\n",
              "      <td>29817.864821</td>\n",
              "      <td>1.397886</td>\n",
              "      <td>0.727240</td>\n",
              "      <td>2.783798</td>\n",
              "      <td>267.622516</td>\n",
              "      <td>0.701350</td>\n",
              "      <td>183.848421</td>\n",
              "      <td>15.845515</td>\n",
              "      <td>10.033728</td>\n",
              "      <td>652.614023</td>\n",
              "      <td>1.717417</td>\n",
              "      <td>3783.587898</td>\n",
              "      <td>16.22276</td>\n",
              "      <td>13.474741</td>\n",
              "      <td>11.758687</td>\n",
              "      <td>27625.157426</td>\n",
              "    </tr>\n",
              "    <tr>\n",
              "      <th>min</th>\n",
              "      <td>1003.000000</td>\n",
              "      <td>1.000000</td>\n",
              "      <td>1.000000</td>\n",
              "      <td>0.000000</td>\n",
              "      <td>0.000000</td>\n",
              "      <td>1.000000</td>\n",
              "      <td>0.850000</td>\n",
              "      <td>0.000000</td>\n",
              "      <td>5.000000</td>\n",
              "      <td>4.000000</td>\n",
              "      <td>1.000000</td>\n",
              "      <td>0.000000</td>\n",
              "      <td>7.00000</td>\n",
              "      <td>2.000000</td>\n",
              "      <td>6.000000</td>\n",
              "      <td>1001.000000</td>\n",
              "    </tr>\n",
              "    <tr>\n",
              "      <th>25%</th>\n",
              "      <td>11310.000000</td>\n",
              "      <td>4.000000</td>\n",
              "      <td>1.000000</td>\n",
              "      <td>1.000000</td>\n",
              "      <td>61.000000</td>\n",
              "      <td>1.000000</td>\n",
              "      <td>39.900000</td>\n",
              "      <td>13.080000</td>\n",
              "      <td>42.000000</td>\n",
              "      <td>346.000000</td>\n",
              "      <td>1.000000</td>\n",
              "      <td>300.000000</td>\n",
              "      <td>18.00000</td>\n",
              "      <td>8.000000</td>\n",
              "      <td>15.000000</td>\n",
              "      <td>6429.000000</td>\n",
              "    </tr>\n",
              "    <tr>\n",
              "      <th>50%</th>\n",
              "      <td>24315.000000</td>\n",
              "      <td>5.000000</td>\n",
              "      <td>1.000000</td>\n",
              "      <td>2.000000</td>\n",
              "      <td>108.190000</td>\n",
              "      <td>1.000000</td>\n",
              "      <td>74.900000</td>\n",
              "      <td>16.320000</td>\n",
              "      <td>52.000000</td>\n",
              "      <td>600.000000</td>\n",
              "      <td>1.000000</td>\n",
              "      <td>700.000000</td>\n",
              "      <td>25.00000</td>\n",
              "      <td>13.000000</td>\n",
              "      <td>20.000000</td>\n",
              "      <td>13690.000000</td>\n",
              "    </tr>\n",
              "    <tr>\n",
              "      <th>75%</th>\n",
              "      <td>58600.000000</td>\n",
              "      <td>5.000000</td>\n",
              "      <td>1.000000</td>\n",
              "      <td>4.000000</td>\n",
              "      <td>189.720000</td>\n",
              "      <td>1.000000</td>\n",
              "      <td>134.900000</td>\n",
              "      <td>21.220000</td>\n",
              "      <td>57.000000</td>\n",
              "      <td>983.000000</td>\n",
              "      <td>3.000000</td>\n",
              "      <td>1800.000000</td>\n",
              "      <td>38.00000</td>\n",
              "      <td>20.000000</td>\n",
              "      <td>30.000000</td>\n",
              "      <td>28495.000000</td>\n",
              "    </tr>\n",
              "    <tr>\n",
              "      <th>max</th>\n",
              "      <td>99980.000000</td>\n",
              "      <td>5.000000</td>\n",
              "      <td>29.000000</td>\n",
              "      <td>24.000000</td>\n",
              "      <td>13664.080000</td>\n",
              "      <td>21.000000</td>\n",
              "      <td>6735.000000</td>\n",
              "      <td>409.680000</td>\n",
              "      <td>76.000000</td>\n",
              "      <td>3992.000000</td>\n",
              "      <td>20.000000</td>\n",
              "      <td>40425.000000</td>\n",
              "      <td>105.00000</td>\n",
              "      <td>105.000000</td>\n",
              "      <td>118.000000</td>\n",
              "      <td>99730.000000</td>\n",
              "    </tr>\n",
              "  </tbody>\n",
              "</table>\n",
              "</div>"
            ],
            "text/plain": [
              "       customer_zip_code_prefix  ...  seller_zip_code_prefix\n",
              "count             116581.000000  ...           116581.000000\n",
              "mean               35053.391556  ...            24504.889030\n",
              "std                29817.864821  ...            27625.157426\n",
              "min                 1003.000000  ...             1001.000000\n",
              "25%                11310.000000  ...             6429.000000\n",
              "50%                24315.000000  ...            13690.000000\n",
              "75%                58600.000000  ...            28495.000000\n",
              "max                99980.000000  ...            99730.000000\n",
              "\n",
              "[8 rows x 16 columns]"
            ]
          },
          "metadata": {
            "tags": []
          },
          "execution_count": 173
        }
      ]
    },
    {
      "cell_type": "code",
      "metadata": {
        "colab": {
          "base_uri": "https://localhost:8080/",
          "height": 422
        },
        "id": "XDE7skgZgY4F",
        "outputId": "a05304bf-96d9-4dfe-f4fd-805da38450a1"
      },
      "source": [
        "#Numerical data\r\n",
        "numerical_data = final.select_dtypes(\"number\")\r\n",
        "numerical_data"
      ],
      "execution_count": 174,
      "outputs": [
        {
          "output_type": "execute_result",
          "data": {
            "text/html": [
              "<div>\n",
              "<style scoped>\n",
              "    .dataframe tbody tr th:only-of-type {\n",
              "        vertical-align: middle;\n",
              "    }\n",
              "\n",
              "    .dataframe tbody tr th {\n",
              "        vertical-align: top;\n",
              "    }\n",
              "\n",
              "    .dataframe thead th {\n",
              "        text-align: right;\n",
              "    }\n",
              "</style>\n",
              "<table border=\"1\" class=\"dataframe\">\n",
              "  <thead>\n",
              "    <tr style=\"text-align: right;\">\n",
              "      <th></th>\n",
              "      <th>customer_zip_code_prefix</th>\n",
              "      <th>review_score</th>\n",
              "      <th>payment_sequential</th>\n",
              "      <th>payment_installments</th>\n",
              "      <th>payment_value</th>\n",
              "      <th>order_item_id</th>\n",
              "      <th>price</th>\n",
              "      <th>freight_value</th>\n",
              "      <th>product_name_lenght</th>\n",
              "      <th>product_description_lenght</th>\n",
              "      <th>product_photos_qty</th>\n",
              "      <th>product_weight_g</th>\n",
              "      <th>product_length_cm</th>\n",
              "      <th>product_height_cm</th>\n",
              "      <th>product_width_cm</th>\n",
              "      <th>seller_zip_code_prefix</th>\n",
              "    </tr>\n",
              "  </thead>\n",
              "  <tbody>\n",
              "    <tr>\n",
              "      <th>0</th>\n",
              "      <td>3149</td>\n",
              "      <td>4</td>\n",
              "      <td>1</td>\n",
              "      <td>1</td>\n",
              "      <td>18.12</td>\n",
              "      <td>1</td>\n",
              "      <td>29.99</td>\n",
              "      <td>8.72</td>\n",
              "      <td>40.0</td>\n",
              "      <td>268.0</td>\n",
              "      <td>4.0</td>\n",
              "      <td>500.0</td>\n",
              "      <td>19.0</td>\n",
              "      <td>8.0</td>\n",
              "      <td>13.0</td>\n",
              "      <td>9350</td>\n",
              "    </tr>\n",
              "    <tr>\n",
              "      <th>1</th>\n",
              "      <td>3149</td>\n",
              "      <td>4</td>\n",
              "      <td>3</td>\n",
              "      <td>1</td>\n",
              "      <td>2.00</td>\n",
              "      <td>1</td>\n",
              "      <td>29.99</td>\n",
              "      <td>8.72</td>\n",
              "      <td>40.0</td>\n",
              "      <td>268.0</td>\n",
              "      <td>4.0</td>\n",
              "      <td>500.0</td>\n",
              "      <td>19.0</td>\n",
              "      <td>8.0</td>\n",
              "      <td>13.0</td>\n",
              "      <td>9350</td>\n",
              "    </tr>\n",
              "    <tr>\n",
              "      <th>2</th>\n",
              "      <td>3149</td>\n",
              "      <td>4</td>\n",
              "      <td>2</td>\n",
              "      <td>1</td>\n",
              "      <td>18.59</td>\n",
              "      <td>1</td>\n",
              "      <td>29.99</td>\n",
              "      <td>8.72</td>\n",
              "      <td>40.0</td>\n",
              "      <td>268.0</td>\n",
              "      <td>4.0</td>\n",
              "      <td>500.0</td>\n",
              "      <td>19.0</td>\n",
              "      <td>8.0</td>\n",
              "      <td>13.0</td>\n",
              "      <td>9350</td>\n",
              "    </tr>\n",
              "    <tr>\n",
              "      <th>3</th>\n",
              "      <td>3366</td>\n",
              "      <td>4</td>\n",
              "      <td>1</td>\n",
              "      <td>3</td>\n",
              "      <td>37.77</td>\n",
              "      <td>1</td>\n",
              "      <td>29.99</td>\n",
              "      <td>7.78</td>\n",
              "      <td>40.0</td>\n",
              "      <td>268.0</td>\n",
              "      <td>4.0</td>\n",
              "      <td>500.0</td>\n",
              "      <td>19.0</td>\n",
              "      <td>8.0</td>\n",
              "      <td>13.0</td>\n",
              "      <td>9350</td>\n",
              "    </tr>\n",
              "    <tr>\n",
              "      <th>4</th>\n",
              "      <td>2290</td>\n",
              "      <td>5</td>\n",
              "      <td>1</td>\n",
              "      <td>1</td>\n",
              "      <td>37.77</td>\n",
              "      <td>1</td>\n",
              "      <td>29.99</td>\n",
              "      <td>7.78</td>\n",
              "      <td>40.0</td>\n",
              "      <td>268.0</td>\n",
              "      <td>4.0</td>\n",
              "      <td>500.0</td>\n",
              "      <td>19.0</td>\n",
              "      <td>8.0</td>\n",
              "      <td>13.0</td>\n",
              "      <td>9350</td>\n",
              "    </tr>\n",
              "    <tr>\n",
              "      <th>...</th>\n",
              "      <td>...</td>\n",
              "      <td>...</td>\n",
              "      <td>...</td>\n",
              "      <td>...</td>\n",
              "      <td>...</td>\n",
              "      <td>...</td>\n",
              "      <td>...</td>\n",
              "      <td>...</td>\n",
              "      <td>...</td>\n",
              "      <td>...</td>\n",
              "      <td>...</td>\n",
              "      <td>...</td>\n",
              "      <td>...</td>\n",
              "      <td>...</td>\n",
              "      <td>...</td>\n",
              "      <td>...</td>\n",
              "    </tr>\n",
              "    <tr>\n",
              "      <th>116576</th>\n",
              "      <td>88350</td>\n",
              "      <td>5</td>\n",
              "      <td>1</td>\n",
              "      <td>5</td>\n",
              "      <td>314.32</td>\n",
              "      <td>1</td>\n",
              "      <td>289.49</td>\n",
              "      <td>24.83</td>\n",
              "      <td>47.0</td>\n",
              "      <td>1002.0</td>\n",
              "      <td>3.0</td>\n",
              "      <td>1900.0</td>\n",
              "      <td>19.0</td>\n",
              "      <td>16.0</td>\n",
              "      <td>16.0</td>\n",
              "      <td>95910</td>\n",
              "    </tr>\n",
              "    <tr>\n",
              "      <th>116577</th>\n",
              "      <td>35930</td>\n",
              "      <td>5</td>\n",
              "      <td>1</td>\n",
              "      <td>7</td>\n",
              "      <td>77.50</td>\n",
              "      <td>1</td>\n",
              "      <td>57.90</td>\n",
              "      <td>19.60</td>\n",
              "      <td>53.0</td>\n",
              "      <td>923.0</td>\n",
              "      <td>5.0</td>\n",
              "      <td>1000.0</td>\n",
              "      <td>25.0</td>\n",
              "      <td>25.0</td>\n",
              "      <td>25.0</td>\n",
              "      <td>17201</td>\n",
              "    </tr>\n",
              "    <tr>\n",
              "      <th>116578</th>\n",
              "      <td>12305</td>\n",
              "      <td>5</td>\n",
              "      <td>1</td>\n",
              "      <td>1</td>\n",
              "      <td>24.69</td>\n",
              "      <td>1</td>\n",
              "      <td>11.90</td>\n",
              "      <td>12.79</td>\n",
              "      <td>29.0</td>\n",
              "      <td>654.0</td>\n",
              "      <td>3.0</td>\n",
              "      <td>200.0</td>\n",
              "      <td>16.0</td>\n",
              "      <td>6.0</td>\n",
              "      <td>16.0</td>\n",
              "      <td>17201</td>\n",
              "    </tr>\n",
              "    <tr>\n",
              "      <th>116579</th>\n",
              "      <td>9951</td>\n",
              "      <td>3</td>\n",
              "      <td>1</td>\n",
              "      <td>1</td>\n",
              "      <td>84.63</td>\n",
              "      <td>1</td>\n",
              "      <td>19.00</td>\n",
              "      <td>12.86</td>\n",
              "      <td>32.0</td>\n",
              "      <td>660.0</td>\n",
              "      <td>3.0</td>\n",
              "      <td>500.0</td>\n",
              "      <td>16.0</td>\n",
              "      <td>6.0</td>\n",
              "      <td>16.0</td>\n",
              "      <td>17201</td>\n",
              "    </tr>\n",
              "    <tr>\n",
              "      <th>116580</th>\n",
              "      <td>9951</td>\n",
              "      <td>3</td>\n",
              "      <td>1</td>\n",
              "      <td>1</td>\n",
              "      <td>84.63</td>\n",
              "      <td>2</td>\n",
              "      <td>39.90</td>\n",
              "      <td>12.87</td>\n",
              "      <td>57.0</td>\n",
              "      <td>942.0</td>\n",
              "      <td>5.0</td>\n",
              "      <td>500.0</td>\n",
              "      <td>21.0</td>\n",
              "      <td>7.0</td>\n",
              "      <td>14.0</td>\n",
              "      <td>17201</td>\n",
              "    </tr>\n",
              "  </tbody>\n",
              "</table>\n",
              "<p>116581 rows × 16 columns</p>\n",
              "</div>"
            ],
            "text/plain": [
              "        customer_zip_code_prefix  ...  seller_zip_code_prefix\n",
              "0                           3149  ...                    9350\n",
              "1                           3149  ...                    9350\n",
              "2                           3149  ...                    9350\n",
              "3                           3366  ...                    9350\n",
              "4                           2290  ...                    9350\n",
              "...                          ...  ...                     ...\n",
              "116576                     88350  ...                   95910\n",
              "116577                     35930  ...                   17201\n",
              "116578                     12305  ...                   17201\n",
              "116579                      9951  ...                   17201\n",
              "116580                      9951  ...                   17201\n",
              "\n",
              "[116581 rows x 16 columns]"
            ]
          },
          "metadata": {
            "tags": []
          },
          "execution_count": 174
        }
      ]
    },
    {
      "cell_type": "code",
      "metadata": {
        "colab": {
          "base_uri": "https://localhost:8080/",
          "height": 590
        },
        "id": "fUOAnHzxgnif",
        "outputId": "7c35c660-428e-455c-9208-99185c70ca92"
      },
      "source": [
        "#Non-numerical data\r\n",
        "non_numerical_data = final.select_dtypes(\"object\")\r\n",
        "non_numerical_data"
      ],
      "execution_count": 175,
      "outputs": [
        {
          "output_type": "execute_result",
          "data": {
            "text/html": [
              "<div>\n",
              "<style scoped>\n",
              "    .dataframe tbody tr th:only-of-type {\n",
              "        vertical-align: middle;\n",
              "    }\n",
              "\n",
              "    .dataframe tbody tr th {\n",
              "        vertical-align: top;\n",
              "    }\n",
              "\n",
              "    .dataframe thead th {\n",
              "        text-align: right;\n",
              "    }\n",
              "</style>\n",
              "<table border=\"1\" class=\"dataframe\">\n",
              "  <thead>\n",
              "    <tr style=\"text-align: right;\">\n",
              "      <th></th>\n",
              "      <th>order_id</th>\n",
              "      <th>customer_id</th>\n",
              "      <th>order_status</th>\n",
              "      <th>order_purchase_timestamp</th>\n",
              "      <th>order_approved_at</th>\n",
              "      <th>order_delivered_carrier_date</th>\n",
              "      <th>order_delivered_customer_date</th>\n",
              "      <th>order_estimated_delivery_date</th>\n",
              "      <th>customer_unique_id</th>\n",
              "      <th>customer_city</th>\n",
              "      <th>customer_state</th>\n",
              "      <th>review_id</th>\n",
              "      <th>review_comment_title</th>\n",
              "      <th>review_comment_message</th>\n",
              "      <th>review_creation_date</th>\n",
              "      <th>review_answer_timestamp</th>\n",
              "      <th>payment_type</th>\n",
              "      <th>product_id</th>\n",
              "      <th>seller_id</th>\n",
              "      <th>shipping_limit_date</th>\n",
              "      <th>product_category_name</th>\n",
              "      <th>product_category_name_english</th>\n",
              "      <th>seller_city</th>\n",
              "      <th>seller_state</th>\n",
              "    </tr>\n",
              "  </thead>\n",
              "  <tbody>\n",
              "    <tr>\n",
              "      <th>0</th>\n",
              "      <td>e481f51cbdc54678b7cc49136f2d6af7</td>\n",
              "      <td>9ef432eb6251297304e76186b10a928d</td>\n",
              "      <td>delivered</td>\n",
              "      <td>2017-10-02 10:56:33</td>\n",
              "      <td>2017-10-02 11:07:15</td>\n",
              "      <td>2017-10-04 19:55:00</td>\n",
              "      <td>2017-10-10 21:25:13</td>\n",
              "      <td>2017-10-18 00:00:00</td>\n",
              "      <td>7c396fd4830fd04220f754e42b4e5bff</td>\n",
              "      <td>sao paulo</td>\n",
              "      <td>SP</td>\n",
              "      <td>a54f0611adc9ed256b57ede6b6eb5114</td>\n",
              "      <td>NaN</td>\n",
              "      <td>Não testei o produto ainda, mas ele veio corre...</td>\n",
              "      <td>2017-10-11 00:00:00</td>\n",
              "      <td>2017-10-12 03:43:48</td>\n",
              "      <td>credit_card</td>\n",
              "      <td>87285b34884572647811a353c7ac498a</td>\n",
              "      <td>3504c0cb71d7fa48d967e0e4c94d59d9</td>\n",
              "      <td>2017-10-06 11:07:15</td>\n",
              "      <td>utilidades_domesticas</td>\n",
              "      <td>housewares</td>\n",
              "      <td>maua</td>\n",
              "      <td>SP</td>\n",
              "    </tr>\n",
              "    <tr>\n",
              "      <th>1</th>\n",
              "      <td>e481f51cbdc54678b7cc49136f2d6af7</td>\n",
              "      <td>9ef432eb6251297304e76186b10a928d</td>\n",
              "      <td>delivered</td>\n",
              "      <td>2017-10-02 10:56:33</td>\n",
              "      <td>2017-10-02 11:07:15</td>\n",
              "      <td>2017-10-04 19:55:00</td>\n",
              "      <td>2017-10-10 21:25:13</td>\n",
              "      <td>2017-10-18 00:00:00</td>\n",
              "      <td>7c396fd4830fd04220f754e42b4e5bff</td>\n",
              "      <td>sao paulo</td>\n",
              "      <td>SP</td>\n",
              "      <td>a54f0611adc9ed256b57ede6b6eb5114</td>\n",
              "      <td>NaN</td>\n",
              "      <td>Não testei o produto ainda, mas ele veio corre...</td>\n",
              "      <td>2017-10-11 00:00:00</td>\n",
              "      <td>2017-10-12 03:43:48</td>\n",
              "      <td>voucher</td>\n",
              "      <td>87285b34884572647811a353c7ac498a</td>\n",
              "      <td>3504c0cb71d7fa48d967e0e4c94d59d9</td>\n",
              "      <td>2017-10-06 11:07:15</td>\n",
              "      <td>utilidades_domesticas</td>\n",
              "      <td>housewares</td>\n",
              "      <td>maua</td>\n",
              "      <td>SP</td>\n",
              "    </tr>\n",
              "    <tr>\n",
              "      <th>2</th>\n",
              "      <td>e481f51cbdc54678b7cc49136f2d6af7</td>\n",
              "      <td>9ef432eb6251297304e76186b10a928d</td>\n",
              "      <td>delivered</td>\n",
              "      <td>2017-10-02 10:56:33</td>\n",
              "      <td>2017-10-02 11:07:15</td>\n",
              "      <td>2017-10-04 19:55:00</td>\n",
              "      <td>2017-10-10 21:25:13</td>\n",
              "      <td>2017-10-18 00:00:00</td>\n",
              "      <td>7c396fd4830fd04220f754e42b4e5bff</td>\n",
              "      <td>sao paulo</td>\n",
              "      <td>SP</td>\n",
              "      <td>a54f0611adc9ed256b57ede6b6eb5114</td>\n",
              "      <td>NaN</td>\n",
              "      <td>Não testei o produto ainda, mas ele veio corre...</td>\n",
              "      <td>2017-10-11 00:00:00</td>\n",
              "      <td>2017-10-12 03:43:48</td>\n",
              "      <td>voucher</td>\n",
              "      <td>87285b34884572647811a353c7ac498a</td>\n",
              "      <td>3504c0cb71d7fa48d967e0e4c94d59d9</td>\n",
              "      <td>2017-10-06 11:07:15</td>\n",
              "      <td>utilidades_domesticas</td>\n",
              "      <td>housewares</td>\n",
              "      <td>maua</td>\n",
              "      <td>SP</td>\n",
              "    </tr>\n",
              "    <tr>\n",
              "      <th>3</th>\n",
              "      <td>128e10d95713541c87cd1a2e48201934</td>\n",
              "      <td>a20e8105f23924cd00833fd87daa0831</td>\n",
              "      <td>delivered</td>\n",
              "      <td>2017-08-15 18:29:31</td>\n",
              "      <td>2017-08-15 20:05:16</td>\n",
              "      <td>2017-08-17 15:28:33</td>\n",
              "      <td>2017-08-18 14:44:43</td>\n",
              "      <td>2017-08-28 00:00:00</td>\n",
              "      <td>3a51803cc0d012c3b5dc8b7528cb05f7</td>\n",
              "      <td>sao paulo</td>\n",
              "      <td>SP</td>\n",
              "      <td>b46f1e34512b0f4c74a72398b03ca788</td>\n",
              "      <td>NaN</td>\n",
              "      <td>Deveriam embalar melhor o produto. A caixa vei...</td>\n",
              "      <td>2017-08-19 00:00:00</td>\n",
              "      <td>2017-08-20 15:16:36</td>\n",
              "      <td>credit_card</td>\n",
              "      <td>87285b34884572647811a353c7ac498a</td>\n",
              "      <td>3504c0cb71d7fa48d967e0e4c94d59d9</td>\n",
              "      <td>2017-08-21 20:05:16</td>\n",
              "      <td>utilidades_domesticas</td>\n",
              "      <td>housewares</td>\n",
              "      <td>maua</td>\n",
              "      <td>SP</td>\n",
              "    </tr>\n",
              "    <tr>\n",
              "      <th>4</th>\n",
              "      <td>0e7e841ddf8f8f2de2bad69267ecfbcf</td>\n",
              "      <td>26c7ac168e1433912a51b924fbd34d34</td>\n",
              "      <td>delivered</td>\n",
              "      <td>2017-08-02 18:24:47</td>\n",
              "      <td>2017-08-02 18:43:15</td>\n",
              "      <td>2017-08-04 17:35:43</td>\n",
              "      <td>2017-08-07 18:30:01</td>\n",
              "      <td>2017-08-15 00:00:00</td>\n",
              "      <td>ef0996a1a279c26e7ecbd737be23d235</td>\n",
              "      <td>sao paulo</td>\n",
              "      <td>SP</td>\n",
              "      <td>dc90f19c2806f1abba9e72ad3c350073</td>\n",
              "      <td>NaN</td>\n",
              "      <td>Só achei ela pequena pra seis xícaras ,mais é ...</td>\n",
              "      <td>2017-08-08 00:00:00</td>\n",
              "      <td>2017-08-08 23:26:23</td>\n",
              "      <td>credit_card</td>\n",
              "      <td>87285b34884572647811a353c7ac498a</td>\n",
              "      <td>3504c0cb71d7fa48d967e0e4c94d59d9</td>\n",
              "      <td>2017-08-08 18:37:31</td>\n",
              "      <td>utilidades_domesticas</td>\n",
              "      <td>housewares</td>\n",
              "      <td>maua</td>\n",
              "      <td>SP</td>\n",
              "    </tr>\n",
              "    <tr>\n",
              "      <th>...</th>\n",
              "      <td>...</td>\n",
              "      <td>...</td>\n",
              "      <td>...</td>\n",
              "      <td>...</td>\n",
              "      <td>...</td>\n",
              "      <td>...</td>\n",
              "      <td>...</td>\n",
              "      <td>...</td>\n",
              "      <td>...</td>\n",
              "      <td>...</td>\n",
              "      <td>...</td>\n",
              "      <td>...</td>\n",
              "      <td>...</td>\n",
              "      <td>...</td>\n",
              "      <td>...</td>\n",
              "      <td>...</td>\n",
              "      <td>...</td>\n",
              "      <td>...</td>\n",
              "      <td>...</td>\n",
              "      <td>...</td>\n",
              "      <td>...</td>\n",
              "      <td>...</td>\n",
              "      <td>...</td>\n",
              "      <td>...</td>\n",
              "    </tr>\n",
              "    <tr>\n",
              "      <th>116576</th>\n",
              "      <td>edcf1e1eeb52381be9388c90152be52d</td>\n",
              "      <td>ce2172509c4149d65212484eb761bc37</td>\n",
              "      <td>delivered</td>\n",
              "      <td>2018-08-21 11:29:05</td>\n",
              "      <td>2018-08-21 11:50:47</td>\n",
              "      <td>2018-08-21 15:37:00</td>\n",
              "      <td>2018-08-24 13:06:25</td>\n",
              "      <td>2018-09-06 00:00:00</td>\n",
              "      <td>c5da6424f1f5decedef8672a1a0103e1</td>\n",
              "      <td>brusque</td>\n",
              "      <td>SC</td>\n",
              "      <td>a6a6d2f97b28e8aca22046635855fe63</td>\n",
              "      <td>Pedido entregue</td>\n",
              "      <td>Recebi em 3 dias muito rápido tudo perfeito pa...</td>\n",
              "      <td>2018-08-25 00:00:00</td>\n",
              "      <td>2018-08-27 16:43:30</td>\n",
              "      <td>credit_card</td>\n",
              "      <td>6bb18295cc019bf3b6dc7c773411d530</td>\n",
              "      <td>04ee0ec01589969663ba5967c0e0bdc0</td>\n",
              "      <td>2018-08-27 11:50:47</td>\n",
              "      <td>artes_e_artesanato</td>\n",
              "      <td>arts_and_craftmanship</td>\n",
              "      <td>lajeado</td>\n",
              "      <td>RS</td>\n",
              "    </tr>\n",
              "    <tr>\n",
              "      <th>116577</th>\n",
              "      <td>2c12150c742ae2fa48bc703964c16c5f</td>\n",
              "      <td>ab0cf72dfe0538a63a57d6905ccb7b57</td>\n",
              "      <td>delivered</td>\n",
              "      <td>2018-07-28 17:55:27</td>\n",
              "      <td>2018-07-29 18:30:31</td>\n",
              "      <td>2018-07-30 14:54:00</td>\n",
              "      <td>2018-08-03 17:46:46</td>\n",
              "      <td>2018-08-16 00:00:00</td>\n",
              "      <td>8c3c961a52bb5a0ffbce1d4e6d25cd67</td>\n",
              "      <td>joao monlevade</td>\n",
              "      <td>MG</td>\n",
              "      <td>6b7c670a784ae6d3f17ee1d4b28d197e</td>\n",
              "      <td>NaN</td>\n",
              "      <td>NaN</td>\n",
              "      <td>2018-08-04 00:00:00</td>\n",
              "      <td>2018-08-05 22:10:19</td>\n",
              "      <td>credit_card</td>\n",
              "      <td>2b54fb9a4acf707537eb53eb2458c241</td>\n",
              "      <td>ef728fa1f17436c91ed1ccd03dcf9631</td>\n",
              "      <td>2018-08-02 17:50:12</td>\n",
              "      <td>artes_e_artesanato</td>\n",
              "      <td>arts_and_craftmanship</td>\n",
              "      <td>jau</td>\n",
              "      <td>SP</td>\n",
              "    </tr>\n",
              "    <tr>\n",
              "      <th>116578</th>\n",
              "      <td>9f7ba492c273ffac8f90a623b8eadd3b</td>\n",
              "      <td>c61336d6c835632048f973d2f2db598d</td>\n",
              "      <td>delivered</td>\n",
              "      <td>2018-08-23 12:31:37</td>\n",
              "      <td>2018-08-24 03:24:24</td>\n",
              "      <td>2018-08-24 15:14:00</td>\n",
              "      <td>2018-08-28 02:06:35</td>\n",
              "      <td>2018-09-03 00:00:00</td>\n",
              "      <td>428f4721a509be8c52de6ec2900ba918</td>\n",
              "      <td>jacarei</td>\n",
              "      <td>SP</td>\n",
              "      <td>24e88b5f641a6a3219ce7a730509d570</td>\n",
              "      <td>NaN</td>\n",
              "      <td>Excelente</td>\n",
              "      <td>2018-08-28 00:00:00</td>\n",
              "      <td>2018-08-31 00:26:10</td>\n",
              "      <td>boleto</td>\n",
              "      <td>5aa0d6ed4e6c0995d62090cd82cde89a</td>\n",
              "      <td>ef728fa1f17436c91ed1ccd03dcf9631</td>\n",
              "      <td>2018-08-28 03:24:24</td>\n",
              "      <td>artes_e_artesanato</td>\n",
              "      <td>arts_and_craftmanship</td>\n",
              "      <td>jau</td>\n",
              "      <td>SP</td>\n",
              "    </tr>\n",
              "    <tr>\n",
              "      <th>116579</th>\n",
              "      <td>2ef4a11b6e24fdfbb43b92cb5f95edff</td>\n",
              "      <td>ee1cfdc92e449920e25d3ca4ab4da4f6</td>\n",
              "      <td>delivered</td>\n",
              "      <td>2018-07-23 18:35:14</td>\n",
              "      <td>2018-07-24 10:31:25</td>\n",
              "      <td>2018-07-24 14:37:00</td>\n",
              "      <td>2018-07-27 14:04:10</td>\n",
              "      <td>2018-08-06 00:00:00</td>\n",
              "      <td>8d80e477643ec569b24592ce3d9dfc4c</td>\n",
              "      <td>diadema</td>\n",
              "      <td>SP</td>\n",
              "      <td>ad0de1dda4fa03e8efb68c481b31ebf8</td>\n",
              "      <td>A FOLHA NAO FRISA</td>\n",
              "      <td>Um dos frisadores que comprei, especificamente...</td>\n",
              "      <td>2018-07-28 00:00:00</td>\n",
              "      <td>2018-08-03 01:58:42</td>\n",
              "      <td>credit_card</td>\n",
              "      <td>9c313adb4b38a55b092f53f83f78be9e</td>\n",
              "      <td>ef728fa1f17436c91ed1ccd03dcf9631</td>\n",
              "      <td>2018-07-30 09:17:39</td>\n",
              "      <td>artes_e_artesanato</td>\n",
              "      <td>arts_and_craftmanship</td>\n",
              "      <td>jau</td>\n",
              "      <td>SP</td>\n",
              "    </tr>\n",
              "    <tr>\n",
              "      <th>116580</th>\n",
              "      <td>2ef4a11b6e24fdfbb43b92cb5f95edff</td>\n",
              "      <td>ee1cfdc92e449920e25d3ca4ab4da4f6</td>\n",
              "      <td>delivered</td>\n",
              "      <td>2018-07-23 18:35:14</td>\n",
              "      <td>2018-07-24 10:31:25</td>\n",
              "      <td>2018-07-24 14:37:00</td>\n",
              "      <td>2018-07-27 14:04:10</td>\n",
              "      <td>2018-08-06 00:00:00</td>\n",
              "      <td>8d80e477643ec569b24592ce3d9dfc4c</td>\n",
              "      <td>diadema</td>\n",
              "      <td>SP</td>\n",
              "      <td>ad0de1dda4fa03e8efb68c481b31ebf8</td>\n",
              "      <td>A FOLHA NAO FRISA</td>\n",
              "      <td>Um dos frisadores que comprei, especificamente...</td>\n",
              "      <td>2018-07-28 00:00:00</td>\n",
              "      <td>2018-08-03 01:58:42</td>\n",
              "      <td>credit_card</td>\n",
              "      <td>eacb104882d39ffb53140b1d1860a7c3</td>\n",
              "      <td>ef728fa1f17436c91ed1ccd03dcf9631</td>\n",
              "      <td>2018-07-30 09:17:39</td>\n",
              "      <td>artes_e_artesanato</td>\n",
              "      <td>arts_and_craftmanship</td>\n",
              "      <td>jau</td>\n",
              "      <td>SP</td>\n",
              "    </tr>\n",
              "  </tbody>\n",
              "</table>\n",
              "<p>116581 rows × 24 columns</p>\n",
              "</div>"
            ],
            "text/plain": [
              "                                order_id  ... seller_state\n",
              "0       e481f51cbdc54678b7cc49136f2d6af7  ...           SP\n",
              "1       e481f51cbdc54678b7cc49136f2d6af7  ...           SP\n",
              "2       e481f51cbdc54678b7cc49136f2d6af7  ...           SP\n",
              "3       128e10d95713541c87cd1a2e48201934  ...           SP\n",
              "4       0e7e841ddf8f8f2de2bad69267ecfbcf  ...           SP\n",
              "...                                  ...  ...          ...\n",
              "116576  edcf1e1eeb52381be9388c90152be52d  ...           RS\n",
              "116577  2c12150c742ae2fa48bc703964c16c5f  ...           SP\n",
              "116578  9f7ba492c273ffac8f90a623b8eadd3b  ...           SP\n",
              "116579  2ef4a11b6e24fdfbb43b92cb5f95edff  ...           SP\n",
              "116580  2ef4a11b6e24fdfbb43b92cb5f95edff  ...           SP\n",
              "\n",
              "[116581 rows x 24 columns]"
            ]
          },
          "metadata": {
            "tags": []
          },
          "execution_count": 175
        }
      ]
    },
    {
      "cell_type": "code",
      "metadata": {
        "colab": {
          "base_uri": "https://localhost:8080/"
        },
        "id": "UNccddPqgtpE",
        "outputId": "110179ed-52a8-43c9-9622-830c93385218"
      },
      "source": [
        "#Numer of zeroes\r\n",
        "(final == 0).sum()"
      ],
      "execution_count": 176,
      "outputs": [
        {
          "output_type": "execute_result",
          "data": {
            "text/plain": [
              "order_id                           0\n",
              "customer_id                        0\n",
              "order_status                       0\n",
              "order_purchase_timestamp           0\n",
              "order_approved_at                  0\n",
              "order_delivered_carrier_date       0\n",
              "order_delivered_customer_date      0\n",
              "order_estimated_delivery_date      0\n",
              "customer_unique_id                 0\n",
              "customer_zip_code_prefix           0\n",
              "customer_city                      0\n",
              "customer_state                     0\n",
              "review_id                          0\n",
              "review_score                       0\n",
              "review_comment_title               0\n",
              "review_comment_message             0\n",
              "review_creation_date               0\n",
              "review_answer_timestamp            0\n",
              "payment_sequential                 0\n",
              "payment_type                       0\n",
              "payment_installments               3\n",
              "payment_value                      6\n",
              "order_item_id                      0\n",
              "product_id                         0\n",
              "seller_id                          0\n",
              "shipping_limit_date                0\n",
              "price                              0\n",
              "freight_value                    388\n",
              "product_category_name              0\n",
              "product_name_lenght                0\n",
              "product_description_lenght         0\n",
              "product_photos_qty                 0\n",
              "product_weight_g                   8\n",
              "product_length_cm                  0\n",
              "product_height_cm                  0\n",
              "product_width_cm                   0\n",
              "product_category_name_english      0\n",
              "seller_zip_code_prefix             0\n",
              "seller_city                        0\n",
              "seller_state                       0\n",
              "dtype: int64"
            ]
          },
          "metadata": {
            "tags": []
          },
          "execution_count": 176
        }
      ]
    },
    {
      "cell_type": "code",
      "metadata": {
        "colab": {
          "base_uri": "https://localhost:8080/"
        },
        "id": "nf9VNTq5g1pn",
        "outputId": "e392ac8d-9cc8-4dbc-be49-46a4b6934e4c"
      },
      "source": [
        "#Number of missing values\r\n",
        "pd.isnull(final).sum()"
      ],
      "execution_count": 177,
      "outputs": [
        {
          "output_type": "execute_result",
          "data": {
            "text/plain": [
              "order_id                              0\n",
              "customer_id                           0\n",
              "order_status                          0\n",
              "order_purchase_timestamp              0\n",
              "order_approved_at                    14\n",
              "order_delivered_carrier_date       1213\n",
              "order_delivered_customer_date      2515\n",
              "order_estimated_delivery_date         0\n",
              "customer_unique_id                    0\n",
              "customer_zip_code_prefix              0\n",
              "customer_city                         0\n",
              "customer_state                        0\n",
              "review_id                             0\n",
              "review_score                          0\n",
              "review_comment_title             102585\n",
              "review_comment_message            66703\n",
              "review_creation_date                  0\n",
              "review_answer_timestamp               0\n",
              "payment_sequential                    0\n",
              "payment_type                          0\n",
              "payment_installments                  0\n",
              "payment_value                         0\n",
              "order_item_id                         0\n",
              "product_id                            0\n",
              "seller_id                             0\n",
              "shipping_limit_date                   0\n",
              "price                                 0\n",
              "freight_value                         0\n",
              "product_category_name                 0\n",
              "product_name_lenght                   0\n",
              "product_description_lenght            0\n",
              "product_photos_qty                    0\n",
              "product_weight_g                      1\n",
              "product_length_cm                     1\n",
              "product_height_cm                     1\n",
              "product_width_cm                      1\n",
              "product_category_name_english         0\n",
              "seller_zip_code_prefix                0\n",
              "seller_city                           0\n",
              "seller_state                          0\n",
              "dtype: int64"
            ]
          },
          "metadata": {
            "tags": []
          },
          "execution_count": 177
        }
      ]
    },
    {
      "cell_type": "code",
      "metadata": {
        "colab": {
          "base_uri": "https://localhost:8080/",
          "height": 266
        },
        "id": "-cDfV5zbg5r0",
        "outputId": "ead32f98-6bde-4010-f6e1-1079d3437c16"
      },
      "source": [
        "#Summary of datasets overview information\r\n",
        "datasets = [customers, items, payments, orders, products, category, sellers, reviews]\r\n",
        "titles = [\"customers\", \"items\", \"payments\", \"orders\", \"products\", \"category\", \"sellers\", \"reviews\"]\r\n",
        "\r\n",
        "#To gather practical information about all datasets \r\n",
        "info_df = pd.DataFrame({},)\r\n",
        "info_df['dataset']= titles\r\n",
        "info_df['cols'] = [', '.join([col for col, null in df.isnull().sum().items() ]) for df in datasets]\r\n",
        "info_df['cols_no']= [df.shape[1] for df in datasets]\r\n",
        "info_df['null_no']= [df.isnull().sum().sum() for df in datasets]\r\n",
        "info_df['null_cols_no']= [len([col for col, null in df.isnull().sum().items() if null > 0]) for df in datasets]\r\n",
        "info_df['null_cols'] = [', '.join([col for col, null in df.isnull().sum().items() if null > 0]) for df in datasets]\r\n",
        "\r\n",
        "\r\n",
        "info_df.style.background_gradient(cmap='coolwarm')"
      ],
      "execution_count": 178,
      "outputs": [
        {
          "output_type": "execute_result",
          "data": {
            "text/html": [
              "<style  type=\"text/css\" >\n",
              "#T_40c76c5c_5a1a_11eb_b1f9_0242ac1c0002row0_col2,#T_40c76c5c_5a1a_11eb_b1f9_0242ac1c0002row2_col2{\n",
              "            background-color:  #c9d7f0;\n",
              "            color:  #000000;\n",
              "        }#T_40c76c5c_5a1a_11eb_b1f9_0242ac1c0002row0_col3,#T_40c76c5c_5a1a_11eb_b1f9_0242ac1c0002row0_col4,#T_40c76c5c_5a1a_11eb_b1f9_0242ac1c0002row1_col3,#T_40c76c5c_5a1a_11eb_b1f9_0242ac1c0002row1_col4,#T_40c76c5c_5a1a_11eb_b1f9_0242ac1c0002row2_col3,#T_40c76c5c_5a1a_11eb_b1f9_0242ac1c0002row2_col4,#T_40c76c5c_5a1a_11eb_b1f9_0242ac1c0002row5_col2,#T_40c76c5c_5a1a_11eb_b1f9_0242ac1c0002row5_col3,#T_40c76c5c_5a1a_11eb_b1f9_0242ac1c0002row5_col4,#T_40c76c5c_5a1a_11eb_b1f9_0242ac1c0002row6_col3,#T_40c76c5c_5a1a_11eb_b1f9_0242ac1c0002row6_col4{\n",
              "            background-color:  #3b4cc0;\n",
              "            color:  #f1f1f1;\n",
              "        }#T_40c76c5c_5a1a_11eb_b1f9_0242ac1c0002row1_col2,#T_40c76c5c_5a1a_11eb_b1f9_0242ac1c0002row7_col2{\n",
              "            background-color:  #f7a889;\n",
              "            color:  #000000;\n",
              "        }#T_40c76c5c_5a1a_11eb_b1f9_0242ac1c0002row3_col2{\n",
              "            background-color:  #e26952;\n",
              "            color:  #000000;\n",
              "        }#T_40c76c5c_5a1a_11eb_b1f9_0242ac1c0002row3_col3{\n",
              "            background-color:  #445acc;\n",
              "            color:  #f1f1f1;\n",
              "        }#T_40c76c5c_5a1a_11eb_b1f9_0242ac1c0002row3_col4{\n",
              "            background-color:  #b9d0f9;\n",
              "            color:  #000000;\n",
              "        }#T_40c76c5c_5a1a_11eb_b1f9_0242ac1c0002row4_col2,#T_40c76c5c_5a1a_11eb_b1f9_0242ac1c0002row4_col4,#T_40c76c5c_5a1a_11eb_b1f9_0242ac1c0002row7_col3{\n",
              "            background-color:  #b40426;\n",
              "            color:  #f1f1f1;\n",
              "        }#T_40c76c5c_5a1a_11eb_b1f9_0242ac1c0002row4_col3{\n",
              "            background-color:  #3f53c6;\n",
              "            color:  #f1f1f1;\n",
              "        }#T_40c76c5c_5a1a_11eb_b1f9_0242ac1c0002row6_col2{\n",
              "            background-color:  #9abbff;\n",
              "            color:  #000000;\n",
              "        }#T_40c76c5c_5a1a_11eb_b1f9_0242ac1c0002row7_col4{\n",
              "            background-color:  #8db0fe;\n",
              "            color:  #000000;\n",
              "        }</style><table id=\"T_40c76c5c_5a1a_11eb_b1f9_0242ac1c0002\" ><thead>    <tr>        <th class=\"blank level0\" ></th>        <th class=\"col_heading level0 col0\" >dataset</th>        <th class=\"col_heading level0 col1\" >cols</th>        <th class=\"col_heading level0 col2\" >cols_no</th>        <th class=\"col_heading level0 col3\" >null_no</th>        <th class=\"col_heading level0 col4\" >null_cols_no</th>        <th class=\"col_heading level0 col5\" >null_cols</th>    </tr></thead><tbody>\n",
              "                <tr>\n",
              "                        <th id=\"T_40c76c5c_5a1a_11eb_b1f9_0242ac1c0002level0_row0\" class=\"row_heading level0 row0\" >0</th>\n",
              "                        <td id=\"T_40c76c5c_5a1a_11eb_b1f9_0242ac1c0002row0_col0\" class=\"data row0 col0\" >customers</td>\n",
              "                        <td id=\"T_40c76c5c_5a1a_11eb_b1f9_0242ac1c0002row0_col1\" class=\"data row0 col1\" >customer_id, customer_unique_id, customer_zip_code_prefix, customer_city, customer_state</td>\n",
              "                        <td id=\"T_40c76c5c_5a1a_11eb_b1f9_0242ac1c0002row0_col2\" class=\"data row0 col2\" >5</td>\n",
              "                        <td id=\"T_40c76c5c_5a1a_11eb_b1f9_0242ac1c0002row0_col3\" class=\"data row0 col3\" >0</td>\n",
              "                        <td id=\"T_40c76c5c_5a1a_11eb_b1f9_0242ac1c0002row0_col4\" class=\"data row0 col4\" >0</td>\n",
              "                        <td id=\"T_40c76c5c_5a1a_11eb_b1f9_0242ac1c0002row0_col5\" class=\"data row0 col5\" ></td>\n",
              "            </tr>\n",
              "            <tr>\n",
              "                        <th id=\"T_40c76c5c_5a1a_11eb_b1f9_0242ac1c0002level0_row1\" class=\"row_heading level0 row1\" >1</th>\n",
              "                        <td id=\"T_40c76c5c_5a1a_11eb_b1f9_0242ac1c0002row1_col0\" class=\"data row1 col0\" >items</td>\n",
              "                        <td id=\"T_40c76c5c_5a1a_11eb_b1f9_0242ac1c0002row1_col1\" class=\"data row1 col1\" >order_id, order_item_id, product_id, seller_id, shipping_limit_date, price, freight_value</td>\n",
              "                        <td id=\"T_40c76c5c_5a1a_11eb_b1f9_0242ac1c0002row1_col2\" class=\"data row1 col2\" >7</td>\n",
              "                        <td id=\"T_40c76c5c_5a1a_11eb_b1f9_0242ac1c0002row1_col3\" class=\"data row1 col3\" >0</td>\n",
              "                        <td id=\"T_40c76c5c_5a1a_11eb_b1f9_0242ac1c0002row1_col4\" class=\"data row1 col4\" >0</td>\n",
              "                        <td id=\"T_40c76c5c_5a1a_11eb_b1f9_0242ac1c0002row1_col5\" class=\"data row1 col5\" ></td>\n",
              "            </tr>\n",
              "            <tr>\n",
              "                        <th id=\"T_40c76c5c_5a1a_11eb_b1f9_0242ac1c0002level0_row2\" class=\"row_heading level0 row2\" >2</th>\n",
              "                        <td id=\"T_40c76c5c_5a1a_11eb_b1f9_0242ac1c0002row2_col0\" class=\"data row2 col0\" >payments</td>\n",
              "                        <td id=\"T_40c76c5c_5a1a_11eb_b1f9_0242ac1c0002row2_col1\" class=\"data row2 col1\" >order_id, payment_sequential, payment_type, payment_installments, payment_value</td>\n",
              "                        <td id=\"T_40c76c5c_5a1a_11eb_b1f9_0242ac1c0002row2_col2\" class=\"data row2 col2\" >5</td>\n",
              "                        <td id=\"T_40c76c5c_5a1a_11eb_b1f9_0242ac1c0002row2_col3\" class=\"data row2 col3\" >0</td>\n",
              "                        <td id=\"T_40c76c5c_5a1a_11eb_b1f9_0242ac1c0002row2_col4\" class=\"data row2 col4\" >0</td>\n",
              "                        <td id=\"T_40c76c5c_5a1a_11eb_b1f9_0242ac1c0002row2_col5\" class=\"data row2 col5\" ></td>\n",
              "            </tr>\n",
              "            <tr>\n",
              "                        <th id=\"T_40c76c5c_5a1a_11eb_b1f9_0242ac1c0002level0_row3\" class=\"row_heading level0 row3\" >3</th>\n",
              "                        <td id=\"T_40c76c5c_5a1a_11eb_b1f9_0242ac1c0002row3_col0\" class=\"data row3 col0\" >orders</td>\n",
              "                        <td id=\"T_40c76c5c_5a1a_11eb_b1f9_0242ac1c0002row3_col1\" class=\"data row3 col1\" >order_id, customer_id, order_status, order_purchase_timestamp, order_approved_at, order_delivered_carrier_date, order_delivered_customer_date, order_estimated_delivery_date</td>\n",
              "                        <td id=\"T_40c76c5c_5a1a_11eb_b1f9_0242ac1c0002row3_col2\" class=\"data row3 col2\" >8</td>\n",
              "                        <td id=\"T_40c76c5c_5a1a_11eb_b1f9_0242ac1c0002row3_col3\" class=\"data row3 col3\" >4908</td>\n",
              "                        <td id=\"T_40c76c5c_5a1a_11eb_b1f9_0242ac1c0002row3_col4\" class=\"data row3 col4\" >3</td>\n",
              "                        <td id=\"T_40c76c5c_5a1a_11eb_b1f9_0242ac1c0002row3_col5\" class=\"data row3 col5\" >order_approved_at, order_delivered_carrier_date, order_delivered_customer_date</td>\n",
              "            </tr>\n",
              "            <tr>\n",
              "                        <th id=\"T_40c76c5c_5a1a_11eb_b1f9_0242ac1c0002level0_row4\" class=\"row_heading level0 row4\" >4</th>\n",
              "                        <td id=\"T_40c76c5c_5a1a_11eb_b1f9_0242ac1c0002row4_col0\" class=\"data row4 col0\" >products</td>\n",
              "                        <td id=\"T_40c76c5c_5a1a_11eb_b1f9_0242ac1c0002row4_col1\" class=\"data row4 col1\" >product_id, product_category_name, product_name_lenght, product_description_lenght, product_photos_qty, product_weight_g, product_length_cm, product_height_cm, product_width_cm</td>\n",
              "                        <td id=\"T_40c76c5c_5a1a_11eb_b1f9_0242ac1c0002row4_col2\" class=\"data row4 col2\" >9</td>\n",
              "                        <td id=\"T_40c76c5c_5a1a_11eb_b1f9_0242ac1c0002row4_col3\" class=\"data row4 col3\" >2448</td>\n",
              "                        <td id=\"T_40c76c5c_5a1a_11eb_b1f9_0242ac1c0002row4_col4\" class=\"data row4 col4\" >8</td>\n",
              "                        <td id=\"T_40c76c5c_5a1a_11eb_b1f9_0242ac1c0002row4_col5\" class=\"data row4 col5\" >product_category_name, product_name_lenght, product_description_lenght, product_photos_qty, product_weight_g, product_length_cm, product_height_cm, product_width_cm</td>\n",
              "            </tr>\n",
              "            <tr>\n",
              "                        <th id=\"T_40c76c5c_5a1a_11eb_b1f9_0242ac1c0002level0_row5\" class=\"row_heading level0 row5\" >5</th>\n",
              "                        <td id=\"T_40c76c5c_5a1a_11eb_b1f9_0242ac1c0002row5_col0\" class=\"data row5 col0\" >category</td>\n",
              "                        <td id=\"T_40c76c5c_5a1a_11eb_b1f9_0242ac1c0002row5_col1\" class=\"data row5 col1\" >product_category_name, product_category_name_english</td>\n",
              "                        <td id=\"T_40c76c5c_5a1a_11eb_b1f9_0242ac1c0002row5_col2\" class=\"data row5 col2\" >2</td>\n",
              "                        <td id=\"T_40c76c5c_5a1a_11eb_b1f9_0242ac1c0002row5_col3\" class=\"data row5 col3\" >0</td>\n",
              "                        <td id=\"T_40c76c5c_5a1a_11eb_b1f9_0242ac1c0002row5_col4\" class=\"data row5 col4\" >0</td>\n",
              "                        <td id=\"T_40c76c5c_5a1a_11eb_b1f9_0242ac1c0002row5_col5\" class=\"data row5 col5\" ></td>\n",
              "            </tr>\n",
              "            <tr>\n",
              "                        <th id=\"T_40c76c5c_5a1a_11eb_b1f9_0242ac1c0002level0_row6\" class=\"row_heading level0 row6\" >6</th>\n",
              "                        <td id=\"T_40c76c5c_5a1a_11eb_b1f9_0242ac1c0002row6_col0\" class=\"data row6 col0\" >sellers</td>\n",
              "                        <td id=\"T_40c76c5c_5a1a_11eb_b1f9_0242ac1c0002row6_col1\" class=\"data row6 col1\" >seller_id, seller_zip_code_prefix, seller_city, seller_state</td>\n",
              "                        <td id=\"T_40c76c5c_5a1a_11eb_b1f9_0242ac1c0002row6_col2\" class=\"data row6 col2\" >4</td>\n",
              "                        <td id=\"T_40c76c5c_5a1a_11eb_b1f9_0242ac1c0002row6_col3\" class=\"data row6 col3\" >0</td>\n",
              "                        <td id=\"T_40c76c5c_5a1a_11eb_b1f9_0242ac1c0002row6_col4\" class=\"data row6 col4\" >0</td>\n",
              "                        <td id=\"T_40c76c5c_5a1a_11eb_b1f9_0242ac1c0002row6_col5\" class=\"data row6 col5\" ></td>\n",
              "            </tr>\n",
              "            <tr>\n",
              "                        <th id=\"T_40c76c5c_5a1a_11eb_b1f9_0242ac1c0002level0_row7\" class=\"row_heading level0 row7\" >7</th>\n",
              "                        <td id=\"T_40c76c5c_5a1a_11eb_b1f9_0242ac1c0002row7_col0\" class=\"data row7 col0\" >reviews</td>\n",
              "                        <td id=\"T_40c76c5c_5a1a_11eb_b1f9_0242ac1c0002row7_col1\" class=\"data row7 col1\" >review_id, order_id, review_score, review_comment_title, review_comment_message, review_creation_date, review_answer_timestamp</td>\n",
              "                        <td id=\"T_40c76c5c_5a1a_11eb_b1f9_0242ac1c0002row7_col2\" class=\"data row7 col2\" >7</td>\n",
              "                        <td id=\"T_40c76c5c_5a1a_11eb_b1f9_0242ac1c0002row7_col3\" class=\"data row7 col3\" >146532</td>\n",
              "                        <td id=\"T_40c76c5c_5a1a_11eb_b1f9_0242ac1c0002row7_col4\" class=\"data row7 col4\" >2</td>\n",
              "                        <td id=\"T_40c76c5c_5a1a_11eb_b1f9_0242ac1c0002row7_col5\" class=\"data row7 col5\" >review_comment_title, review_comment_message</td>\n",
              "            </tr>\n",
              "    </tbody></table>"
            ],
            "text/plain": [
              "<pandas.io.formats.style.Styler at 0x7f20118c1c18>"
            ]
          },
          "metadata": {
            "tags": []
          },
          "execution_count": 178
        }
      ]
    },
    {
      "cell_type": "code",
      "metadata": {
        "id": "L1sA5Q1LjWiF"
      },
      "source": [
        "# Custom data dictionary\r\n",
        "def generate_data_dict(final):\r\n",
        "  mean = final.mean()\r\n",
        "  median = final.median()\r\n",
        " # mode_value, mode_count = mode(final)\r\n",
        "  std = final.std()\r\n",
        "  count_distinct = final.nunique()\r\n",
        "  n_missing = pd.isnull(final).sum()\r\n",
        "  n_zeroes = (final == 0).sum()\r\n",
        "\r\n",
        "  results = {\r\n",
        "      \"mean\": mean,\r\n",
        "      \"median\": median,\r\n",
        "      #\"mode\": mode_value[0],\r\n",
        "      \"std\": std,\r\n",
        "      \"count_distinct\": count_distinct,\r\n",
        "      \"n_zeroes\": n_zeroes\r\n",
        "  }\r\n",
        " \r\n",
        "  res_df = pd.DataFrame(results)\r\n",
        "  return res_df"
      ],
      "execution_count": 179,
      "outputs": []
    },
    {
      "cell_type": "code",
      "metadata": {
        "id": "EY-gjWojuGvf"
      },
      "source": [
        "#generate_data_dict(final)"
      ],
      "execution_count": 180,
      "outputs": []
    },
    {
      "cell_type": "markdown",
      "metadata": {
        "id": "9_Rj8EWJlOLG"
      },
      "source": [
        "###Data cleaning"
      ]
    },
    {
      "cell_type": "markdown",
      "metadata": {
        "id": "6XL2YvaFxpD8"
      },
      "source": [
        "####Missing values"
      ]
    },
    {
      "cell_type": "code",
      "metadata": {
        "id": "L3gn6u9hqZcf"
      },
      "source": [
        "final.dropna(subset=['product_weight_g', 'product_length_cm', 'product_height_cm', 'product_width_cm'],inplace=True)\r\n",
        "final.dropna(subset=['order_approved_at', 'order_delivered_carrier_date', 'order_delivered_customer_date'],inplace=True)"
      ],
      "execution_count": 181,
      "outputs": []
    },
    {
      "cell_type": "code",
      "metadata": {
        "colab": {
          "base_uri": "https://localhost:8080/"
        },
        "id": "PMF1Kr1Wvg-z",
        "outputId": "73fec5cb-a255-4cf9-9855-8eeb8d7814ad"
      },
      "source": [
        "pd.isnull(final).sum()"
      ],
      "execution_count": 182,
      "outputs": [
        {
          "output_type": "execute_result",
          "data": {
            "text/plain": [
              "order_id                              0\n",
              "customer_id                           0\n",
              "order_status                          0\n",
              "order_purchase_timestamp              0\n",
              "order_approved_at                     0\n",
              "order_delivered_carrier_date          0\n",
              "order_delivered_customer_date         0\n",
              "order_estimated_delivery_date         0\n",
              "customer_unique_id                    0\n",
              "customer_zip_code_prefix              0\n",
              "customer_city                         0\n",
              "customer_state                        0\n",
              "review_id                             0\n",
              "review_score                          0\n",
              "review_comment_title             100392\n",
              "review_comment_message            65834\n",
              "review_creation_date                  0\n",
              "review_answer_timestamp               0\n",
              "payment_sequential                    0\n",
              "payment_type                          0\n",
              "payment_installments                  0\n",
              "payment_value                         0\n",
              "order_item_id                         0\n",
              "product_id                            0\n",
              "seller_id                             0\n",
              "shipping_limit_date                   0\n",
              "price                                 0\n",
              "freight_value                         0\n",
              "product_category_name                 0\n",
              "product_name_lenght                   0\n",
              "product_description_lenght            0\n",
              "product_photos_qty                    0\n",
              "product_weight_g                      0\n",
              "product_length_cm                     0\n",
              "product_height_cm                     0\n",
              "product_width_cm                      0\n",
              "product_category_name_english         0\n",
              "seller_zip_code_prefix                0\n",
              "seller_city                           0\n",
              "seller_state                          0\n",
              "dtype: int64"
            ]
          },
          "metadata": {
            "tags": []
          },
          "execution_count": 182
        }
      ]
    },
    {
      "cell_type": "code",
      "metadata": {
        "id": "WtqVydkIsR7e"
      },
      "source": [
        "final['review_comment_message'].fillna(\"mean\",inplace=True)\r\n",
        "final['review_comment_title'].fillna(\"mean\",inplace=True)"
      ],
      "execution_count": 183,
      "outputs": []
    },
    {
      "cell_type": "code",
      "metadata": {
        "colab": {
          "base_uri": "https://localhost:8080/"
        },
        "id": "eDlhXSODtdQt",
        "outputId": "994fee40-e8e7-4212-9eb8-0f3af6c522b5"
      },
      "source": [
        "pd.isnull(final).sum()"
      ],
      "execution_count": 184,
      "outputs": [
        {
          "output_type": "execute_result",
          "data": {
            "text/plain": [
              "order_id                         0\n",
              "customer_id                      0\n",
              "order_status                     0\n",
              "order_purchase_timestamp         0\n",
              "order_approved_at                0\n",
              "order_delivered_carrier_date     0\n",
              "order_delivered_customer_date    0\n",
              "order_estimated_delivery_date    0\n",
              "customer_unique_id               0\n",
              "customer_zip_code_prefix         0\n",
              "customer_city                    0\n",
              "customer_state                   0\n",
              "review_id                        0\n",
              "review_score                     0\n",
              "review_comment_title             0\n",
              "review_comment_message           0\n",
              "review_creation_date             0\n",
              "review_answer_timestamp          0\n",
              "payment_sequential               0\n",
              "payment_type                     0\n",
              "payment_installments             0\n",
              "payment_value                    0\n",
              "order_item_id                    0\n",
              "product_id                       0\n",
              "seller_id                        0\n",
              "shipping_limit_date              0\n",
              "price                            0\n",
              "freight_value                    0\n",
              "product_category_name            0\n",
              "product_name_lenght              0\n",
              "product_description_lenght       0\n",
              "product_photos_qty               0\n",
              "product_weight_g                 0\n",
              "product_length_cm                0\n",
              "product_height_cm                0\n",
              "product_width_cm                 0\n",
              "product_category_name_english    0\n",
              "seller_zip_code_prefix           0\n",
              "seller_city                      0\n",
              "seller_state                     0\n",
              "dtype: int64"
            ]
          },
          "metadata": {
            "tags": []
          },
          "execution_count": 184
        }
      ]
    },
    {
      "cell_type": "code",
      "metadata": {
        "id": "VJUAQnqkwm6U"
      },
      "source": [
        "final[['order_purchase_timestamp', 'order_approved_at','order_delivered_carrier_date','order_delivered_customer_date','order_estimated_delivery_date']]=final[['order_purchase_timestamp', 'order_approved_at','order_delivered_carrier_date','order_delivered_customer_date','order_estimated_delivery_date']].apply(pd.to_datetime)"
      ],
      "execution_count": 185,
      "outputs": []
    },
    {
      "cell_type": "code",
      "metadata": {
        "colab": {
          "base_uri": "https://localhost:8080/"
        },
        "id": "VGpmelCtx9di",
        "outputId": "1d009a71-24e2-424a-b71a-b446780e61b0"
      },
      "source": [
        "final.info()"
      ],
      "execution_count": 186,
      "outputs": [
        {
          "output_type": "stream",
          "text": [
            "<class 'pandas.core.frame.DataFrame'>\n",
            "Int64Index: 114050 entries, 0 to 116580\n",
            "Data columns (total 40 columns):\n",
            " #   Column                         Non-Null Count   Dtype         \n",
            "---  ------                         --------------   -----         \n",
            " 0   order_id                       114050 non-null  object        \n",
            " 1   customer_id                    114050 non-null  object        \n",
            " 2   order_status                   114050 non-null  object        \n",
            " 3   order_purchase_timestamp       114050 non-null  datetime64[ns]\n",
            " 4   order_approved_at              114050 non-null  datetime64[ns]\n",
            " 5   order_delivered_carrier_date   114050 non-null  datetime64[ns]\n",
            " 6   order_delivered_customer_date  114050 non-null  datetime64[ns]\n",
            " 7   order_estimated_delivery_date  114050 non-null  datetime64[ns]\n",
            " 8   customer_unique_id             114050 non-null  object        \n",
            " 9   customer_zip_code_prefix       114050 non-null  int64         \n",
            " 10  customer_city                  114050 non-null  object        \n",
            " 11  customer_state                 114050 non-null  object        \n",
            " 12  review_id                      114050 non-null  object        \n",
            " 13  review_score                   114050 non-null  int64         \n",
            " 14  review_comment_title           114050 non-null  object        \n",
            " 15  review_comment_message         114050 non-null  object        \n",
            " 16  review_creation_date           114050 non-null  object        \n",
            " 17  review_answer_timestamp        114050 non-null  object        \n",
            " 18  payment_sequential             114050 non-null  int64         \n",
            " 19  payment_type                   114050 non-null  object        \n",
            " 20  payment_installments           114050 non-null  int64         \n",
            " 21  payment_value                  114050 non-null  float64       \n",
            " 22  order_item_id                  114050 non-null  int64         \n",
            " 23  product_id                     114050 non-null  object        \n",
            " 24  seller_id                      114050 non-null  object        \n",
            " 25  shipping_limit_date            114050 non-null  object        \n",
            " 26  price                          114050 non-null  float64       \n",
            " 27  freight_value                  114050 non-null  float64       \n",
            " 28  product_category_name          114050 non-null  object        \n",
            " 29  product_name_lenght            114050 non-null  float64       \n",
            " 30  product_description_lenght     114050 non-null  float64       \n",
            " 31  product_photos_qty             114050 non-null  float64       \n",
            " 32  product_weight_g               114050 non-null  float64       \n",
            " 33  product_length_cm              114050 non-null  float64       \n",
            " 34  product_height_cm              114050 non-null  float64       \n",
            " 35  product_width_cm               114050 non-null  float64       \n",
            " 36  product_category_name_english  114050 non-null  object        \n",
            " 37  seller_zip_code_prefix         114050 non-null  int64         \n",
            " 38  seller_city                    114050 non-null  object        \n",
            " 39  seller_state                   114050 non-null  object        \n",
            "dtypes: datetime64[ns](5), float64(10), int64(6), object(19)\n",
            "memory usage: 35.7+ MB\n"
          ],
          "name": "stdout"
        }
      ]
    },
    {
      "cell_type": "code",
      "metadata": {
        "colab": {
          "base_uri": "https://localhost:8080/"
        },
        "id": "yNLOUnk7x_hJ",
        "outputId": "996b8ee4-bd4d-4987-8e67-3ac9443a8d5f"
      },
      "source": [
        "print('No. of unique customers in the data is %d'% final['customer_id'].nunique())\r\n",
        "print('Unique customers fraction in the data is %f'% (final['customer_id'].nunique()/final.shape[0]))\r\n",
        "print('No. of unique orders in the data is %d'% final['order_id'].nunique())\r\n",
        "print('Unique orders fraction in the data is %f'% (final['order_id'].nunique()/final.shape[0]))\r\n"
      ],
      "execution_count": 187,
      "outputs": [
        {
          "output_type": "stream",
          "text": [
            "No. of unique customers in the data is 95109\n",
            "Unique customers fraction in the data is 0.833924\n",
            "No. of unique orders in the data is 95109\n",
            "Unique orders fraction in the data is 0.833924\n"
          ],
          "name": "stdout"
        }
      ]
    },
    {
      "cell_type": "code",
      "metadata": {
        "colab": {
          "base_uri": "https://localhost:8080/",
          "height": 378
        },
        "id": "-FHFXiE7yx8s",
        "outputId": "e993781a-acf9-4430-d6d1-dd37f67a0744"
      },
      "source": [
        "#Correlation between variables\r\n",
        "def adding_colour(val):\r\n",
        "  if val < 0:\r\n",
        "    color = 'red'\r\n",
        "  elif 0 < val < 1:\r\n",
        "    color = 'green'\r\n",
        "  else:\r\n",
        "    color = 'black'      \r\n",
        "  return 'color: %s' % color\r\n",
        "\r\n",
        "corr_mat = final.corr().style.applymap(adding_colour) #apply a function to a dataframe\r\n",
        "corr_mat"
      ],
      "execution_count": 188,
      "outputs": [
        {
          "output_type": "execute_result",
          "data": {
            "text/html": [
              "<style  type=\"text/css\" >\n",
              "#T_41e0e19a_5a1a_11eb_b1f9_0242ac1c0002row0_col0,#T_41e0e19a_5a1a_11eb_b1f9_0242ac1c0002row1_col1,#T_41e0e19a_5a1a_11eb_b1f9_0242ac1c0002row2_col2,#T_41e0e19a_5a1a_11eb_b1f9_0242ac1c0002row3_col3,#T_41e0e19a_5a1a_11eb_b1f9_0242ac1c0002row4_col4,#T_41e0e19a_5a1a_11eb_b1f9_0242ac1c0002row5_col5,#T_41e0e19a_5a1a_11eb_b1f9_0242ac1c0002row6_col6,#T_41e0e19a_5a1a_11eb_b1f9_0242ac1c0002row7_col7,#T_41e0e19a_5a1a_11eb_b1f9_0242ac1c0002row8_col8,#T_41e0e19a_5a1a_11eb_b1f9_0242ac1c0002row9_col9,#T_41e0e19a_5a1a_11eb_b1f9_0242ac1c0002row10_col10,#T_41e0e19a_5a1a_11eb_b1f9_0242ac1c0002row11_col11,#T_41e0e19a_5a1a_11eb_b1f9_0242ac1c0002row12_col12,#T_41e0e19a_5a1a_11eb_b1f9_0242ac1c0002row13_col13,#T_41e0e19a_5a1a_11eb_b1f9_0242ac1c0002row14_col14,#T_41e0e19a_5a1a_11eb_b1f9_0242ac1c0002row15_col15{\n",
              "            color:  black;\n",
              "        }#T_41e0e19a_5a1a_11eb_b1f9_0242ac1c0002row0_col1,#T_41e0e19a_5a1a_11eb_b1f9_0242ac1c0002row0_col2,#T_41e0e19a_5a1a_11eb_b1f9_0242ac1c0002row0_col5,#T_41e0e19a_5a1a_11eb_b1f9_0242ac1c0002row0_col14,#T_41e0e19a_5a1a_11eb_b1f9_0242ac1c0002row1_col0,#T_41e0e19a_5a1a_11eb_b1f9_0242ac1c0002row1_col3,#T_41e0e19a_5a1a_11eb_b1f9_0242ac1c0002row1_col4,#T_41e0e19a_5a1a_11eb_b1f9_0242ac1c0002row1_col5,#T_41e0e19a_5a1a_11eb_b1f9_0242ac1c0002row1_col7,#T_41e0e19a_5a1a_11eb_b1f9_0242ac1c0002row1_col8,#T_41e0e19a_5a1a_11eb_b1f9_0242ac1c0002row1_col11,#T_41e0e19a_5a1a_11eb_b1f9_0242ac1c0002row1_col12,#T_41e0e19a_5a1a_11eb_b1f9_0242ac1c0002row1_col13,#T_41e0e19a_5a1a_11eb_b1f9_0242ac1c0002row1_col14,#T_41e0e19a_5a1a_11eb_b1f9_0242ac1c0002row2_col0,#T_41e0e19a_5a1a_11eb_b1f9_0242ac1c0002row2_col3,#T_41e0e19a_5a1a_11eb_b1f9_0242ac1c0002row2_col4,#T_41e0e19a_5a1a_11eb_b1f9_0242ac1c0002row2_col5,#T_41e0e19a_5a1a_11eb_b1f9_0242ac1c0002row2_col8,#T_41e0e19a_5a1a_11eb_b1f9_0242ac1c0002row2_col9,#T_41e0e19a_5a1a_11eb_b1f9_0242ac1c0002row2_col10,#T_41e0e19a_5a1a_11eb_b1f9_0242ac1c0002row3_col1,#T_41e0e19a_5a1a_11eb_b1f9_0242ac1c0002row3_col2,#T_41e0e19a_5a1a_11eb_b1f9_0242ac1c0002row3_col10,#T_41e0e19a_5a1a_11eb_b1f9_0242ac1c0002row4_col1,#T_41e0e19a_5a1a_11eb_b1f9_0242ac1c0002row4_col2,#T_41e0e19a_5a1a_11eb_b1f9_0242ac1c0002row5_col0,#T_41e0e19a_5a1a_11eb_b1f9_0242ac1c0002row5_col1,#T_41e0e19a_5a1a_11eb_b1f9_0242ac1c0002row5_col2,#T_41e0e19a_5a1a_11eb_b1f9_0242ac1c0002row5_col6,#T_41e0e19a_5a1a_11eb_b1f9_0242ac1c0002row5_col7,#T_41e0e19a_5a1a_11eb_b1f9_0242ac1c0002row5_col8,#T_41e0e19a_5a1a_11eb_b1f9_0242ac1c0002row5_col9,#T_41e0e19a_5a1a_11eb_b1f9_0242ac1c0002row5_col10,#T_41e0e19a_5a1a_11eb_b1f9_0242ac1c0002row5_col11,#T_41e0e19a_5a1a_11eb_b1f9_0242ac1c0002row5_col14,#T_41e0e19a_5a1a_11eb_b1f9_0242ac1c0002row5_col15,#T_41e0e19a_5a1a_11eb_b1f9_0242ac1c0002row6_col5,#T_41e0e19a_5a1a_11eb_b1f9_0242ac1c0002row7_col1,#T_41e0e19a_5a1a_11eb_b1f9_0242ac1c0002row7_col5,#T_41e0e19a_5a1a_11eb_b1f9_0242ac1c0002row8_col1,#T_41e0e19a_5a1a_11eb_b1f9_0242ac1c0002row8_col2,#T_41e0e19a_5a1a_11eb_b1f9_0242ac1c0002row8_col5,#T_41e0e19a_5a1a_11eb_b1f9_0242ac1c0002row8_col13,#T_41e0e19a_5a1a_11eb_b1f9_0242ac1c0002row8_col15,#T_41e0e19a_5a1a_11eb_b1f9_0242ac1c0002row9_col2,#T_41e0e19a_5a1a_11eb_b1f9_0242ac1c0002row9_col5,#T_41e0e19a_5a1a_11eb_b1f9_0242ac1c0002row9_col14,#T_41e0e19a_5a1a_11eb_b1f9_0242ac1c0002row10_col2,#T_41e0e19a_5a1a_11eb_b1f9_0242ac1c0002row10_col3,#T_41e0e19a_5a1a_11eb_b1f9_0242ac1c0002row10_col5,#T_41e0e19a_5a1a_11eb_b1f9_0242ac1c0002row10_col13,#T_41e0e19a_5a1a_11eb_b1f9_0242ac1c0002row10_col15,#T_41e0e19a_5a1a_11eb_b1f9_0242ac1c0002row11_col1,#T_41e0e19a_5a1a_11eb_b1f9_0242ac1c0002row11_col5,#T_41e0e19a_5a1a_11eb_b1f9_0242ac1c0002row12_col1,#T_41e0e19a_5a1a_11eb_b1f9_0242ac1c0002row13_col1,#T_41e0e19a_5a1a_11eb_b1f9_0242ac1c0002row13_col8,#T_41e0e19a_5a1a_11eb_b1f9_0242ac1c0002row13_col10,#T_41e0e19a_5a1a_11eb_b1f9_0242ac1c0002row14_col0,#T_41e0e19a_5a1a_11eb_b1f9_0242ac1c0002row14_col1,#T_41e0e19a_5a1a_11eb_b1f9_0242ac1c0002row14_col5,#T_41e0e19a_5a1a_11eb_b1f9_0242ac1c0002row14_col9,#T_41e0e19a_5a1a_11eb_b1f9_0242ac1c0002row14_col15,#T_41e0e19a_5a1a_11eb_b1f9_0242ac1c0002row15_col5,#T_41e0e19a_5a1a_11eb_b1f9_0242ac1c0002row15_col8,#T_41e0e19a_5a1a_11eb_b1f9_0242ac1c0002row15_col10,#T_41e0e19a_5a1a_11eb_b1f9_0242ac1c0002row15_col14{\n",
              "            color:  red;\n",
              "        }#T_41e0e19a_5a1a_11eb_b1f9_0242ac1c0002row0_col3,#T_41e0e19a_5a1a_11eb_b1f9_0242ac1c0002row0_col4,#T_41e0e19a_5a1a_11eb_b1f9_0242ac1c0002row0_col6,#T_41e0e19a_5a1a_11eb_b1f9_0242ac1c0002row0_col7,#T_41e0e19a_5a1a_11eb_b1f9_0242ac1c0002row0_col8,#T_41e0e19a_5a1a_11eb_b1f9_0242ac1c0002row0_col9,#T_41e0e19a_5a1a_11eb_b1f9_0242ac1c0002row0_col10,#T_41e0e19a_5a1a_11eb_b1f9_0242ac1c0002row0_col11,#T_41e0e19a_5a1a_11eb_b1f9_0242ac1c0002row0_col12,#T_41e0e19a_5a1a_11eb_b1f9_0242ac1c0002row0_col13,#T_41e0e19a_5a1a_11eb_b1f9_0242ac1c0002row0_col15,#T_41e0e19a_5a1a_11eb_b1f9_0242ac1c0002row1_col2,#T_41e0e19a_5a1a_11eb_b1f9_0242ac1c0002row1_col6,#T_41e0e19a_5a1a_11eb_b1f9_0242ac1c0002row1_col9,#T_41e0e19a_5a1a_11eb_b1f9_0242ac1c0002row1_col10,#T_41e0e19a_5a1a_11eb_b1f9_0242ac1c0002row1_col15,#T_41e0e19a_5a1a_11eb_b1f9_0242ac1c0002row2_col1,#T_41e0e19a_5a1a_11eb_b1f9_0242ac1c0002row2_col6,#T_41e0e19a_5a1a_11eb_b1f9_0242ac1c0002row2_col7,#T_41e0e19a_5a1a_11eb_b1f9_0242ac1c0002row2_col11,#T_41e0e19a_5a1a_11eb_b1f9_0242ac1c0002row2_col12,#T_41e0e19a_5a1a_11eb_b1f9_0242ac1c0002row2_col13,#T_41e0e19a_5a1a_11eb_b1f9_0242ac1c0002row2_col14,#T_41e0e19a_5a1a_11eb_b1f9_0242ac1c0002row2_col15,#T_41e0e19a_5a1a_11eb_b1f9_0242ac1c0002row3_col0,#T_41e0e19a_5a1a_11eb_b1f9_0242ac1c0002row3_col4,#T_41e0e19a_5a1a_11eb_b1f9_0242ac1c0002row3_col5,#T_41e0e19a_5a1a_11eb_b1f9_0242ac1c0002row3_col6,#T_41e0e19a_5a1a_11eb_b1f9_0242ac1c0002row3_col7,#T_41e0e19a_5a1a_11eb_b1f9_0242ac1c0002row3_col8,#T_41e0e19a_5a1a_11eb_b1f9_0242ac1c0002row3_col9,#T_41e0e19a_5a1a_11eb_b1f9_0242ac1c0002row3_col11,#T_41e0e19a_5a1a_11eb_b1f9_0242ac1c0002row3_col12,#T_41e0e19a_5a1a_11eb_b1f9_0242ac1c0002row3_col13,#T_41e0e19a_5a1a_11eb_b1f9_0242ac1c0002row3_col14,#T_41e0e19a_5a1a_11eb_b1f9_0242ac1c0002row3_col15,#T_41e0e19a_5a1a_11eb_b1f9_0242ac1c0002row4_col0,#T_41e0e19a_5a1a_11eb_b1f9_0242ac1c0002row4_col3,#T_41e0e19a_5a1a_11eb_b1f9_0242ac1c0002row4_col5,#T_41e0e19a_5a1a_11eb_b1f9_0242ac1c0002row4_col6,#T_41e0e19a_5a1a_11eb_b1f9_0242ac1c0002row4_col7,#T_41e0e19a_5a1a_11eb_b1f9_0242ac1c0002row4_col8,#T_41e0e19a_5a1a_11eb_b1f9_0242ac1c0002row4_col9,#T_41e0e19a_5a1a_11eb_b1f9_0242ac1c0002row4_col10,#T_41e0e19a_5a1a_11eb_b1f9_0242ac1c0002row4_col11,#T_41e0e19a_5a1a_11eb_b1f9_0242ac1c0002row4_col12,#T_41e0e19a_5a1a_11eb_b1f9_0242ac1c0002row4_col13,#T_41e0e19a_5a1a_11eb_b1f9_0242ac1c0002row4_col14,#T_41e0e19a_5a1a_11eb_b1f9_0242ac1c0002row4_col15,#T_41e0e19a_5a1a_11eb_b1f9_0242ac1c0002row5_col3,#T_41e0e19a_5a1a_11eb_b1f9_0242ac1c0002row5_col4,#T_41e0e19a_5a1a_11eb_b1f9_0242ac1c0002row5_col12,#T_41e0e19a_5a1a_11eb_b1f9_0242ac1c0002row5_col13,#T_41e0e19a_5a1a_11eb_b1f9_0242ac1c0002row6_col0,#T_41e0e19a_5a1a_11eb_b1f9_0242ac1c0002row6_col1,#T_41e0e19a_5a1a_11eb_b1f9_0242ac1c0002row6_col2,#T_41e0e19a_5a1a_11eb_b1f9_0242ac1c0002row6_col3,#T_41e0e19a_5a1a_11eb_b1f9_0242ac1c0002row6_col4,#T_41e0e19a_5a1a_11eb_b1f9_0242ac1c0002row6_col7,#T_41e0e19a_5a1a_11eb_b1f9_0242ac1c0002row6_col8,#T_41e0e19a_5a1a_11eb_b1f9_0242ac1c0002row6_col9,#T_41e0e19a_5a1a_11eb_b1f9_0242ac1c0002row6_col10,#T_41e0e19a_5a1a_11eb_b1f9_0242ac1c0002row6_col11,#T_41e0e19a_5a1a_11eb_b1f9_0242ac1c0002row6_col12,#T_41e0e19a_5a1a_11eb_b1f9_0242ac1c0002row6_col13,#T_41e0e19a_5a1a_11eb_b1f9_0242ac1c0002row6_col14,#T_41e0e19a_5a1a_11eb_b1f9_0242ac1c0002row6_col15,#T_41e0e19a_5a1a_11eb_b1f9_0242ac1c0002row7_col0,#T_41e0e19a_5a1a_11eb_b1f9_0242ac1c0002row7_col2,#T_41e0e19a_5a1a_11eb_b1f9_0242ac1c0002row7_col3,#T_41e0e19a_5a1a_11eb_b1f9_0242ac1c0002row7_col4,#T_41e0e19a_5a1a_11eb_b1f9_0242ac1c0002row7_col6,#T_41e0e19a_5a1a_11eb_b1f9_0242ac1c0002row7_col8,#T_41e0e19a_5a1a_11eb_b1f9_0242ac1c0002row7_col9,#T_41e0e19a_5a1a_11eb_b1f9_0242ac1c0002row7_col10,#T_41e0e19a_5a1a_11eb_b1f9_0242ac1c0002row7_col11,#T_41e0e19a_5a1a_11eb_b1f9_0242ac1c0002row7_col12,#T_41e0e19a_5a1a_11eb_b1f9_0242ac1c0002row7_col13,#T_41e0e19a_5a1a_11eb_b1f9_0242ac1c0002row7_col14,#T_41e0e19a_5a1a_11eb_b1f9_0242ac1c0002row7_col15,#T_41e0e19a_5a1a_11eb_b1f9_0242ac1c0002row8_col0,#T_41e0e19a_5a1a_11eb_b1f9_0242ac1c0002row8_col3,#T_41e0e19a_5a1a_11eb_b1f9_0242ac1c0002row8_col4,#T_41e0e19a_5a1a_11eb_b1f9_0242ac1c0002row8_col6,#T_41e0e19a_5a1a_11eb_b1f9_0242ac1c0002row8_col7,#T_41e0e19a_5a1a_11eb_b1f9_0242ac1c0002row8_col9,#T_41e0e19a_5a1a_11eb_b1f9_0242ac1c0002row8_col10,#T_41e0e19a_5a1a_11eb_b1f9_0242ac1c0002row8_col11,#T_41e0e19a_5a1a_11eb_b1f9_0242ac1c0002row8_col12,#T_41e0e19a_5a1a_11eb_b1f9_0242ac1c0002row8_col14,#T_41e0e19a_5a1a_11eb_b1f9_0242ac1c0002row9_col0,#T_41e0e19a_5a1a_11eb_b1f9_0242ac1c0002row9_col1,#T_41e0e19a_5a1a_11eb_b1f9_0242ac1c0002row9_col3,#T_41e0e19a_5a1a_11eb_b1f9_0242ac1c0002row9_col4,#T_41e0e19a_5a1a_11eb_b1f9_0242ac1c0002row9_col6,#T_41e0e19a_5a1a_11eb_b1f9_0242ac1c0002row9_col7,#T_41e0e19a_5a1a_11eb_b1f9_0242ac1c0002row9_col8,#T_41e0e19a_5a1a_11eb_b1f9_0242ac1c0002row9_col10,#T_41e0e19a_5a1a_11eb_b1f9_0242ac1c0002row9_col11,#T_41e0e19a_5a1a_11eb_b1f9_0242ac1c0002row9_col12,#T_41e0e19a_5a1a_11eb_b1f9_0242ac1c0002row9_col13,#T_41e0e19a_5a1a_11eb_b1f9_0242ac1c0002row9_col15,#T_41e0e19a_5a1a_11eb_b1f9_0242ac1c0002row10_col0,#T_41e0e19a_5a1a_11eb_b1f9_0242ac1c0002row10_col1,#T_41e0e19a_5a1a_11eb_b1f9_0242ac1c0002row10_col4,#T_41e0e19a_5a1a_11eb_b1f9_0242ac1c0002row10_col6,#T_41e0e19a_5a1a_11eb_b1f9_0242ac1c0002row10_col7,#T_41e0e19a_5a1a_11eb_b1f9_0242ac1c0002row10_col8,#T_41e0e19a_5a1a_11eb_b1f9_0242ac1c0002row10_col9,#T_41e0e19a_5a1a_11eb_b1f9_0242ac1c0002row10_col11,#T_41e0e19a_5a1a_11eb_b1f9_0242ac1c0002row10_col12,#T_41e0e19a_5a1a_11eb_b1f9_0242ac1c0002row10_col14,#T_41e0e19a_5a1a_11eb_b1f9_0242ac1c0002row11_col0,#T_41e0e19a_5a1a_11eb_b1f9_0242ac1c0002row11_col2,#T_41e0e19a_5a1a_11eb_b1f9_0242ac1c0002row11_col3,#T_41e0e19a_5a1a_11eb_b1f9_0242ac1c0002row11_col4,#T_41e0e19a_5a1a_11eb_b1f9_0242ac1c0002row11_col6,#T_41e0e19a_5a1a_11eb_b1f9_0242ac1c0002row11_col7,#T_41e0e19a_5a1a_11eb_b1f9_0242ac1c0002row11_col8,#T_41e0e19a_5a1a_11eb_b1f9_0242ac1c0002row11_col9,#T_41e0e19a_5a1a_11eb_b1f9_0242ac1c0002row11_col10,#T_41e0e19a_5a1a_11eb_b1f9_0242ac1c0002row11_col12,#T_41e0e19a_5a1a_11eb_b1f9_0242ac1c0002row11_col13,#T_41e0e19a_5a1a_11eb_b1f9_0242ac1c0002row11_col14,#T_41e0e19a_5a1a_11eb_b1f9_0242ac1c0002row11_col15,#T_41e0e19a_5a1a_11eb_b1f9_0242ac1c0002row12_col0,#T_41e0e19a_5a1a_11eb_b1f9_0242ac1c0002row12_col2,#T_41e0e19a_5a1a_11eb_b1f9_0242ac1c0002row12_col3,#T_41e0e19a_5a1a_11eb_b1f9_0242ac1c0002row12_col4,#T_41e0e19a_5a1a_11eb_b1f9_0242ac1c0002row12_col5,#T_41e0e19a_5a1a_11eb_b1f9_0242ac1c0002row12_col6,#T_41e0e19a_5a1a_11eb_b1f9_0242ac1c0002row12_col7,#T_41e0e19a_5a1a_11eb_b1f9_0242ac1c0002row12_col8,#T_41e0e19a_5a1a_11eb_b1f9_0242ac1c0002row12_col9,#T_41e0e19a_5a1a_11eb_b1f9_0242ac1c0002row12_col10,#T_41e0e19a_5a1a_11eb_b1f9_0242ac1c0002row12_col11,#T_41e0e19a_5a1a_11eb_b1f9_0242ac1c0002row12_col13,#T_41e0e19a_5a1a_11eb_b1f9_0242ac1c0002row12_col14,#T_41e0e19a_5a1a_11eb_b1f9_0242ac1c0002row12_col15,#T_41e0e19a_5a1a_11eb_b1f9_0242ac1c0002row13_col0,#T_41e0e19a_5a1a_11eb_b1f9_0242ac1c0002row13_col2,#T_41e0e19a_5a1a_11eb_b1f9_0242ac1c0002row13_col3,#T_41e0e19a_5a1a_11eb_b1f9_0242ac1c0002row13_col4,#T_41e0e19a_5a1a_11eb_b1f9_0242ac1c0002row13_col5,#T_41e0e19a_5a1a_11eb_b1f9_0242ac1c0002row13_col6,#T_41e0e19a_5a1a_11eb_b1f9_0242ac1c0002row13_col7,#T_41e0e19a_5a1a_11eb_b1f9_0242ac1c0002row13_col9,#T_41e0e19a_5a1a_11eb_b1f9_0242ac1c0002row13_col11,#T_41e0e19a_5a1a_11eb_b1f9_0242ac1c0002row13_col12,#T_41e0e19a_5a1a_11eb_b1f9_0242ac1c0002row13_col14,#T_41e0e19a_5a1a_11eb_b1f9_0242ac1c0002row13_col15,#T_41e0e19a_5a1a_11eb_b1f9_0242ac1c0002row14_col2,#T_41e0e19a_5a1a_11eb_b1f9_0242ac1c0002row14_col3,#T_41e0e19a_5a1a_11eb_b1f9_0242ac1c0002row14_col4,#T_41e0e19a_5a1a_11eb_b1f9_0242ac1c0002row14_col6,#T_41e0e19a_5a1a_11eb_b1f9_0242ac1c0002row14_col7,#T_41e0e19a_5a1a_11eb_b1f9_0242ac1c0002row14_col8,#T_41e0e19a_5a1a_11eb_b1f9_0242ac1c0002row14_col10,#T_41e0e19a_5a1a_11eb_b1f9_0242ac1c0002row14_col11,#T_41e0e19a_5a1a_11eb_b1f9_0242ac1c0002row14_col12,#T_41e0e19a_5a1a_11eb_b1f9_0242ac1c0002row14_col13,#T_41e0e19a_5a1a_11eb_b1f9_0242ac1c0002row15_col0,#T_41e0e19a_5a1a_11eb_b1f9_0242ac1c0002row15_col1,#T_41e0e19a_5a1a_11eb_b1f9_0242ac1c0002row15_col2,#T_41e0e19a_5a1a_11eb_b1f9_0242ac1c0002row15_col3,#T_41e0e19a_5a1a_11eb_b1f9_0242ac1c0002row15_col4,#T_41e0e19a_5a1a_11eb_b1f9_0242ac1c0002row15_col6,#T_41e0e19a_5a1a_11eb_b1f9_0242ac1c0002row15_col7,#T_41e0e19a_5a1a_11eb_b1f9_0242ac1c0002row15_col9,#T_41e0e19a_5a1a_11eb_b1f9_0242ac1c0002row15_col11,#T_41e0e19a_5a1a_11eb_b1f9_0242ac1c0002row15_col12,#T_41e0e19a_5a1a_11eb_b1f9_0242ac1c0002row15_col13{\n",
              "            color:  green;\n",
              "        }</style><table id=\"T_41e0e19a_5a1a_11eb_b1f9_0242ac1c0002\" ><thead>    <tr>        <th class=\"blank level0\" ></th>        <th class=\"col_heading level0 col0\" >customer_zip_code_prefix</th>        <th class=\"col_heading level0 col1\" >review_score</th>        <th class=\"col_heading level0 col2\" >payment_sequential</th>        <th class=\"col_heading level0 col3\" >payment_installments</th>        <th class=\"col_heading level0 col4\" >payment_value</th>        <th class=\"col_heading level0 col5\" >order_item_id</th>        <th class=\"col_heading level0 col6\" >price</th>        <th class=\"col_heading level0 col7\" >freight_value</th>        <th class=\"col_heading level0 col8\" >product_name_lenght</th>        <th class=\"col_heading level0 col9\" >product_description_lenght</th>        <th class=\"col_heading level0 col10\" >product_photos_qty</th>        <th class=\"col_heading level0 col11\" >product_weight_g</th>        <th class=\"col_heading level0 col12\" >product_length_cm</th>        <th class=\"col_heading level0 col13\" >product_height_cm</th>        <th class=\"col_heading level0 col14\" >product_width_cm</th>        <th class=\"col_heading level0 col15\" >seller_zip_code_prefix</th>    </tr></thead><tbody>\n",
              "                <tr>\n",
              "                        <th id=\"T_41e0e19a_5a1a_11eb_b1f9_0242ac1c0002level0_row0\" class=\"row_heading level0 row0\" >customer_zip_code_prefix</th>\n",
              "                        <td id=\"T_41e0e19a_5a1a_11eb_b1f9_0242ac1c0002row0_col0\" class=\"data row0 col0\" >1.000000</td>\n",
              "                        <td id=\"T_41e0e19a_5a1a_11eb_b1f9_0242ac1c0002row0_col1\" class=\"data row0 col1\" >-0.026614</td>\n",
              "                        <td id=\"T_41e0e19a_5a1a_11eb_b1f9_0242ac1c0002row0_col2\" class=\"data row0 col2\" >-0.029259</td>\n",
              "                        <td id=\"T_41e0e19a_5a1a_11eb_b1f9_0242ac1c0002row0_col3\" class=\"data row0 col3\" >0.057836</td>\n",
              "                        <td id=\"T_41e0e19a_5a1a_11eb_b1f9_0242ac1c0002row0_col4\" class=\"data row0 col4\" >0.052727</td>\n",
              "                        <td id=\"T_41e0e19a_5a1a_11eb_b1f9_0242ac1c0002row0_col5\" class=\"data row0 col5\" >-0.000613</td>\n",
              "                        <td id=\"T_41e0e19a_5a1a_11eb_b1f9_0242ac1c0002row0_col6\" class=\"data row0 col6\" >0.041784</td>\n",
              "                        <td id=\"T_41e0e19a_5a1a_11eb_b1f9_0242ac1c0002row0_col7\" class=\"data row0 col7\" >0.225402</td>\n",
              "                        <td id=\"T_41e0e19a_5a1a_11eb_b1f9_0242ac1c0002row0_col8\" class=\"data row0 col8\" >0.016114</td>\n",
              "                        <td id=\"T_41e0e19a_5a1a_11eb_b1f9_0242ac1c0002row0_col9\" class=\"data row0 col9\" >0.024314</td>\n",
              "                        <td id=\"T_41e0e19a_5a1a_11eb_b1f9_0242ac1c0002row0_col10\" class=\"data row0 col10\" >0.021085</td>\n",
              "                        <td id=\"T_41e0e19a_5a1a_11eb_b1f9_0242ac1c0002row0_col11\" class=\"data row0 col11\" >0.001062</td>\n",
              "                        <td id=\"T_41e0e19a_5a1a_11eb_b1f9_0242ac1c0002row0_col12\" class=\"data row0 col12\" >0.003637</td>\n",
              "                        <td id=\"T_41e0e19a_5a1a_11eb_b1f9_0242ac1c0002row0_col13\" class=\"data row0 col13\" >0.011660</td>\n",
              "                        <td id=\"T_41e0e19a_5a1a_11eb_b1f9_0242ac1c0002row0_col14\" class=\"data row0 col14\" >-0.010161</td>\n",
              "                        <td id=\"T_41e0e19a_5a1a_11eb_b1f9_0242ac1c0002row0_col15\" class=\"data row0 col15\" >0.074569</td>\n",
              "            </tr>\n",
              "            <tr>\n",
              "                        <th id=\"T_41e0e19a_5a1a_11eb_b1f9_0242ac1c0002level0_row1\" class=\"row_heading level0 row1\" >review_score</th>\n",
              "                        <td id=\"T_41e0e19a_5a1a_11eb_b1f9_0242ac1c0002row1_col0\" class=\"data row1 col0\" >-0.026614</td>\n",
              "                        <td id=\"T_41e0e19a_5a1a_11eb_b1f9_0242ac1c0002row1_col1\" class=\"data row1 col1\" >1.000000</td>\n",
              "                        <td id=\"T_41e0e19a_5a1a_11eb_b1f9_0242ac1c0002row1_col2\" class=\"data row1 col2\" >0.005912</td>\n",
              "                        <td id=\"T_41e0e19a_5a1a_11eb_b1f9_0242ac1c0002row1_col3\" class=\"data row1 col3\" >-0.043604</td>\n",
              "                        <td id=\"T_41e0e19a_5a1a_11eb_b1f9_0242ac1c0002row1_col4\" class=\"data row1 col4\" >-0.083850</td>\n",
              "                        <td id=\"T_41e0e19a_5a1a_11eb_b1f9_0242ac1c0002row1_col5\" class=\"data row1 col5\" >-0.138748</td>\n",
              "                        <td id=\"T_41e0e19a_5a1a_11eb_b1f9_0242ac1c0002row1_col6\" class=\"data row1 col6\" >0.001905</td>\n",
              "                        <td id=\"T_41e0e19a_5a1a_11eb_b1f9_0242ac1c0002row1_col7\" class=\"data row1 col7\" >-0.034318</td>\n",
              "                        <td id=\"T_41e0e19a_5a1a_11eb_b1f9_0242ac1c0002row1_col8\" class=\"data row1 col8\" >-0.012916</td>\n",
              "                        <td id=\"T_41e0e19a_5a1a_11eb_b1f9_0242ac1c0002row1_col9\" class=\"data row1 col9\" >0.013793</td>\n",
              "                        <td id=\"T_41e0e19a_5a1a_11eb_b1f9_0242ac1c0002row1_col10\" class=\"data row1 col10\" >0.021490</td>\n",
              "                        <td id=\"T_41e0e19a_5a1a_11eb_b1f9_0242ac1c0002row1_col11\" class=\"data row1 col11\" >-0.027440</td>\n",
              "                        <td id=\"T_41e0e19a_5a1a_11eb_b1f9_0242ac1c0002row1_col12\" class=\"data row1 col12\" >-0.020896</td>\n",
              "                        <td id=\"T_41e0e19a_5a1a_11eb_b1f9_0242ac1c0002row1_col13\" class=\"data row1 col13\" >-0.023751</td>\n",
              "                        <td id=\"T_41e0e19a_5a1a_11eb_b1f9_0242ac1c0002row1_col14\" class=\"data row1 col14\" >-0.012334</td>\n",
              "                        <td id=\"T_41e0e19a_5a1a_11eb_b1f9_0242ac1c0002row1_col15\" class=\"data row1 col15\" >0.026886</td>\n",
              "            </tr>\n",
              "            <tr>\n",
              "                        <th id=\"T_41e0e19a_5a1a_11eb_b1f9_0242ac1c0002level0_row2\" class=\"row_heading level0 row2\" >payment_sequential</th>\n",
              "                        <td id=\"T_41e0e19a_5a1a_11eb_b1f9_0242ac1c0002row2_col0\" class=\"data row2 col0\" >-0.029259</td>\n",
              "                        <td id=\"T_41e0e19a_5a1a_11eb_b1f9_0242ac1c0002row2_col1\" class=\"data row2 col1\" >0.005912</td>\n",
              "                        <td id=\"T_41e0e19a_5a1a_11eb_b1f9_0242ac1c0002row2_col2\" class=\"data row2 col2\" >1.000000</td>\n",
              "                        <td id=\"T_41e0e19a_5a1a_11eb_b1f9_0242ac1c0002row2_col3\" class=\"data row2 col3\" >-0.088019</td>\n",
              "                        <td id=\"T_41e0e19a_5a1a_11eb_b1f9_0242ac1c0002row2_col4\" class=\"data row2 col4\" >-0.065459</td>\n",
              "                        <td id=\"T_41e0e19a_5a1a_11eb_b1f9_0242ac1c0002row2_col5\" class=\"data row2 col5\" >-0.000863</td>\n",
              "                        <td id=\"T_41e0e19a_5a1a_11eb_b1f9_0242ac1c0002row2_col6\" class=\"data row2 col6\" >0.000140</td>\n",
              "                        <td id=\"T_41e0e19a_5a1a_11eb_b1f9_0242ac1c0002row2_col7\" class=\"data row2 col7\" >0.007617</td>\n",
              "                        <td id=\"T_41e0e19a_5a1a_11eb_b1f9_0242ac1c0002row2_col8\" class=\"data row2 col8\" >-0.002240</td>\n",
              "                        <td id=\"T_41e0e19a_5a1a_11eb_b1f9_0242ac1c0002row2_col9\" class=\"data row2 col9\" >-0.010511</td>\n",
              "                        <td id=\"T_41e0e19a_5a1a_11eb_b1f9_0242ac1c0002row2_col10\" class=\"data row2 col10\" >-0.008421</td>\n",
              "                        <td id=\"T_41e0e19a_5a1a_11eb_b1f9_0242ac1c0002row2_col11\" class=\"data row2 col11\" >0.025353</td>\n",
              "                        <td id=\"T_41e0e19a_5a1a_11eb_b1f9_0242ac1c0002row2_col12\" class=\"data row2 col12\" >0.029856</td>\n",
              "                        <td id=\"T_41e0e19a_5a1a_11eb_b1f9_0242ac1c0002row2_col13\" class=\"data row2 col13\" >0.019920</td>\n",
              "                        <td id=\"T_41e0e19a_5a1a_11eb_b1f9_0242ac1c0002row2_col14\" class=\"data row2 col14\" >0.029783</td>\n",
              "                        <td id=\"T_41e0e19a_5a1a_11eb_b1f9_0242ac1c0002row2_col15\" class=\"data row2 col15\" >0.004570</td>\n",
              "            </tr>\n",
              "            <tr>\n",
              "                        <th id=\"T_41e0e19a_5a1a_11eb_b1f9_0242ac1c0002level0_row3\" class=\"row_heading level0 row3\" >payment_installments</th>\n",
              "                        <td id=\"T_41e0e19a_5a1a_11eb_b1f9_0242ac1c0002row3_col0\" class=\"data row3 col0\" >0.057836</td>\n",
              "                        <td id=\"T_41e0e19a_5a1a_11eb_b1f9_0242ac1c0002row3_col1\" class=\"data row3 col1\" >-0.043604</td>\n",
              "                        <td id=\"T_41e0e19a_5a1a_11eb_b1f9_0242ac1c0002row3_col2\" class=\"data row3 col2\" >-0.088019</td>\n",
              "                        <td id=\"T_41e0e19a_5a1a_11eb_b1f9_0242ac1c0002row3_col3\" class=\"data row3 col3\" >1.000000</td>\n",
              "                        <td id=\"T_41e0e19a_5a1a_11eb_b1f9_0242ac1c0002row3_col4\" class=\"data row3 col4\" >0.273855</td>\n",
              "                        <td id=\"T_41e0e19a_5a1a_11eb_b1f9_0242ac1c0002row3_col5\" class=\"data row3 col5\" >0.074502</td>\n",
              "                        <td id=\"T_41e0e19a_5a1a_11eb_b1f9_0242ac1c0002row3_col6\" class=\"data row3 col6\" >0.278473</td>\n",
              "                        <td id=\"T_41e0e19a_5a1a_11eb_b1f9_0242ac1c0002row3_col7\" class=\"data row3 col7\" >0.186203</td>\n",
              "                        <td id=\"T_41e0e19a_5a1a_11eb_b1f9_0242ac1c0002row3_col8\" class=\"data row3 col8\" >0.021244</td>\n",
              "                        <td id=\"T_41e0e19a_5a1a_11eb_b1f9_0242ac1c0002row3_col9\" class=\"data row3 col9\" >0.035974</td>\n",
              "                        <td id=\"T_41e0e19a_5a1a_11eb_b1f9_0242ac1c0002row3_col10\" class=\"data row3 col10\" >-0.000817</td>\n",
              "                        <td id=\"T_41e0e19a_5a1a_11eb_b1f9_0242ac1c0002row3_col11\" class=\"data row3 col11\" >0.179232</td>\n",
              "                        <td id=\"T_41e0e19a_5a1a_11eb_b1f9_0242ac1c0002row3_col12\" class=\"data row3 col12\" >0.116802</td>\n",
              "                        <td id=\"T_41e0e19a_5a1a_11eb_b1f9_0242ac1c0002row3_col13\" class=\"data row3 col13\" >0.120890</td>\n",
              "                        <td id=\"T_41e0e19a_5a1a_11eb_b1f9_0242ac1c0002row3_col14\" class=\"data row3 col14\" >0.137287</td>\n",
              "                        <td id=\"T_41e0e19a_5a1a_11eb_b1f9_0242ac1c0002row3_col15\" class=\"data row3 col15\" >0.038137</td>\n",
              "            </tr>\n",
              "            <tr>\n",
              "                        <th id=\"T_41e0e19a_5a1a_11eb_b1f9_0242ac1c0002level0_row4\" class=\"row_heading level0 row4\" >payment_value</th>\n",
              "                        <td id=\"T_41e0e19a_5a1a_11eb_b1f9_0242ac1c0002row4_col0\" class=\"data row4 col0\" >0.052727</td>\n",
              "                        <td id=\"T_41e0e19a_5a1a_11eb_b1f9_0242ac1c0002row4_col1\" class=\"data row4 col1\" >-0.083850</td>\n",
              "                        <td id=\"T_41e0e19a_5a1a_11eb_b1f9_0242ac1c0002row4_col2\" class=\"data row4 col2\" >-0.065459</td>\n",
              "                        <td id=\"T_41e0e19a_5a1a_11eb_b1f9_0242ac1c0002row4_col3\" class=\"data row4 col3\" >0.273855</td>\n",
              "                        <td id=\"T_41e0e19a_5a1a_11eb_b1f9_0242ac1c0002row4_col4\" class=\"data row4 col4\" >1.000000</td>\n",
              "                        <td id=\"T_41e0e19a_5a1a_11eb_b1f9_0242ac1c0002row4_col5\" class=\"data row4 col5\" >0.267528</td>\n",
              "                        <td id=\"T_41e0e19a_5a1a_11eb_b1f9_0242ac1c0002row4_col6\" class=\"data row4 col6\" >0.736304</td>\n",
              "                        <td id=\"T_41e0e19a_5a1a_11eb_b1f9_0242ac1c0002row4_col7\" class=\"data row4 col7\" >0.372418</td>\n",
              "                        <td id=\"T_41e0e19a_5a1a_11eb_b1f9_0242ac1c0002row4_col8\" class=\"data row4 col8\" >0.004450</td>\n",
              "                        <td id=\"T_41e0e19a_5a1a_11eb_b1f9_0242ac1c0002row4_col9\" class=\"data row4 col9\" >0.157040</td>\n",
              "                        <td id=\"T_41e0e19a_5a1a_11eb_b1f9_0242ac1c0002row4_col10\" class=\"data row4 col10\" >0.010337</td>\n",
              "                        <td id=\"T_41e0e19a_5a1a_11eb_b1f9_0242ac1c0002row4_col11\" class=\"data row4 col11\" >0.305913</td>\n",
              "                        <td id=\"T_41e0e19a_5a1a_11eb_b1f9_0242ac1c0002row4_col12\" class=\"data row4 col12\" >0.138342</td>\n",
              "                        <td id=\"T_41e0e19a_5a1a_11eb_b1f9_0242ac1c0002row4_col13\" class=\"data row4 col13\" >0.216862</td>\n",
              "                        <td id=\"T_41e0e19a_5a1a_11eb_b1f9_0242ac1c0002row4_col14\" class=\"data row4 col14\" >0.148574</td>\n",
              "                        <td id=\"T_41e0e19a_5a1a_11eb_b1f9_0242ac1c0002row4_col15\" class=\"data row4 col15\" >0.069656</td>\n",
              "            </tr>\n",
              "            <tr>\n",
              "                        <th id=\"T_41e0e19a_5a1a_11eb_b1f9_0242ac1c0002level0_row5\" class=\"row_heading level0 row5\" >order_item_id</th>\n",
              "                        <td id=\"T_41e0e19a_5a1a_11eb_b1f9_0242ac1c0002row5_col0\" class=\"data row5 col0\" >-0.000613</td>\n",
              "                        <td id=\"T_41e0e19a_5a1a_11eb_b1f9_0242ac1c0002row5_col1\" class=\"data row5 col1\" >-0.138748</td>\n",
              "                        <td id=\"T_41e0e19a_5a1a_11eb_b1f9_0242ac1c0002row5_col2\" class=\"data row5 col2\" >-0.000863</td>\n",
              "                        <td id=\"T_41e0e19a_5a1a_11eb_b1f9_0242ac1c0002row5_col3\" class=\"data row5 col3\" >0.074502</td>\n",
              "                        <td id=\"T_41e0e19a_5a1a_11eb_b1f9_0242ac1c0002row5_col4\" class=\"data row5 col4\" >0.267528</td>\n",
              "                        <td id=\"T_41e0e19a_5a1a_11eb_b1f9_0242ac1c0002row5_col5\" class=\"data row5 col5\" >1.000000</td>\n",
              "                        <td id=\"T_41e0e19a_5a1a_11eb_b1f9_0242ac1c0002row5_col6\" class=\"data row5 col6\" >-0.060427</td>\n",
              "                        <td id=\"T_41e0e19a_5a1a_11eb_b1f9_0242ac1c0002row5_col7\" class=\"data row5 col7\" >-0.030461</td>\n",
              "                        <td id=\"T_41e0e19a_5a1a_11eb_b1f9_0242ac1c0002row5_col8\" class=\"data row5 col8\" >-0.023447</td>\n",
              "                        <td id=\"T_41e0e19a_5a1a_11eb_b1f9_0242ac1c0002row5_col9\" class=\"data row5 col9\" >-0.014270</td>\n",
              "                        <td id=\"T_41e0e19a_5a1a_11eb_b1f9_0242ac1c0002row5_col10\" class=\"data row5 col10\" >-0.054132</td>\n",
              "                        <td id=\"T_41e0e19a_5a1a_11eb_b1f9_0242ac1c0002row5_col11\" class=\"data row5 col11\" >-0.003413</td>\n",
              "                        <td id=\"T_41e0e19a_5a1a_11eb_b1f9_0242ac1c0002row5_col12\" class=\"data row5 col12\" >0.005940</td>\n",
              "                        <td id=\"T_41e0e19a_5a1a_11eb_b1f9_0242ac1c0002row5_col13\" class=\"data row5 col13\" >0.030487</td>\n",
              "                        <td id=\"T_41e0e19a_5a1a_11eb_b1f9_0242ac1c0002row5_col14\" class=\"data row5 col14\" >-0.009114</td>\n",
              "                        <td id=\"T_41e0e19a_5a1a_11eb_b1f9_0242ac1c0002row5_col15\" class=\"data row5 col15\" >-0.019483</td>\n",
              "            </tr>\n",
              "            <tr>\n",
              "                        <th id=\"T_41e0e19a_5a1a_11eb_b1f9_0242ac1c0002level0_row6\" class=\"row_heading level0 row6\" >price</th>\n",
              "                        <td id=\"T_41e0e19a_5a1a_11eb_b1f9_0242ac1c0002row6_col0\" class=\"data row6 col0\" >0.041784</td>\n",
              "                        <td id=\"T_41e0e19a_5a1a_11eb_b1f9_0242ac1c0002row6_col1\" class=\"data row6 col1\" >0.001905</td>\n",
              "                        <td id=\"T_41e0e19a_5a1a_11eb_b1f9_0242ac1c0002row6_col2\" class=\"data row6 col2\" >0.000140</td>\n",
              "                        <td id=\"T_41e0e19a_5a1a_11eb_b1f9_0242ac1c0002row6_col3\" class=\"data row6 col3\" >0.278473</td>\n",
              "                        <td id=\"T_41e0e19a_5a1a_11eb_b1f9_0242ac1c0002row6_col4\" class=\"data row6 col4\" >0.736304</td>\n",
              "                        <td id=\"T_41e0e19a_5a1a_11eb_b1f9_0242ac1c0002row6_col5\" class=\"data row6 col5\" >-0.060427</td>\n",
              "                        <td id=\"T_41e0e19a_5a1a_11eb_b1f9_0242ac1c0002row6_col6\" class=\"data row6 col6\" >1.000000</td>\n",
              "                        <td id=\"T_41e0e19a_5a1a_11eb_b1f9_0242ac1c0002row6_col7\" class=\"data row6 col7\" >0.415072</td>\n",
              "                        <td id=\"T_41e0e19a_5a1a_11eb_b1f9_0242ac1c0002row6_col8\" class=\"data row6 col8\" >0.019810</td>\n",
              "                        <td id=\"T_41e0e19a_5a1a_11eb_b1f9_0242ac1c0002row6_col9\" class=\"data row6 col9\" >0.200829</td>\n",
              "                        <td id=\"T_41e0e19a_5a1a_11eb_b1f9_0242ac1c0002row6_col10\" class=\"data row6 col10\" >0.053278</td>\n",
              "                        <td id=\"T_41e0e19a_5a1a_11eb_b1f9_0242ac1c0002row6_col11\" class=\"data row6 col11\" >0.340063</td>\n",
              "                        <td id=\"T_41e0e19a_5a1a_11eb_b1f9_0242ac1c0002row6_col12\" class=\"data row6 col12\" >0.142909</td>\n",
              "                        <td id=\"T_41e0e19a_5a1a_11eb_b1f9_0242ac1c0002row6_col13\" class=\"data row6 col13\" >0.223046</td>\n",
              "                        <td id=\"T_41e0e19a_5a1a_11eb_b1f9_0242ac1c0002row6_col14\" class=\"data row6 col14\" >0.172966</td>\n",
              "                        <td id=\"T_41e0e19a_5a1a_11eb_b1f9_0242ac1c0002row6_col15\" class=\"data row6 col15\" >0.088787</td>\n",
              "            </tr>\n",
              "            <tr>\n",
              "                        <th id=\"T_41e0e19a_5a1a_11eb_b1f9_0242ac1c0002level0_row7\" class=\"row_heading level0 row7\" >freight_value</th>\n",
              "                        <td id=\"T_41e0e19a_5a1a_11eb_b1f9_0242ac1c0002row7_col0\" class=\"data row7 col0\" >0.225402</td>\n",
              "                        <td id=\"T_41e0e19a_5a1a_11eb_b1f9_0242ac1c0002row7_col1\" class=\"data row7 col1\" >-0.034318</td>\n",
              "                        <td id=\"T_41e0e19a_5a1a_11eb_b1f9_0242ac1c0002row7_col2\" class=\"data row7 col2\" >0.007617</td>\n",
              "                        <td id=\"T_41e0e19a_5a1a_11eb_b1f9_0242ac1c0002row7_col3\" class=\"data row7 col3\" >0.186203</td>\n",
              "                        <td id=\"T_41e0e19a_5a1a_11eb_b1f9_0242ac1c0002row7_col4\" class=\"data row7 col4\" >0.372418</td>\n",
              "                        <td id=\"T_41e0e19a_5a1a_11eb_b1f9_0242ac1c0002row7_col5\" class=\"data row7 col5\" >-0.030461</td>\n",
              "                        <td id=\"T_41e0e19a_5a1a_11eb_b1f9_0242ac1c0002row7_col6\" class=\"data row7 col6\" >0.415072</td>\n",
              "                        <td id=\"T_41e0e19a_5a1a_11eb_b1f9_0242ac1c0002row7_col7\" class=\"data row7 col7\" >1.000000</td>\n",
              "                        <td id=\"T_41e0e19a_5a1a_11eb_b1f9_0242ac1c0002row7_col8\" class=\"data row7 col8\" >0.025221</td>\n",
              "                        <td id=\"T_41e0e19a_5a1a_11eb_b1f9_0242ac1c0002row7_col9\" class=\"data row7 col9\" >0.095033</td>\n",
              "                        <td id=\"T_41e0e19a_5a1a_11eb_b1f9_0242ac1c0002row7_col10\" class=\"data row7 col10\" >0.022933</td>\n",
              "                        <td id=\"T_41e0e19a_5a1a_11eb_b1f9_0242ac1c0002row7_col11\" class=\"data row7 col11\" >0.612278</td>\n",
              "                        <td id=\"T_41e0e19a_5a1a_11eb_b1f9_0242ac1c0002row7_col12\" class=\"data row7 col12\" >0.303760</td>\n",
              "                        <td id=\"T_41e0e19a_5a1a_11eb_b1f9_0242ac1c0002row7_col13\" class=\"data row7 col13\" >0.391575</td>\n",
              "                        <td id=\"T_41e0e19a_5a1a_11eb_b1f9_0242ac1c0002row7_col14\" class=\"data row7 col14\" >0.322470</td>\n",
              "                        <td id=\"T_41e0e19a_5a1a_11eb_b1f9_0242ac1c0002row7_col15\" class=\"data row7 col15\" >0.150772</td>\n",
              "            </tr>\n",
              "            <tr>\n",
              "                        <th id=\"T_41e0e19a_5a1a_11eb_b1f9_0242ac1c0002level0_row8\" class=\"row_heading level0 row8\" >product_name_lenght</th>\n",
              "                        <td id=\"T_41e0e19a_5a1a_11eb_b1f9_0242ac1c0002row8_col0\" class=\"data row8 col0\" >0.016114</td>\n",
              "                        <td id=\"T_41e0e19a_5a1a_11eb_b1f9_0242ac1c0002row8_col1\" class=\"data row8 col1\" >-0.012916</td>\n",
              "                        <td id=\"T_41e0e19a_5a1a_11eb_b1f9_0242ac1c0002row8_col2\" class=\"data row8 col2\" >-0.002240</td>\n",
              "                        <td id=\"T_41e0e19a_5a1a_11eb_b1f9_0242ac1c0002row8_col3\" class=\"data row8 col3\" >0.021244</td>\n",
              "                        <td id=\"T_41e0e19a_5a1a_11eb_b1f9_0242ac1c0002row8_col4\" class=\"data row8 col4\" >0.004450</td>\n",
              "                        <td id=\"T_41e0e19a_5a1a_11eb_b1f9_0242ac1c0002row8_col5\" class=\"data row8 col5\" >-0.023447</td>\n",
              "                        <td id=\"T_41e0e19a_5a1a_11eb_b1f9_0242ac1c0002row8_col6\" class=\"data row8 col6\" >0.019810</td>\n",
              "                        <td id=\"T_41e0e19a_5a1a_11eb_b1f9_0242ac1c0002row8_col7\" class=\"data row8 col7\" >0.025221</td>\n",
              "                        <td id=\"T_41e0e19a_5a1a_11eb_b1f9_0242ac1c0002row8_col8\" class=\"data row8 col8\" >1.000000</td>\n",
              "                        <td id=\"T_41e0e19a_5a1a_11eb_b1f9_0242ac1c0002row8_col9\" class=\"data row8 col9\" >0.090450</td>\n",
              "                        <td id=\"T_41e0e19a_5a1a_11eb_b1f9_0242ac1c0002row8_col10\" class=\"data row8 col10\" >0.145157</td>\n",
              "                        <td id=\"T_41e0e19a_5a1a_11eb_b1f9_0242ac1c0002row8_col11\" class=\"data row8 col11\" >0.022441</td>\n",
              "                        <td id=\"T_41e0e19a_5a1a_11eb_b1f9_0242ac1c0002row8_col12\" class=\"data row8 col12\" >0.062426</td>\n",
              "                        <td id=\"T_41e0e19a_5a1a_11eb_b1f9_0242ac1c0002row8_col13\" class=\"data row8 col13\" >-0.030314</td>\n",
              "                        <td id=\"T_41e0e19a_5a1a_11eb_b1f9_0242ac1c0002row8_col14\" class=\"data row8 col14\" >0.063357</td>\n",
              "                        <td id=\"T_41e0e19a_5a1a_11eb_b1f9_0242ac1c0002row8_col15\" class=\"data row8 col15\" >-0.032158</td>\n",
              "            </tr>\n",
              "            <tr>\n",
              "                        <th id=\"T_41e0e19a_5a1a_11eb_b1f9_0242ac1c0002level0_row9\" class=\"row_heading level0 row9\" >product_description_lenght</th>\n",
              "                        <td id=\"T_41e0e19a_5a1a_11eb_b1f9_0242ac1c0002row9_col0\" class=\"data row9 col0\" >0.024314</td>\n",
              "                        <td id=\"T_41e0e19a_5a1a_11eb_b1f9_0242ac1c0002row9_col1\" class=\"data row9 col1\" >0.013793</td>\n",
              "                        <td id=\"T_41e0e19a_5a1a_11eb_b1f9_0242ac1c0002row9_col2\" class=\"data row9 col2\" >-0.010511</td>\n",
              "                        <td id=\"T_41e0e19a_5a1a_11eb_b1f9_0242ac1c0002row9_col3\" class=\"data row9 col3\" >0.035974</td>\n",
              "                        <td id=\"T_41e0e19a_5a1a_11eb_b1f9_0242ac1c0002row9_col4\" class=\"data row9 col4\" >0.157040</td>\n",
              "                        <td id=\"T_41e0e19a_5a1a_11eb_b1f9_0242ac1c0002row9_col5\" class=\"data row9 col5\" >-0.014270</td>\n",
              "                        <td id=\"T_41e0e19a_5a1a_11eb_b1f9_0242ac1c0002row9_col6\" class=\"data row9 col6\" >0.200829</td>\n",
              "                        <td id=\"T_41e0e19a_5a1a_11eb_b1f9_0242ac1c0002row9_col7\" class=\"data row9 col7\" >0.095033</td>\n",
              "                        <td id=\"T_41e0e19a_5a1a_11eb_b1f9_0242ac1c0002row9_col8\" class=\"data row9 col8\" >0.090450</td>\n",
              "                        <td id=\"T_41e0e19a_5a1a_11eb_b1f9_0242ac1c0002row9_col9\" class=\"data row9 col9\" >1.000000</td>\n",
              "                        <td id=\"T_41e0e19a_5a1a_11eb_b1f9_0242ac1c0002row9_col10\" class=\"data row9 col10\" >0.119185</td>\n",
              "                        <td id=\"T_41e0e19a_5a1a_11eb_b1f9_0242ac1c0002row9_col11\" class=\"data row9 col11\" >0.059641</td>\n",
              "                        <td id=\"T_41e0e19a_5a1a_11eb_b1f9_0242ac1c0002row9_col12\" class=\"data row9 col12\" >0.003391</td>\n",
              "                        <td id=\"T_41e0e19a_5a1a_11eb_b1f9_0242ac1c0002row9_col13\" class=\"data row9 col13\" >0.073747</td>\n",
              "                        <td id=\"T_41e0e19a_5a1a_11eb_b1f9_0242ac1c0002row9_col14\" class=\"data row9 col14\" >-0.069405</td>\n",
              "                        <td id=\"T_41e0e19a_5a1a_11eb_b1f9_0242ac1c0002row9_col15\" class=\"data row9 col15\" >0.061123</td>\n",
              "            </tr>\n",
              "            <tr>\n",
              "                        <th id=\"T_41e0e19a_5a1a_11eb_b1f9_0242ac1c0002level0_row10\" class=\"row_heading level0 row10\" >product_photos_qty</th>\n",
              "                        <td id=\"T_41e0e19a_5a1a_11eb_b1f9_0242ac1c0002row10_col0\" class=\"data row10 col0\" >0.021085</td>\n",
              "                        <td id=\"T_41e0e19a_5a1a_11eb_b1f9_0242ac1c0002row10_col1\" class=\"data row10 col1\" >0.021490</td>\n",
              "                        <td id=\"T_41e0e19a_5a1a_11eb_b1f9_0242ac1c0002row10_col2\" class=\"data row10 col2\" >-0.008421</td>\n",
              "                        <td id=\"T_41e0e19a_5a1a_11eb_b1f9_0242ac1c0002row10_col3\" class=\"data row10 col3\" >-0.000817</td>\n",
              "                        <td id=\"T_41e0e19a_5a1a_11eb_b1f9_0242ac1c0002row10_col4\" class=\"data row10 col4\" >0.010337</td>\n",
              "                        <td id=\"T_41e0e19a_5a1a_11eb_b1f9_0242ac1c0002row10_col5\" class=\"data row10 col5\" >-0.054132</td>\n",
              "                        <td id=\"T_41e0e19a_5a1a_11eb_b1f9_0242ac1c0002row10_col6\" class=\"data row10 col6\" >0.053278</td>\n",
              "                        <td id=\"T_41e0e19a_5a1a_11eb_b1f9_0242ac1c0002row10_col7\" class=\"data row10 col7\" >0.022933</td>\n",
              "                        <td id=\"T_41e0e19a_5a1a_11eb_b1f9_0242ac1c0002row10_col8\" class=\"data row10 col8\" >0.145157</td>\n",
              "                        <td id=\"T_41e0e19a_5a1a_11eb_b1f9_0242ac1c0002row10_col9\" class=\"data row10 col9\" >0.119185</td>\n",
              "                        <td id=\"T_41e0e19a_5a1a_11eb_b1f9_0242ac1c0002row10_col10\" class=\"data row10 col10\" >1.000000</td>\n",
              "                        <td id=\"T_41e0e19a_5a1a_11eb_b1f9_0242ac1c0002row10_col11\" class=\"data row10 col11\" >0.022560</td>\n",
              "                        <td id=\"T_41e0e19a_5a1a_11eb_b1f9_0242ac1c0002row10_col12\" class=\"data row10 col12\" >0.046336</td>\n",
              "                        <td id=\"T_41e0e19a_5a1a_11eb_b1f9_0242ac1c0002row10_col13\" class=\"data row10 col13\" >-0.033794</td>\n",
              "                        <td id=\"T_41e0e19a_5a1a_11eb_b1f9_0242ac1c0002row10_col14\" class=\"data row10 col14\" >0.007764</td>\n",
              "                        <td id=\"T_41e0e19a_5a1a_11eb_b1f9_0242ac1c0002row10_col15\" class=\"data row10 col15\" >-0.041097</td>\n",
              "            </tr>\n",
              "            <tr>\n",
              "                        <th id=\"T_41e0e19a_5a1a_11eb_b1f9_0242ac1c0002level0_row11\" class=\"row_heading level0 row11\" >product_weight_g</th>\n",
              "                        <td id=\"T_41e0e19a_5a1a_11eb_b1f9_0242ac1c0002row11_col0\" class=\"data row11 col0\" >0.001062</td>\n",
              "                        <td id=\"T_41e0e19a_5a1a_11eb_b1f9_0242ac1c0002row11_col1\" class=\"data row11 col1\" >-0.027440</td>\n",
              "                        <td id=\"T_41e0e19a_5a1a_11eb_b1f9_0242ac1c0002row11_col2\" class=\"data row11 col2\" >0.025353</td>\n",
              "                        <td id=\"T_41e0e19a_5a1a_11eb_b1f9_0242ac1c0002row11_col3\" class=\"data row11 col3\" >0.179232</td>\n",
              "                        <td id=\"T_41e0e19a_5a1a_11eb_b1f9_0242ac1c0002row11_col4\" class=\"data row11 col4\" >0.305913</td>\n",
              "                        <td id=\"T_41e0e19a_5a1a_11eb_b1f9_0242ac1c0002row11_col5\" class=\"data row11 col5\" >-0.003413</td>\n",
              "                        <td id=\"T_41e0e19a_5a1a_11eb_b1f9_0242ac1c0002row11_col6\" class=\"data row11 col6\" >0.340063</td>\n",
              "                        <td id=\"T_41e0e19a_5a1a_11eb_b1f9_0242ac1c0002row11_col7\" class=\"data row11 col7\" >0.612278</td>\n",
              "                        <td id=\"T_41e0e19a_5a1a_11eb_b1f9_0242ac1c0002row11_col8\" class=\"data row11 col8\" >0.022441</td>\n",
              "                        <td id=\"T_41e0e19a_5a1a_11eb_b1f9_0242ac1c0002row11_col9\" class=\"data row11 col9\" >0.059641</td>\n",
              "                        <td id=\"T_41e0e19a_5a1a_11eb_b1f9_0242ac1c0002row11_col10\" class=\"data row11 col10\" >0.022560</td>\n",
              "                        <td id=\"T_41e0e19a_5a1a_11eb_b1f9_0242ac1c0002row11_col11\" class=\"data row11 col11\" >1.000000</td>\n",
              "                        <td id=\"T_41e0e19a_5a1a_11eb_b1f9_0242ac1c0002row11_col12\" class=\"data row11 col12\" >0.459235</td>\n",
              "                        <td id=\"T_41e0e19a_5a1a_11eb_b1f9_0242ac1c0002row11_col13\" class=\"data row11 col13\" >0.582533</td>\n",
              "                        <td id=\"T_41e0e19a_5a1a_11eb_b1f9_0242ac1c0002row11_col14\" class=\"data row11 col14\" >0.506051</td>\n",
              "                        <td id=\"T_41e0e19a_5a1a_11eb_b1f9_0242ac1c0002row11_col15\" class=\"data row11 col15\" >0.008805</td>\n",
              "            </tr>\n",
              "            <tr>\n",
              "                        <th id=\"T_41e0e19a_5a1a_11eb_b1f9_0242ac1c0002level0_row12\" class=\"row_heading level0 row12\" >product_length_cm</th>\n",
              "                        <td id=\"T_41e0e19a_5a1a_11eb_b1f9_0242ac1c0002row12_col0\" class=\"data row12 col0\" >0.003637</td>\n",
              "                        <td id=\"T_41e0e19a_5a1a_11eb_b1f9_0242ac1c0002row12_col1\" class=\"data row12 col1\" >-0.020896</td>\n",
              "                        <td id=\"T_41e0e19a_5a1a_11eb_b1f9_0242ac1c0002row12_col2\" class=\"data row12 col2\" >0.029856</td>\n",
              "                        <td id=\"T_41e0e19a_5a1a_11eb_b1f9_0242ac1c0002row12_col3\" class=\"data row12 col3\" >0.116802</td>\n",
              "                        <td id=\"T_41e0e19a_5a1a_11eb_b1f9_0242ac1c0002row12_col4\" class=\"data row12 col4\" >0.138342</td>\n",
              "                        <td id=\"T_41e0e19a_5a1a_11eb_b1f9_0242ac1c0002row12_col5\" class=\"data row12 col5\" >0.005940</td>\n",
              "                        <td id=\"T_41e0e19a_5a1a_11eb_b1f9_0242ac1c0002row12_col6\" class=\"data row12 col6\" >0.142909</td>\n",
              "                        <td id=\"T_41e0e19a_5a1a_11eb_b1f9_0242ac1c0002row12_col7\" class=\"data row12 col7\" >0.303760</td>\n",
              "                        <td id=\"T_41e0e19a_5a1a_11eb_b1f9_0242ac1c0002row12_col8\" class=\"data row12 col8\" >0.062426</td>\n",
              "                        <td id=\"T_41e0e19a_5a1a_11eb_b1f9_0242ac1c0002row12_col9\" class=\"data row12 col9\" >0.003391</td>\n",
              "                        <td id=\"T_41e0e19a_5a1a_11eb_b1f9_0242ac1c0002row12_col10\" class=\"data row12 col10\" >0.046336</td>\n",
              "                        <td id=\"T_41e0e19a_5a1a_11eb_b1f9_0242ac1c0002row12_col11\" class=\"data row12 col11\" >0.459235</td>\n",
              "                        <td id=\"T_41e0e19a_5a1a_11eb_b1f9_0242ac1c0002row12_col12\" class=\"data row12 col12\" >1.000000</td>\n",
              "                        <td id=\"T_41e0e19a_5a1a_11eb_b1f9_0242ac1c0002row12_col13\" class=\"data row12 col13\" >0.188395</td>\n",
              "                        <td id=\"T_41e0e19a_5a1a_11eb_b1f9_0242ac1c0002row12_col14\" class=\"data row12 col14\" >0.534830</td>\n",
              "                        <td id=\"T_41e0e19a_5a1a_11eb_b1f9_0242ac1c0002row12_col15\" class=\"data row12 col15\" >0.028958</td>\n",
              "            </tr>\n",
              "            <tr>\n",
              "                        <th id=\"T_41e0e19a_5a1a_11eb_b1f9_0242ac1c0002level0_row13\" class=\"row_heading level0 row13\" >product_height_cm</th>\n",
              "                        <td id=\"T_41e0e19a_5a1a_11eb_b1f9_0242ac1c0002row13_col0\" class=\"data row13 col0\" >0.011660</td>\n",
              "                        <td id=\"T_41e0e19a_5a1a_11eb_b1f9_0242ac1c0002row13_col1\" class=\"data row13 col1\" >-0.023751</td>\n",
              "                        <td id=\"T_41e0e19a_5a1a_11eb_b1f9_0242ac1c0002row13_col2\" class=\"data row13 col2\" >0.019920</td>\n",
              "                        <td id=\"T_41e0e19a_5a1a_11eb_b1f9_0242ac1c0002row13_col3\" class=\"data row13 col3\" >0.120890</td>\n",
              "                        <td id=\"T_41e0e19a_5a1a_11eb_b1f9_0242ac1c0002row13_col4\" class=\"data row13 col4\" >0.216862</td>\n",
              "                        <td id=\"T_41e0e19a_5a1a_11eb_b1f9_0242ac1c0002row13_col5\" class=\"data row13 col5\" >0.030487</td>\n",
              "                        <td id=\"T_41e0e19a_5a1a_11eb_b1f9_0242ac1c0002row13_col6\" class=\"data row13 col6\" >0.223046</td>\n",
              "                        <td id=\"T_41e0e19a_5a1a_11eb_b1f9_0242ac1c0002row13_col7\" class=\"data row13 col7\" >0.391575</td>\n",
              "                        <td id=\"T_41e0e19a_5a1a_11eb_b1f9_0242ac1c0002row13_col8\" class=\"data row13 col8\" >-0.030314</td>\n",
              "                        <td id=\"T_41e0e19a_5a1a_11eb_b1f9_0242ac1c0002row13_col9\" class=\"data row13 col9\" >0.073747</td>\n",
              "                        <td id=\"T_41e0e19a_5a1a_11eb_b1f9_0242ac1c0002row13_col10\" class=\"data row13 col10\" >-0.033794</td>\n",
              "                        <td id=\"T_41e0e19a_5a1a_11eb_b1f9_0242ac1c0002row13_col11\" class=\"data row13 col11\" >0.582533</td>\n",
              "                        <td id=\"T_41e0e19a_5a1a_11eb_b1f9_0242ac1c0002row13_col12\" class=\"data row13 col12\" >0.188395</td>\n",
              "                        <td id=\"T_41e0e19a_5a1a_11eb_b1f9_0242ac1c0002row13_col13\" class=\"data row13 col13\" >1.000000</td>\n",
              "                        <td id=\"T_41e0e19a_5a1a_11eb_b1f9_0242ac1c0002row13_col14\" class=\"data row13 col14\" >0.275818</td>\n",
              "                        <td id=\"T_41e0e19a_5a1a_11eb_b1f9_0242ac1c0002row13_col15\" class=\"data row13 col15\" >0.013779</td>\n",
              "            </tr>\n",
              "            <tr>\n",
              "                        <th id=\"T_41e0e19a_5a1a_11eb_b1f9_0242ac1c0002level0_row14\" class=\"row_heading level0 row14\" >product_width_cm</th>\n",
              "                        <td id=\"T_41e0e19a_5a1a_11eb_b1f9_0242ac1c0002row14_col0\" class=\"data row14 col0\" >-0.010161</td>\n",
              "                        <td id=\"T_41e0e19a_5a1a_11eb_b1f9_0242ac1c0002row14_col1\" class=\"data row14 col1\" >-0.012334</td>\n",
              "                        <td id=\"T_41e0e19a_5a1a_11eb_b1f9_0242ac1c0002row14_col2\" class=\"data row14 col2\" >0.029783</td>\n",
              "                        <td id=\"T_41e0e19a_5a1a_11eb_b1f9_0242ac1c0002row14_col3\" class=\"data row14 col3\" >0.137287</td>\n",
              "                        <td id=\"T_41e0e19a_5a1a_11eb_b1f9_0242ac1c0002row14_col4\" class=\"data row14 col4\" >0.148574</td>\n",
              "                        <td id=\"T_41e0e19a_5a1a_11eb_b1f9_0242ac1c0002row14_col5\" class=\"data row14 col5\" >-0.009114</td>\n",
              "                        <td id=\"T_41e0e19a_5a1a_11eb_b1f9_0242ac1c0002row14_col6\" class=\"data row14 col6\" >0.172966</td>\n",
              "                        <td id=\"T_41e0e19a_5a1a_11eb_b1f9_0242ac1c0002row14_col7\" class=\"data row14 col7\" >0.322470</td>\n",
              "                        <td id=\"T_41e0e19a_5a1a_11eb_b1f9_0242ac1c0002row14_col8\" class=\"data row14 col8\" >0.063357</td>\n",
              "                        <td id=\"T_41e0e19a_5a1a_11eb_b1f9_0242ac1c0002row14_col9\" class=\"data row14 col9\" >-0.069405</td>\n",
              "                        <td id=\"T_41e0e19a_5a1a_11eb_b1f9_0242ac1c0002row14_col10\" class=\"data row14 col10\" >0.007764</td>\n",
              "                        <td id=\"T_41e0e19a_5a1a_11eb_b1f9_0242ac1c0002row14_col11\" class=\"data row14 col11\" >0.506051</td>\n",
              "                        <td id=\"T_41e0e19a_5a1a_11eb_b1f9_0242ac1c0002row14_col12\" class=\"data row14 col12\" >0.534830</td>\n",
              "                        <td id=\"T_41e0e19a_5a1a_11eb_b1f9_0242ac1c0002row14_col13\" class=\"data row14 col13\" >0.275818</td>\n",
              "                        <td id=\"T_41e0e19a_5a1a_11eb_b1f9_0242ac1c0002row14_col14\" class=\"data row14 col14\" >1.000000</td>\n",
              "                        <td id=\"T_41e0e19a_5a1a_11eb_b1f9_0242ac1c0002row14_col15\" class=\"data row14 col15\" >-0.019291</td>\n",
              "            </tr>\n",
              "            <tr>\n",
              "                        <th id=\"T_41e0e19a_5a1a_11eb_b1f9_0242ac1c0002level0_row15\" class=\"row_heading level0 row15\" >seller_zip_code_prefix</th>\n",
              "                        <td id=\"T_41e0e19a_5a1a_11eb_b1f9_0242ac1c0002row15_col0\" class=\"data row15 col0\" >0.074569</td>\n",
              "                        <td id=\"T_41e0e19a_5a1a_11eb_b1f9_0242ac1c0002row15_col1\" class=\"data row15 col1\" >0.026886</td>\n",
              "                        <td id=\"T_41e0e19a_5a1a_11eb_b1f9_0242ac1c0002row15_col2\" class=\"data row15 col2\" >0.004570</td>\n",
              "                        <td id=\"T_41e0e19a_5a1a_11eb_b1f9_0242ac1c0002row15_col3\" class=\"data row15 col3\" >0.038137</td>\n",
              "                        <td id=\"T_41e0e19a_5a1a_11eb_b1f9_0242ac1c0002row15_col4\" class=\"data row15 col4\" >0.069656</td>\n",
              "                        <td id=\"T_41e0e19a_5a1a_11eb_b1f9_0242ac1c0002row15_col5\" class=\"data row15 col5\" >-0.019483</td>\n",
              "                        <td id=\"T_41e0e19a_5a1a_11eb_b1f9_0242ac1c0002row15_col6\" class=\"data row15 col6\" >0.088787</td>\n",
              "                        <td id=\"T_41e0e19a_5a1a_11eb_b1f9_0242ac1c0002row15_col7\" class=\"data row15 col7\" >0.150772</td>\n",
              "                        <td id=\"T_41e0e19a_5a1a_11eb_b1f9_0242ac1c0002row15_col8\" class=\"data row15 col8\" >-0.032158</td>\n",
              "                        <td id=\"T_41e0e19a_5a1a_11eb_b1f9_0242ac1c0002row15_col9\" class=\"data row15 col9\" >0.061123</td>\n",
              "                        <td id=\"T_41e0e19a_5a1a_11eb_b1f9_0242ac1c0002row15_col10\" class=\"data row15 col10\" >-0.041097</td>\n",
              "                        <td id=\"T_41e0e19a_5a1a_11eb_b1f9_0242ac1c0002row15_col11\" class=\"data row15 col11\" >0.008805</td>\n",
              "                        <td id=\"T_41e0e19a_5a1a_11eb_b1f9_0242ac1c0002row15_col12\" class=\"data row15 col12\" >0.028958</td>\n",
              "                        <td id=\"T_41e0e19a_5a1a_11eb_b1f9_0242ac1c0002row15_col13\" class=\"data row15 col13\" >0.013779</td>\n",
              "                        <td id=\"T_41e0e19a_5a1a_11eb_b1f9_0242ac1c0002row15_col14\" class=\"data row15 col14\" >-0.019291</td>\n",
              "                        <td id=\"T_41e0e19a_5a1a_11eb_b1f9_0242ac1c0002row15_col15\" class=\"data row15 col15\" >1.000000</td>\n",
              "            </tr>\n",
              "    </tbody></table>"
            ],
            "text/plain": [
              "<pandas.io.formats.style.Styler at 0x7f1ff9153080>"
            ]
          },
          "metadata": {
            "tags": []
          },
          "execution_count": 188
        }
      ]
    },
    {
      "cell_type": "code",
      "metadata": {
        "colab": {
          "base_uri": "https://localhost:8080/",
          "height": 377
        },
        "id": "-5hIDLi60qI8",
        "outputId": "fd9b8ec9-0ff3-4026-addb-5f394dea6afd"
      },
      "source": [
        "final['Year'] = final['order_purchase_timestamp'].dt.year\r\n",
        "final.groupby('Year').size().plot(kind = 'bar',figsize=(12,5)) # size() is equivalent to counting the distinct rows \r\n",
        "plt.title('Evolvement',fontsize=20)\r\n",
        "plt.xlabel('Year',fontsize=15)\r\n",
        "plt.xticks(rotation=0)"
      ],
      "execution_count": 189,
      "outputs": [
        {
          "output_type": "execute_result",
          "data": {
            "text/plain": [
              "(array([0, 1, 2]), <a list of 3 Text major ticklabel objects>)"
            ]
          },
          "metadata": {
            "tags": []
          },
          "execution_count": 189
        },
        {
          "output_type": "display_data",
          "data": {
            "image/png": "[encoded data removed]",
            "text/plain": [
              "<Figure size 864x360 with 1 Axes>"
            ]
          },
          "metadata": {
            "tags": [],
            "needs_background": "light"
          }
        }
      ]
    },
    {
      "cell_type": "code",
      "metadata": {
        "colab": {
          "base_uri": "https://localhost:8080/",
          "height": 360
        },
        "id": "Zq36b7TM0tXO",
        "outputId": "89809fb6-d74d-4660-a72c-8457e2a38951"
      },
      "source": [
        "#To extract \"year\" from date\r\n",
        "final['Month'] =  pd.Series(pd.Categorical(final['order_purchase_timestamp'].dt.month_name(), categories=list(calendar.month_name)))\r\n",
        "final['Month']\r\n",
        "final.groupby('Month').size().plot(kind = 'bar',figsize=(15,5))\r\n",
        "plt.title('Online purchasing per month in 3 years',fontsize=20);\r\n",
        "plt.xlabel('Month',fontsize=15);\r\n",
        "plt.xticks(rotation=0);"
      ],
      "execution_count": 190,
      "outputs": [
        {
          "output_type": "display_data",
          "data": {
            "image/png": "[encoded data removed]",
            "text/plain": [
              "<Figure size 1080x360 with 1 Axes>"
            ]
          },
          "metadata": {
            "tags": [],
            "needs_background": "light"
          }
        }
      ]
    },
    {
      "cell_type": "code",
      "metadata": {
        "colab": {
          "base_uri": "https://localhost:8080/",
          "height": 521
        },
        "id": "wXqPnZYRBHgG",
        "outputId": "44a365a4-b8db-4809-b578-9eefc34b0872"
      },
      "source": [
        "#Other way by seaborn\r\n",
        "month = final.groupby('Month').size()\r\n",
        "fig=plt.figure(figsize=(10,8))\r\n",
        "sns.set_style(\"darkgrid\")\r\n",
        "sns.barplot(y=month.index, x=month.values)\r\n",
        "plt.title('Months',fontsize=20)"
      ],
      "execution_count": 191,
      "outputs": [
        {
          "output_type": "execute_result",
          "data": {
            "text/plain": [
              "Text(0.5, 1.0, 'Months')"
            ]
          },
          "metadata": {
            "tags": []
          },
          "execution_count": 191
        },
        {
          "output_type": "display_data",
          "data": {
            "image/png": "[encoded data removed]",
            "text/plain": [
              "<Figure size 720x576 with 1 Axes>"
            ]
          },
          "metadata": {
            "tags": [],
            "needs_background": "light"
          }
        }
      ]
    },
    {
      "cell_type": "code",
      "metadata": {
        "colab": {
          "base_uri": "https://localhost:8080/",
          "height": 414
        },
        "id": "qtYqXvfKBZYr",
        "outputId": "89c7806e-d027-43bd-fe0c-327fb815b607"
      },
      "source": [
        "final['Month'] = final['order_purchase_timestamp'].dt.month_name()\r\n",
        "plt.figure(figsize=(15,6))\r\n",
        "sns.countplot(data=final,x='Month',hue='Year',order=list(calendar.month_name));\r\n",
        "plt.title('Order purchased over months in each year', fontsize=20);\r\n",
        "plt.xlabel('Months',fontsize=15);"
      ],
      "execution_count": 192,
      "outputs": [
        {
          "output_type": "display_data",
          "data": {
            "image/png": "[encoded data removed]",
            "text/plain": [
              "<Figure size 1080x432 with 1 Axes>"
            ]
          },
          "metadata": {
            "tags": []
          }
        }
      ]
    },
    {
      "cell_type": "code",
      "metadata": {
        "colab": {
          "base_uri": "https://localhost:8080/"
        },
        "id": "FPUOkf4hCZ-u",
        "outputId": "d1e989db-390f-4d92-a3c4-f806dd36be20"
      },
      "source": [
        "#Group by month-year\r\n",
        "final.groupby('Year').Month.value_counts()"
      ],
      "execution_count": 193,
      "outputs": [
        {
          "output_type": "execute_result",
          "data": {
            "text/plain": [
              "Year  Month    \n",
              "2016  October       339\n",
              "      December        1\n",
              "2017  November     8761\n",
              "      December     6327\n",
              "      October      5428\n",
              "      August       5028\n",
              "      September    4959\n",
              "      July         4699\n",
              "      May          4208\n",
              "      June         3666\n",
              "      March        3034\n",
              "      April        2636\n",
              "      February     1904\n",
              "      January       966\n",
              "2018  March        8247\n",
              "      January      8215\n",
              "      May          8059\n",
              "      April        8047\n",
              "      February     7744\n",
              "      August       7320\n",
              "      June         7300\n",
              "      July         7162\n",
              "Name: Month, dtype: int64"
            ]
          },
          "metadata": {
            "tags": []
          },
          "execution_count": 193
        }
      ]
    },
    {
      "cell_type": "code",
      "metadata": {
        "colab": {
          "base_uri": "https://localhost:8080/",
          "height": 468
        },
        "id": "HC0IpsQZCfSt",
        "outputId": "9a3b3944-c4c1-4294-a30c-cc4b8b8fcc3a"
      },
      "source": [
        "final['Day'] = final['order_purchase_timestamp'].dt.day_name()\r\n",
        "\r\n",
        "plt.figure(figsize=(10,7))\r\n",
        "basecolor=sns.color_palette()[0]\r\n",
        "sns.countplot(data=final,x='Day',order=list(calendar.day_name),color=basecolor);\r\n",
        "\r\n",
        "plt.title('All Order purchased in the Day in all years', fontsize=20);\r\n",
        "plt.xlabel('Day',fontsize=15);"
      ],
      "execution_count": 194,
      "outputs": [
        {
          "output_type": "display_data",
          "data": {
            "image/png": "[encoded data removed]",
            "text/plain": [
              "<Figure size 720x504 with 1 Axes>"
            ]
          },
          "metadata": {
            "tags": []
          }
        }
      ]
    },
    {
      "cell_type": "markdown",
      "metadata": {
        "id": "TB9it9lvW4oz"
      },
      "source": [
        "Top 10 Products"
      ]
    },
    {
      "cell_type": "code",
      "metadata": {
        "id": "NZtU_Im8CqQP",
        "colab": {
          "base_uri": "https://localhost:8080/",
          "height": 305
        },
        "outputId": "6cd9cd93-3cdc-46fa-fcf9-12074fa8bc37"
      },
      "source": [
        "top10_category = final[\"product_category_name_english\"].value_counts().head(10)\r\n",
        "print('Top 10 product categories')\r\n",
        "top10_category.reset_index().rename(columns={'index':'product_category','product_category_name_english':'counts'})"
      ],
      "execution_count": 197,
      "outputs": [
        {
          "output_type": "stream",
          "text": [
            "Top 10 product categories\n"
          ],
          "name": "stdout"
        },
        {
          "output_type": "execute_result",
          "data": {
            "application/vnd.google.colaboratory.module+javascript": "\n      import \"https://ssl.gstatic.com/colaboratory/data_table/a6224c040fa35dcf/data_table.js\";\n\n      window.createDataTable({\n        data: [[{\n            'v': 0,\n            'f': \"0\",\n        },\n\"bed_bath_table\",\n{\n            'v': 11815,\n            'f': \"11815\",\n        }],\n [{\n            'v': 1,\n            'f': \"1\",\n        },\n\"health_beauty\",\n{\n            'v': 9816,\n            'f': \"9816\",\n        }],\n [{\n            'v': 2,\n            'f': \"2\",\n        },\n\"sports_leisure\",\n{\n            'v': 8790,\n            'f': \"8790\",\n        }],\n [{\n            'v': 3,\n            'f': \"3\",\n        },\n\"furniture_decor\",\n{\n            'v': 8640,\n            'f': \"8640\",\n        }],\n [{\n            'v': 4,\n            'f': \"4\",\n        },\n\"computers_accessories\",\n{\n            'v': 7963,\n            'f': \"7963\",\n        }],\n [{\n            'v': 5,\n            'f': \"5\",\n        },\n\"housewares\",\n{\n            'v': 7196,\n            'f': \"7196\",\n        }],\n [{\n            'v': 6,\n            'f': \"6\",\n        },\n\"watches_gifts\",\n{\n            'v': 6075,\n            'f': \"6075\",\n        }],\n [{\n            'v': 7,\n            'f': \"7\",\n        },\n\"telephony\",\n{\n            'v': 4605,\n            'f': \"4605\",\n        }],\n [{\n            'v': 8,\n            'f': \"8\",\n        },\n\"garden_tools\",\n{\n            'v': 4479,\n            'f': \"4479\",\n        }],\n [{\n            'v': 9,\n            'f': \"9\",\n        },\n\"auto\",\n{\n            'v': 4301,\n            'f': \"4301\",\n        }]],\n        columns: [[\"number\", \"index\"], [\"string\", \"product_category\"], [\"number\", \"counts\"]],\n        columnOptions: [{\"width\": \"1px\", \"className\": \"index_column\"}],\n        rowsPerPage: 25,\n        helpUrl: \"https://colab.research.google.com/notebooks/data_table.ipynb\",\n        suppressOutputScrolling: true,\n        minimumWidth: undefined,\n      });\n    ",
            "text/html": [
              "<div>\n",
              "<style scoped>\n",
              "    .dataframe tbody tr th:only-of-type {\n",
              "        vertical-align: middle;\n",
              "    }\n",
              "\n",
              "    .dataframe tbody tr th {\n",
              "        vertical-align: top;\n",
              "    }\n",
              "\n",
              "    .dataframe thead th {\n",
              "        text-align: right;\n",
              "    }\n",
              "</style>\n",
              "<table border=\"1\" class=\"dataframe\">\n",
              "  <thead>\n",
              "    <tr style=\"text-align: right;\">\n",
              "      <th></th>\n",
              "      <th>product_category</th>\n",
              "      <th>counts</th>\n",
              "    </tr>\n",
              "  </thead>\n",
              "  <tbody>\n",
              "    <tr>\n",
              "      <th>0</th>\n",
              "      <td>bed_bath_table</td>\n",
              "      <td>11815</td>\n",
              "    </tr>\n",
              "    <tr>\n",
              "      <th>1</th>\n",
              "      <td>health_beauty</td>\n",
              "      <td>9816</td>\n",
              "    </tr>\n",
              "    <tr>\n",
              "      <th>2</th>\n",
              "      <td>sports_leisure</td>\n",
              "      <td>8790</td>\n",
              "    </tr>\n",
              "    <tr>\n",
              "      <th>3</th>\n",
              "      <td>furniture_decor</td>\n",
              "      <td>8640</td>\n",
              "    </tr>\n",
              "    <tr>\n",
              "      <th>4</th>\n",
              "      <td>computers_accessories</td>\n",
              "      <td>7963</td>\n",
              "    </tr>\n",
              "    <tr>\n",
              "      <th>5</th>\n",
              "      <td>housewares</td>\n",
              "      <td>7196</td>\n",
              "    </tr>\n",
              "    <tr>\n",
              "      <th>6</th>\n",
              "      <td>watches_gifts</td>\n",
              "      <td>6075</td>\n",
              "    </tr>\n",
              "    <tr>\n",
              "      <th>7</th>\n",
              "      <td>telephony</td>\n",
              "      <td>4605</td>\n",
              "    </tr>\n",
              "    <tr>\n",
              "      <th>8</th>\n",
              "      <td>garden_tools</td>\n",
              "      <td>4479</td>\n",
              "    </tr>\n",
              "    <tr>\n",
              "      <th>9</th>\n",
              "      <td>auto</td>\n",
              "      <td>4301</td>\n",
              "    </tr>\n",
              "  </tbody>\n",
              "</table>\n",
              "</div>"
            ],
            "text/plain": [
              "        product_category  counts\n",
              "0         bed_bath_table   11815\n",
              "1          health_beauty    9816\n",
              "2         sports_leisure    8790\n",
              "3        furniture_decor    8640\n",
              "4  computers_accessories    7963\n",
              "5             housewares    7196\n",
              "6          watches_gifts    6075\n",
              "7              telephony    4605\n",
              "8           garden_tools    4479\n",
              "9                   auto    4301"
            ]
          },
          "metadata": {
            "tags": []
          },
          "execution_count": 197
        }
      ]
    },
    {
      "cell_type": "code",
      "metadata": {
        "id": "zPyNcBp270Ns",
        "colab": {
          "base_uri": "https://localhost:8080/",
          "height": 360
        },
        "outputId": "9f242d1b-4e8d-494d-9a4b-08b7d9f5b839"
      },
      "source": [
        "# Top 10 categories\r\n",
        "fig=plt.figure(figsize=(12,5))\r\n",
        "sns.set_style(\"whitegrid\")\r\n",
        "sns.barplot(y=top10_category.index, x=top10_category.values,color = basecolor)\r\n",
        "plt.title('Top 10 categories',fontsize=20);\r\n",
        "plt.xlabel('Frequency',fontsize=15);\r\n",
        "plt.ylabel('Category',fontsize=15);"
      ],
      "execution_count": 198,
      "outputs": [
        {
          "output_type": "display_data",
          "data": {
            "image/png": "[encoded data removed]",
            "text/plain": [
              "<Figure size 864x360 with 1 Axes>"
            ]
          },
          "metadata": {
            "tags": []
          }
        }
      ]
    },
    {
      "cell_type": "code",
      "metadata": {
        "id": "HvZVKZCF87F2",
        "colab": {
          "base_uri": "https://localhost:8080/"
        },
        "outputId": "210a5373-f24b-410d-8de3-c8c8030e9c38"
      },
      "source": [
        "#Average price on each category\r\n",
        "average_price = final.groupby(\"product_category_name_english\")[\"price\"].agg(np.mean).sort_values(ascending=False).head(10)\r\n",
        "print('*Top 10 categories with highest average prices')\r\n",
        "average_price"
      ],
      "execution_count": 199,
      "outputs": [
        {
          "output_type": "stream",
          "text": [
            "*Top 10 categories with highest average prices\n"
          ],
          "name": "stdout"
        },
        {
          "output_type": "execute_result",
          "data": {
            "text/plain": [
              "product_category_name_english\n",
              "computers                                1104.317685\n",
              "small_appliances_home_oven_and_coffee     641.194133\n",
              "home_appliances_2                         449.200644\n",
              "agro_industry_and_commerce                332.835691\n",
              "musical_instruments                       295.714935\n",
              "small_appliances                          283.506881\n",
              "fixed_telephony                           214.020878\n",
              "construction_tools_safety                 212.297366\n",
              "watches_gifts                             199.891761\n",
              "air_conditioning                          184.561156\n",
              "Name: price, dtype: float64"
            ]
          },
          "metadata": {
            "tags": []
          },
          "execution_count": 199
        }
      ]
    },
    {
      "cell_type": "code",
      "metadata": {
        "id": "g8kXEQyxD1NO",
        "colab": {
          "base_uri": "https://localhost:8080/"
        },
        "outputId": "6755a93c-71c2-460a-dd2c-3cd6ca414e4d"
      },
      "source": [
        "average_price = final.groupby(\"product_category_name_english\")[\"price\"].agg(np.mean).sort_values(ascending=True).head(10)\r\n",
        "print('*Top 10 categories with lowest average prices')\r\n",
        "average_price"
      ],
      "execution_count": 200,
      "outputs": [
        {
          "output_type": "stream",
          "text": [
            "*Top 10 categories with lowest average prices\n"
          ],
          "name": "stdout"
        },
        {
          "output_type": "execute_result",
          "data": {
            "text/plain": [
              "product_category_name_english\n",
              "home_comfort_2            24.940968\n",
              "flowers                   33.637576\n",
              "diapers_and_hygiene       40.561892\n",
              "cds_dvds_musicals         52.142857\n",
              "food                      57.198408\n",
              "electronics               57.597472\n",
              "christmas_supplies        57.656974\n",
              "food_drink                57.686548\n",
              "fashio_female_clothing    58.713913\n",
              "drinks                    59.091402\n",
              "Name: price, dtype: float64"
            ]
          },
          "metadata": {
            "tags": []
          },
          "execution_count": 200
        }
      ]
    },
    {
      "cell_type": "code",
      "metadata": {
        "id": "7MQR5U2C9isC",
        "colab": {
          "base_uri": "https://localhost:8080/",
          "height": 360
        },
        "outputId": "fa1a9cf8-0af2-4c92-a16e-2d46b5061339"
      },
      "source": [
        "# Top 10 categories with highest average price.\r\n",
        "fig=plt.figure(figsize=(12,5))\r\n",
        "#sns.set_style(\"darkgrid\")\r\n",
        "sns.barplot(y=average_price.index, x=average_price.values,color=basecolor)\r\n",
        "plt.title('Top 10 categories with highest average price',fontsize=20);\r\n",
        "plt.xlabel('Average price',fontsize=15);\r\n",
        "plt.ylabel('Category name',fontsize=15);"
      ],
      "execution_count": 201,
      "outputs": [
        {
          "output_type": "display_data",
          "data": {
            "image/png": "[encoded data removed]",
            "text/plain": [
              "<Figure size 864x360 with 1 Axes>"
            ]
          },
          "metadata": {
            "tags": []
          }
        }
      ]
    },
    {
      "cell_type": "code",
      "metadata": {
        "id": "ffyUA5WJ95vj",
        "colab": {
          "base_uri": "https://localhost:8080/"
        },
        "outputId": "b541c2cb-5677-4095-a159-2d6a78f9c27e"
      },
      "source": [
        "# Avergae prices of Top 10 frequently repeated categories\r\n",
        "top_category = final[final['product_category_name_english'].isin(top10_category.index)]\r\n",
        "price_top_category=round(top_category.groupby(\"product_category_name_english\")[\"price\"].agg(np.mean).sort_values(ascending=False), 2)\r\n",
        "\r\n",
        "\r\n",
        "print('Average prices of Top 10 frequently repeated categories')\r\n",
        "price_top_category.sort_values(ascending=False)"
      ],
      "execution_count": 202,
      "outputs": [
        {
          "output_type": "stream",
          "text": [
            "Average prices of Top 10 frequently repeated categories\n"
          ],
          "name": "stdout"
        },
        {
          "output_type": "execute_result",
          "data": {
            "text/plain": [
              "product_category_name_english\n",
              "watches_gifts            199.89\n",
              "auto                     140.47\n",
              "health_beauty            129.97\n",
              "computers_accessories    116.35\n",
              "sports_leisure           113.29\n",
              "garden_tools             110.18\n",
              "bed_bath_table            92.47\n",
              "housewares                90.38\n",
              "furniture_decor           87.16\n",
              "telephony                 70.70\n",
              "Name: price, dtype: float64"
            ]
          },
          "metadata": {
            "tags": []
          },
          "execution_count": 202
        }
      ]
    },
    {
      "cell_type": "code",
      "metadata": {
        "id": "qR_DubvA-EbA",
        "colab": {
          "base_uri": "https://localhost:8080/",
          "height": 360
        },
        "outputId": "e07d0054-b8b5-444c-f78e-a64f5df58890"
      },
      "source": [
        "fig=plt.figure(figsize=(12,5))\r\n",
        "sns.barplot(y=price_top_category.index, x=price_top_category.values,color=basecolor)\r\n",
        "plt.title('Average prices of Top 10 frequently repeated categories',fontsize=20);\r\n",
        "plt.xlabel('Average price',fontsize=15);\r\n",
        "plt.ylabel('Category name',fontsize=15);"
      ],
      "execution_count": 203,
      "outputs": [
        {
          "output_type": "display_data",
          "data": {
            "image/png": "[encoded data removed]",
            "text/plain": [
              "<Figure size 864x360 with 1 Axes>"
            ]
          },
          "metadata": {
            "tags": []
          }
        }
      ]
    },
    {
      "cell_type": "code",
      "metadata": {
        "id": "XsXg_hCN-J7g"
      },
      "source": [
        "fig=plt.figure(figsize=(15,10))\r\n",
        "\r\n",
        "sns.boxplot(data=top_category,x='price',y='product_category_name_english',\r\n",
        "           showfliers=False,color=basecolor);\r\n",
        "plt.xlim(0,500);\r\n",
        "plt.title('price distribution of the top 10 frequent Product category',fontsize=20)\r\n",
        "\r\n",
        "\r\n",
        "plt.ylabel('Product category',fontsize=15)\r\n",
        "plt.xlabel('Price',fontsize=15);\r\n",
        "plt.yticks(fontsize=15);"
      ],
      "execution_count": null,
      "outputs": []
    },
    {
      "cell_type": "markdown",
      "metadata": {
        "id": "YCK9nS8I-QMa"
      },
      "source": [
        "####Payments"
      ]
    },
    {
      "cell_type": "code",
      "metadata": {
        "id": "ijE-FLE2-Mj8"
      },
      "source": [
        "#Methods of payment\r\n",
        "print('There are %d methods of payment' %final.payment_type.nunique())\r\n",
        "print('Those are %s' %final.payment_type.unique().tolist())"
      ],
      "execution_count": null,
      "outputs": []
    },
    {
      "cell_type": "code",
      "metadata": {
        "id": "x5m8Mrmi-Zxv",
        "colab": {
          "base_uri": "https://localhost:8080/",
          "height": 485
        },
        "outputId": "6884edab-d4d0-4b21-e6f1-effdd9f40c6a"
      },
      "source": [
        "#Most frequent method of payment\r\n",
        "fig,(ax1,ax2)=plt.subplots(1,2,figsize=(20,7))\r\n",
        "plt.suptitle('Available Methods of Payment in Brazil'.title() , fontsize=20,fontweight='bold');\r\n",
        "\r\n",
        "final[\"payment_type\"].value_counts().plot(ax=ax1,\r\n",
        "    kind=\"pie\",\r\n",
        "    autopct=\"%1.1f%%\",\r\n",
        "    fontsize=15)\r\n",
        "ax1.axis('off');\r\n",
        "\r\n",
        "sns.countplot(data=final,x='payment_type',hue='Year',ax=ax2);\r\n",
        "plt.xlabel('');\r\n",
        "plt.xticks(fontsize=15);\r\n",
        "plt.ylabel('Frequency',fontsize=15);"
      ],
      "execution_count": 204,
      "outputs": [
        {
          "output_type": "display_data",
          "data": {
            "image/png": "[encoded data removed]",
            "text/plain": [
              "<Figure size 1440x504 with 2 Axes>"
            ]
          },
          "metadata": {
            "tags": []
          }
        }
      ]
    },
    {
      "cell_type": "code",
      "metadata": {
        "id": "lGuh0kPo-mKs",
        "colab": {
          "base_uri": "https://localhost:8080/",
          "height": 437
        },
        "outputId": "4d53a4fb-14a2-41a8-c4aa-0304ab5e9839"
      },
      "source": [
        "#Methods of payment frequency in each year\r\n",
        "final.groupby(\"Year\")['payment_type'].value_counts().plot(kind='bar',figsize=(12,5))"
      ],
      "execution_count": 205,
      "outputs": [
        {
          "output_type": "execute_result",
          "data": {
            "text/plain": [
              "<matplotlib.axes._subplots.AxesSubplot at 0x7f20007c1940>"
            ]
          },
          "metadata": {
            "tags": []
          },
          "execution_count": 205
        },
        {
          "output_type": "display_data",
          "data": {
            "image/png": "[encoded data removed]",
            "text/plain": [
              "<Figure size 864x360 with 1 Axes>"
            ]
          },
          "metadata": {
            "tags": []
          }
        }
      ]
    },
    {
      "cell_type": "markdown",
      "metadata": {
        "id": "Xeb655UD_HMm"
      },
      "source": [
        "###Customers' States"
      ]
    },
    {
      "cell_type": "code",
      "metadata": {
        "id": "nrrjviVS-1Qc",
        "colab": {
          "base_uri": "https://localhost:8080/"
        },
        "outputId": "188c0468-7296-4874-c761-37b04935b09c"
      },
      "source": [
        "#Customers distribution by State and 3 top States\r\n",
        "states = final[\"customer_state\"].value_counts()\r\n",
        "states.head(3)"
      ],
      "execution_count": 206,
      "outputs": [
        {
          "output_type": "execute_result",
          "data": {
            "text/plain": [
              "SP    48110\n",
              "RJ    14736\n",
              "MG    13308\n",
              "Name: customer_state, dtype: int64"
            ]
          },
          "metadata": {
            "tags": []
          },
          "execution_count": 206
        }
      ]
    },
    {
      "cell_type": "code",
      "metadata": {
        "id": "Bh2S41BpGduM"
      },
      "source": [
        "#Plotting\r\n",
        "fig=plt.figure(figsize=(15,10))\r\n",
        "sns.set_style(\"whitegrid\")\r\n",
        "sns.barplot(y=states.index, x=states.values)\r\n",
        "plt.title('Customer States',fontsize=20)"
      ],
      "execution_count": null,
      "outputs": []
    },
    {
      "cell_type": "code",
      "metadata": {
        "id": "9quJ2zH1_EW9",
        "colab": {
          "base_uri": "https://localhost:8080/",
          "height": 188
        },
        "outputId": "0b8da390-0862-4e1b-cbba-3cf7c5a59f6f"
      },
      "source": [
        "# delivery time in hour\r\n",
        "final['delivery_time'] = (final['order_delivered_customer_date']- final['order_purchase_timestamp']).astype(int)/(60*60*10**9)\r\n",
        "\r\n",
        "\r\n",
        "states = final[\"customer_state\"].value_counts().reset_index().rename(\r\n",
        "columns={'index':'customer_state','customer_state':'Total_orders'})\r\n",
        "\r\n",
        "delivery_mean_state = final.groupby(\"customer_state\")['delivery_time'].mean().reset_index().rename(\r\n",
        "    columns={'delivery_time':'mean_derivery_time'})\r\n",
        "\r\n",
        "delivery_std_state = final.groupby(\"customer_state\")['delivery_time'].std().reset_index().rename(\r\n",
        "    columns={'delivery_time':'std_derivery_time'})\r\n",
        "\r\n",
        "data=states.merge(delivery_mean_state).merge(delivery_std_state)\r\n",
        "data.head()"
      ],
      "execution_count": 207,
      "outputs": [
        {
          "output_type": "execute_result",
          "data": {
            "application/vnd.google.colaboratory.module+javascript": "\n      import \"https://ssl.gstatic.com/colaboratory/data_table/a6224c040fa35dcf/data_table.js\";\n\n      window.createDataTable({\n        data: [[{\n            'v': 0,\n            'f': \"0\",\n        },\n\"SP\",\n{\n            'v': 48110,\n            'f': \"48110\",\n        },\n{\n            'v': 209.64190253239045,\n            'f': \"209.64190253239045\",\n        },\n{\n            'v': 161.81106973306646,\n            'f': \"161.81106973306646\",\n        }],\n [{\n            'v': 1,\n            'f': \"1\",\n        },\n\"RJ\",\n{\n            'v': 14736,\n            'f': \"14736\",\n        },\n{\n            'v': 365.9241098707635,\n            'f': \"365.9241098707635\",\n        },\n{\n            'v': 271.2429658768096,\n            'f': \"271.2429658768096\",\n        }],\n [{\n            'v': 2,\n            'f': \"2\",\n        },\n\"MG\",\n{\n            'v': 13308,\n            'f': \"13308\",\n        },\n{\n            'v': 287.35162059997174,\n            'f': \"287.35162059997174\",\n        },\n{\n            'v': 169.5199944449085,\n            'f': \"169.5199944449085\",\n        }],\n [{\n            'v': 3,\n            'f': \"3\",\n        },\n\"RS\",\n{\n            'v': 6330,\n            'f': \"6330\",\n        },\n{\n            'v': 364.3922954186411,\n            'f': \"364.3922954186411\",\n        },\n{\n            'v': 221.15717036179427,\n            'f': \"221.15717036179427\",\n        }],\n [{\n            'v': 4,\n            'f': \"4\",\n        },\n\"PR\",\n{\n            'v': 5816,\n            'f': \"5816\",\n        },\n{\n            'v': 287.49943527433794,\n            'f': \"287.49943527433794\",\n        },\n{\n            'v': 167.93675813289468,\n            'f': \"167.93675813289468\",\n        }]],\n        columns: [[\"number\", \"index\"], [\"string\", \"customer_state\"], [\"number\", \"Total_orders\"], [\"number\", \"mean_derivery_time\"], [\"number\", \"std_derivery_time\"]],\n        columnOptions: [{\"width\": \"1px\", \"className\": \"index_column\"}],\n        rowsPerPage: 25,\n        helpUrl: \"https://colab.research.google.com/notebooks/data_table.ipynb\",\n        suppressOutputScrolling: true,\n        minimumWidth: undefined,\n      });\n    ",
            "text/html": [
              "<div>\n",
              "<style scoped>\n",
              "    .dataframe tbody tr th:only-of-type {\n",
              "        vertical-align: middle;\n",
              "    }\n",
              "\n",
              "    .dataframe tbody tr th {\n",
              "        vertical-align: top;\n",
              "    }\n",
              "\n",
              "    .dataframe thead th {\n",
              "        text-align: right;\n",
              "    }\n",
              "</style>\n",
              "<table border=\"1\" class=\"dataframe\">\n",
              "  <thead>\n",
              "    <tr style=\"text-align: right;\">\n",
              "      <th></th>\n",
              "      <th>customer_state</th>\n",
              "      <th>Total_orders</th>\n",
              "      <th>mean_derivery_time</th>\n",
              "      <th>std_derivery_time</th>\n",
              "    </tr>\n",
              "  </thead>\n",
              "  <tbody>\n",
              "    <tr>\n",
              "      <th>0</th>\n",
              "      <td>SP</td>\n",
              "      <td>48110</td>\n",
              "      <td>209.641903</td>\n",
              "      <td>161.811070</td>\n",
              "    </tr>\n",
              "    <tr>\n",
              "      <th>1</th>\n",
              "      <td>RJ</td>\n",
              "      <td>14736</td>\n",
              "      <td>365.924110</td>\n",
              "      <td>271.242966</td>\n",
              "    </tr>\n",
              "    <tr>\n",
              "      <th>2</th>\n",
              "      <td>MG</td>\n",
              "      <td>13308</td>\n",
              "      <td>287.351621</td>\n",
              "      <td>169.519994</td>\n",
              "    </tr>\n",
              "    <tr>\n",
              "      <th>3</th>\n",
              "      <td>RS</td>\n",
              "      <td>6330</td>\n",
              "      <td>364.392295</td>\n",
              "      <td>221.157170</td>\n",
              "    </tr>\n",
              "    <tr>\n",
              "      <th>4</th>\n",
              "      <td>PR</td>\n",
              "      <td>5816</td>\n",
              "      <td>287.499435</td>\n",
              "      <td>167.936758</td>\n",
              "    </tr>\n",
              "  </tbody>\n",
              "</table>\n",
              "</div>"
            ],
            "text/plain": [
              "  customer_state  Total_orders  mean_derivery_time  std_derivery_time\n",
              "0             SP         48110          209.641903         161.811070\n",
              "1             RJ         14736          365.924110         271.242966\n",
              "2             MG         13308          287.351621         169.519994\n",
              "3             RS          6330          364.392295         221.157170\n",
              "4             PR          5816          287.499435         167.936758"
            ]
          },
          "metadata": {
            "tags": []
          },
          "execution_count": 207
        }
      ]
    },
    {
      "cell_type": "code",
      "metadata": {
        "id": "dztrJ2eXHzOM",
        "colab": {
          "base_uri": "https://localhost:8080/",
          "height": 625
        },
        "outputId": "fe76df4b-5bf0-46ba-a064-d86f68c3a255"
      },
      "source": [
        "delivery_by_state = final.groupby(\"customer_state\")['delivery_time'].mean()\r\n",
        "delivery_by_state.plot(kind='line',figsize=(15,10))"
      ],
      "execution_count": 208,
      "outputs": [
        {
          "output_type": "execute_result",
          "data": {
            "text/plain": [
              "<matplotlib.axes._subplots.AxesSubplot at 0x7f1ffef320f0>"
            ]
          },
          "metadata": {
            "tags": []
          },
          "execution_count": 208
        },
        {
          "output_type": "display_data",
          "data": {
            "image/png": "[encoded data removed]",
            "text/plain": [
              "<Figure size 1080x720 with 1 Axes>"
            ]
          },
          "metadata": {
            "tags": []
          }
        }
      ]
    },
    {
      "cell_type": "code",
      "metadata": {
        "id": "DAfCeJnO_nFV",
        "colab": {
          "base_uri": "https://localhost:8080/",
          "height": 847
        },
        "outputId": "eace2ef0-186d-493f-ebb1-c5d93f002012"
      },
      "source": [
        "fig,(ax1,ax2)=plt.subplots(2,1,figsize=(14,14))\r\n",
        "\r\n",
        "# plot total orders and delayed orders\r\n",
        "plt.subplot(ax1)\r\n",
        "sns.countplot(data=final,x='customer_state',color=basecolor,ax=ax1,order=final[\"customer_state\"].value_counts().index,label='total orders');\r\n",
        "\r\n",
        "final_e=final.query('order_delivered_customer_date > order_estimated_delivery_date')\r\n",
        "sns.countplot(data=final_e,x='customer_state',color='orange',ax=ax1,order=final[\"customer_state\"].value_counts().index, label='delayed orders');\r\n",
        "ax1.legend();\r\n",
        "plt.title('Total orders per state',fontsize=20);\r\n",
        "plt.ylabel('Number of orders',fontsize=15);\r\n",
        "plt.xlabel('');\r\n",
        "\r\n",
        "\r\n",
        "# plot average time with std_error lines\r\n",
        "plt.subplot(ax2)\r\n",
        "plt.errorbar(data.customer_state,data.mean_derivery_time,ecolor='red',yerr=data.std_derivery_time);\r\n",
        "plt.title('Average order delivery time with error_std bars',fontsize=20);\r\n",
        "plt.ylabel('Average Delivery time in hours',fontsize=15)"
      ],
      "execution_count": 209,
      "outputs": [
        {
          "output_type": "execute_result",
          "data": {
            "text/plain": [
              "Text(0, 0.5, 'Average Delivery time in hours')"
            ]
          },
          "metadata": {
            "tags": []
          },
          "execution_count": 209
        },
        {
          "output_type": "display_data",
          "data": {
            "image/png": "[encoded data removed]",
            "text/plain": [
              "<Figure size 1008x1008 with 2 Axes>"
            ]
          },
          "metadata": {
            "tags": []
          }
        }
      ]
    },
    {
      "cell_type": "code",
      "metadata": {
        "id": "YjlDMHhmAA60",
        "colab": {
          "base_uri": "https://localhost:8080/",
          "height": 296
        },
        "outputId": "13dd3e2f-4748-4fe1-9dac-dc0e9adfca07"
      },
      "source": [
        "final.plot(kind = 'scatter',x = 'price',y = 'freight_value',)"
      ],
      "execution_count": 210,
      "outputs": [
        {
          "output_type": "execute_result",
          "data": {
            "text/plain": [
              "<matplotlib.axes._subplots.AxesSubplot at 0x7f200078d390>"
            ]
          },
          "metadata": {
            "tags": []
          },
          "execution_count": 210
        },
        {
          "output_type": "display_data",
          "data": {
            "image/png": "[encoded data removed]",
            "text/plain": [
              "<Figure size 432x288 with 1 Axes>"
            ]
          },
          "metadata": {
            "tags": []
          }
        }
      ]
    },
    {
      "cell_type": "code",
      "metadata": {
        "id": "crjY7wJeAQ_x",
        "colab": {
          "base_uri": "https://localhost:8080/",
          "height": 297
        },
        "outputId": "c61861d8-dcff-48ae-803d-f0ed35bed490"
      },
      "source": [
        "#Relation freight_value vs product_weight_g\r\n",
        "final.plot(\r\n",
        "    kind = 'scatter',\r\n",
        "    x = 'product_weight_g',\r\n",
        "    y = 'freight_value',\r\n",
        ")"
      ],
      "execution_count": 211,
      "outputs": [
        {
          "output_type": "execute_result",
          "data": {
            "text/plain": [
              "<matplotlib.axes._subplots.AxesSubplot at 0x7f2019910b00>"
            ]
          },
          "metadata": {
            "tags": []
          },
          "execution_count": 211
        },
        {
          "output_type": "display_data",
          "data": {
            "image/png": "[encoded data removed]",
            "text/plain": [
              "<Figure size 432x288 with 1 Axes>"
            ]
          },
          "metadata": {
            "tags": []
          }
        }
      ]
    },
    {
      "cell_type": "markdown",
      "metadata": {
        "id": "IY4QB6gCAgt1"
      },
      "source": [
        "##Covariance"
      ]
    },
    {
      "cell_type": "code",
      "metadata": {
        "id": "87KrIrbQAYZ0",
        "colab": {
          "base_uri": "https://localhost:8080/",
          "height": 418
        },
        "outputId": "e55b7706-2e3e-4942-c1db-9ffc4d43ef65"
      },
      "source": [
        "def add_colour(val):\r\n",
        "  if val < 0:\r\n",
        "    color = 'red'\r\n",
        "  else:\r\n",
        "    color = 'green'      \r\n",
        "  return 'color: %s' % color\r\n",
        "\r\n",
        "cov = final.cov().style.applymap(add_colour)\r\n",
        "cov"
      ],
      "execution_count": 212,
      "outputs": [
        {
          "output_type": "execute_result",
          "data": {
            "text/html": [
              "<style  type=\"text/css\" >\n",
              "#T_8db7232c_5a1a_11eb_b1f9_0242ac1c0002row0_col0,#T_8db7232c_5a1a_11eb_b1f9_0242ac1c0002row0_col3,#T_8db7232c_5a1a_11eb_b1f9_0242ac1c0002row0_col4,#T_8db7232c_5a1a_11eb_b1f9_0242ac1c0002row0_col6,#T_8db7232c_5a1a_11eb_b1f9_0242ac1c0002row0_col7,#T_8db7232c_5a1a_11eb_b1f9_0242ac1c0002row0_col8,#T_8db7232c_5a1a_11eb_b1f9_0242ac1c0002row0_col9,#T_8db7232c_5a1a_11eb_b1f9_0242ac1c0002row0_col10,#T_8db7232c_5a1a_11eb_b1f9_0242ac1c0002row0_col11,#T_8db7232c_5a1a_11eb_b1f9_0242ac1c0002row0_col12,#T_8db7232c_5a1a_11eb_b1f9_0242ac1c0002row0_col13,#T_8db7232c_5a1a_11eb_b1f9_0242ac1c0002row0_col15,#T_8db7232c_5a1a_11eb_b1f9_0242ac1c0002row0_col17,#T_8db7232c_5a1a_11eb_b1f9_0242ac1c0002row1_col1,#T_8db7232c_5a1a_11eb_b1f9_0242ac1c0002row1_col2,#T_8db7232c_5a1a_11eb_b1f9_0242ac1c0002row1_col6,#T_8db7232c_5a1a_11eb_b1f9_0242ac1c0002row1_col9,#T_8db7232c_5a1a_11eb_b1f9_0242ac1c0002row1_col10,#T_8db7232c_5a1a_11eb_b1f9_0242ac1c0002row1_col15,#T_8db7232c_5a1a_11eb_b1f9_0242ac1c0002row2_col1,#T_8db7232c_5a1a_11eb_b1f9_0242ac1c0002row2_col2,#T_8db7232c_5a1a_11eb_b1f9_0242ac1c0002row2_col6,#T_8db7232c_5a1a_11eb_b1f9_0242ac1c0002row2_col7,#T_8db7232c_5a1a_11eb_b1f9_0242ac1c0002row2_col11,#T_8db7232c_5a1a_11eb_b1f9_0242ac1c0002row2_col12,#T_8db7232c_5a1a_11eb_b1f9_0242ac1c0002row2_col13,#T_8db7232c_5a1a_11eb_b1f9_0242ac1c0002row2_col14,#T_8db7232c_5a1a_11eb_b1f9_0242ac1c0002row2_col15,#T_8db7232c_5a1a_11eb_b1f9_0242ac1c0002row2_col17,#T_8db7232c_5a1a_11eb_b1f9_0242ac1c0002row3_col0,#T_8db7232c_5a1a_11eb_b1f9_0242ac1c0002row3_col3,#T_8db7232c_5a1a_11eb_b1f9_0242ac1c0002row3_col4,#T_8db7232c_5a1a_11eb_b1f9_0242ac1c0002row3_col5,#T_8db7232c_5a1a_11eb_b1f9_0242ac1c0002row3_col6,#T_8db7232c_5a1a_11eb_b1f9_0242ac1c0002row3_col7,#T_8db7232c_5a1a_11eb_b1f9_0242ac1c0002row3_col8,#T_8db7232c_5a1a_11eb_b1f9_0242ac1c0002row3_col9,#T_8db7232c_5a1a_11eb_b1f9_0242ac1c0002row3_col11,#T_8db7232c_5a1a_11eb_b1f9_0242ac1c0002row3_col12,#T_8db7232c_5a1a_11eb_b1f9_0242ac1c0002row3_col13,#T_8db7232c_5a1a_11eb_b1f9_0242ac1c0002row3_col14,#T_8db7232c_5a1a_11eb_b1f9_0242ac1c0002row3_col15,#T_8db7232c_5a1a_11eb_b1f9_0242ac1c0002row3_col17,#T_8db7232c_5a1a_11eb_b1f9_0242ac1c0002row4_col0,#T_8db7232c_5a1a_11eb_b1f9_0242ac1c0002row4_col3,#T_8db7232c_5a1a_11eb_b1f9_0242ac1c0002row4_col4,#T_8db7232c_5a1a_11eb_b1f9_0242ac1c0002row4_col5,#T_8db7232c_5a1a_11eb_b1f9_0242ac1c0002row4_col6,#T_8db7232c_5a1a_11eb_b1f9_0242ac1c0002row4_col7,#T_8db7232c_5a1a_11eb_b1f9_0242ac1c0002row4_col8,#T_8db7232c_5a1a_11eb_b1f9_0242ac1c0002row4_col9,#T_8db7232c_5a1a_11eb_b1f9_0242ac1c0002row4_col10,#T_8db7232c_5a1a_11eb_b1f9_0242ac1c0002row4_col11,#T_8db7232c_5a1a_11eb_b1f9_0242ac1c0002row4_col12,#T_8db7232c_5a1a_11eb_b1f9_0242ac1c0002row4_col13,#T_8db7232c_5a1a_11eb_b1f9_0242ac1c0002row4_col14,#T_8db7232c_5a1a_11eb_b1f9_0242ac1c0002row4_col15,#T_8db7232c_5a1a_11eb_b1f9_0242ac1c0002row4_col16,#T_8db7232c_5a1a_11eb_b1f9_0242ac1c0002row4_col17,#T_8db7232c_5a1a_11eb_b1f9_0242ac1c0002row5_col3,#T_8db7232c_5a1a_11eb_b1f9_0242ac1c0002row5_col4,#T_8db7232c_5a1a_11eb_b1f9_0242ac1c0002row5_col5,#T_8db7232c_5a1a_11eb_b1f9_0242ac1c0002row5_col12,#T_8db7232c_5a1a_11eb_b1f9_0242ac1c0002row5_col13,#T_8db7232c_5a1a_11eb_b1f9_0242ac1c0002row5_col16,#T_8db7232c_5a1a_11eb_b1f9_0242ac1c0002row6_col0,#T_8db7232c_5a1a_11eb_b1f9_0242ac1c0002row6_col1,#T_8db7232c_5a1a_11eb_b1f9_0242ac1c0002row6_col2,#T_8db7232c_5a1a_11eb_b1f9_0242ac1c0002row6_col3,#T_8db7232c_5a1a_11eb_b1f9_0242ac1c0002row6_col4,#T_8db7232c_5a1a_11eb_b1f9_0242ac1c0002row6_col6,#T_8db7232c_5a1a_11eb_b1f9_0242ac1c0002row6_col7,#T_8db7232c_5a1a_11eb_b1f9_0242ac1c0002row6_col8,#T_8db7232c_5a1a_11eb_b1f9_0242ac1c0002row6_col9,#T_8db7232c_5a1a_11eb_b1f9_0242ac1c0002row6_col10,#T_8db7232c_5a1a_11eb_b1f9_0242ac1c0002row6_col11,#T_8db7232c_5a1a_11eb_b1f9_0242ac1c0002row6_col12,#T_8db7232c_5a1a_11eb_b1f9_0242ac1c0002row6_col13,#T_8db7232c_5a1a_11eb_b1f9_0242ac1c0002row6_col14,#T_8db7232c_5a1a_11eb_b1f9_0242ac1c0002row6_col15,#T_8db7232c_5a1a_11eb_b1f9_0242ac1c0002row6_col17,#T_8db7232c_5a1a_11eb_b1f9_0242ac1c0002row7_col0,#T_8db7232c_5a1a_11eb_b1f9_0242ac1c0002row7_col2,#T_8db7232c_5a1a_11eb_b1f9_0242ac1c0002row7_col3,#T_8db7232c_5a1a_11eb_b1f9_0242ac1c0002row7_col4,#T_8db7232c_5a1a_11eb_b1f9_0242ac1c0002row7_col6,#T_8db7232c_5a1a_11eb_b1f9_0242ac1c0002row7_col7,#T_8db7232c_5a1a_11eb_b1f9_0242ac1c0002row7_col8,#T_8db7232c_5a1a_11eb_b1f9_0242ac1c0002row7_col9,#T_8db7232c_5a1a_11eb_b1f9_0242ac1c0002row7_col10,#T_8db7232c_5a1a_11eb_b1f9_0242ac1c0002row7_col11,#T_8db7232c_5a1a_11eb_b1f9_0242ac1c0002row7_col12,#T_8db7232c_5a1a_11eb_b1f9_0242ac1c0002row7_col13,#T_8db7232c_5a1a_11eb_b1f9_0242ac1c0002row7_col14,#T_8db7232c_5a1a_11eb_b1f9_0242ac1c0002row7_col15,#T_8db7232c_5a1a_11eb_b1f9_0242ac1c0002row7_col16,#T_8db7232c_5a1a_11eb_b1f9_0242ac1c0002row7_col17,#T_8db7232c_5a1a_11eb_b1f9_0242ac1c0002row8_col0,#T_8db7232c_5a1a_11eb_b1f9_0242ac1c0002row8_col3,#T_8db7232c_5a1a_11eb_b1f9_0242ac1c0002row8_col4,#T_8db7232c_5a1a_11eb_b1f9_0242ac1c0002row8_col6,#T_8db7232c_5a1a_11eb_b1f9_0242ac1c0002row8_col7,#T_8db7232c_5a1a_11eb_b1f9_0242ac1c0002row8_col8,#T_8db7232c_5a1a_11eb_b1f9_0242ac1c0002row8_col9,#T_8db7232c_5a1a_11eb_b1f9_0242ac1c0002row8_col10,#T_8db7232c_5a1a_11eb_b1f9_0242ac1c0002row8_col11,#T_8db7232c_5a1a_11eb_b1f9_0242ac1c0002row8_col12,#T_8db7232c_5a1a_11eb_b1f9_0242ac1c0002row8_col14,#T_8db7232c_5a1a_11eb_b1f9_0242ac1c0002row8_col16,#T_8db7232c_5a1a_11eb_b1f9_0242ac1c0002row9_col0,#T_8db7232c_5a1a_11eb_b1f9_0242ac1c0002row9_col1,#T_8db7232c_5a1a_11eb_b1f9_0242ac1c0002row9_col3,#T_8db7232c_5a1a_11eb_b1f9_0242ac1c0002row9_col4,#T_8db7232c_5a1a_11eb_b1f9_0242ac1c0002row9_col6,#T_8db7232c_5a1a_11eb_b1f9_0242ac1c0002row9_col7,#T_8db7232c_5a1a_11eb_b1f9_0242ac1c0002row9_col8,#T_8db7232c_5a1a_11eb_b1f9_0242ac1c0002row9_col9,#T_8db7232c_5a1a_11eb_b1f9_0242ac1c0002row9_col10,#T_8db7232c_5a1a_11eb_b1f9_0242ac1c0002row9_col11,#T_8db7232c_5a1a_11eb_b1f9_0242ac1c0002row9_col12,#T_8db7232c_5a1a_11eb_b1f9_0242ac1c0002row9_col13,#T_8db7232c_5a1a_11eb_b1f9_0242ac1c0002row9_col15,#T_8db7232c_5a1a_11eb_b1f9_0242ac1c0002row9_col16,#T_8db7232c_5a1a_11eb_b1f9_0242ac1c0002row9_col17,#T_8db7232c_5a1a_11eb_b1f9_0242ac1c0002row10_col0,#T_8db7232c_5a1a_11eb_b1f9_0242ac1c0002row10_col1,#T_8db7232c_5a1a_11eb_b1f9_0242ac1c0002row10_col4,#T_8db7232c_5a1a_11eb_b1f9_0242ac1c0002row10_col6,#T_8db7232c_5a1a_11eb_b1f9_0242ac1c0002row10_col7,#T_8db7232c_5a1a_11eb_b1f9_0242ac1c0002row10_col8,#T_8db7232c_5a1a_11eb_b1f9_0242ac1c0002row10_col9,#T_8db7232c_5a1a_11eb_b1f9_0242ac1c0002row10_col10,#T_8db7232c_5a1a_11eb_b1f9_0242ac1c0002row10_col11,#T_8db7232c_5a1a_11eb_b1f9_0242ac1c0002row10_col12,#T_8db7232c_5a1a_11eb_b1f9_0242ac1c0002row10_col14,#T_8db7232c_5a1a_11eb_b1f9_0242ac1c0002row11_col0,#T_8db7232c_5a1a_11eb_b1f9_0242ac1c0002row11_col2,#T_8db7232c_5a1a_11eb_b1f9_0242ac1c0002row11_col3,#T_8db7232c_5a1a_11eb_b1f9_0242ac1c0002row11_col4,#T_8db7232c_5a1a_11eb_b1f9_0242ac1c0002row11_col6,#T_8db7232c_5a1a_11eb_b1f9_0242ac1c0002row11_col7,#T_8db7232c_5a1a_11eb_b1f9_0242ac1c0002row11_col8,#T_8db7232c_5a1a_11eb_b1f9_0242ac1c0002row11_col9,#T_8db7232c_5a1a_11eb_b1f9_0242ac1c0002row11_col10,#T_8db7232c_5a1a_11eb_b1f9_0242ac1c0002row11_col11,#T_8db7232c_5a1a_11eb_b1f9_0242ac1c0002row11_col12,#T_8db7232c_5a1a_11eb_b1f9_0242ac1c0002row11_col13,#T_8db7232c_5a1a_11eb_b1f9_0242ac1c0002row11_col14,#T_8db7232c_5a1a_11eb_b1f9_0242ac1c0002row11_col15,#T_8db7232c_5a1a_11eb_b1f9_0242ac1c0002row11_col17,#T_8db7232c_5a1a_11eb_b1f9_0242ac1c0002row12_col0,#T_8db7232c_5a1a_11eb_b1f9_0242ac1c0002row12_col2,#T_8db7232c_5a1a_11eb_b1f9_0242ac1c0002row12_col3,#T_8db7232c_5a1a_11eb_b1f9_0242ac1c0002row12_col4,#T_8db7232c_5a1a_11eb_b1f9_0242ac1c0002row12_col5,#T_8db7232c_5a1a_11eb_b1f9_0242ac1c0002row12_col6,#T_8db7232c_5a1a_11eb_b1f9_0242ac1c0002row12_col7,#T_8db7232c_5a1a_11eb_b1f9_0242ac1c0002row12_col8,#T_8db7232c_5a1a_11eb_b1f9_0242ac1c0002row12_col9,#T_8db7232c_5a1a_11eb_b1f9_0242ac1c0002row12_col10,#T_8db7232c_5a1a_11eb_b1f9_0242ac1c0002row12_col11,#T_8db7232c_5a1a_11eb_b1f9_0242ac1c0002row12_col12,#T_8db7232c_5a1a_11eb_b1f9_0242ac1c0002row12_col13,#T_8db7232c_5a1a_11eb_b1f9_0242ac1c0002row12_col14,#T_8db7232c_5a1a_11eb_b1f9_0242ac1c0002row12_col15,#T_8db7232c_5a1a_11eb_b1f9_0242ac1c0002row12_col17,#T_8db7232c_5a1a_11eb_b1f9_0242ac1c0002row13_col0,#T_8db7232c_5a1a_11eb_b1f9_0242ac1c0002row13_col2,#T_8db7232c_5a1a_11eb_b1f9_0242ac1c0002row13_col3,#T_8db7232c_5a1a_11eb_b1f9_0242ac1c0002row13_col4,#T_8db7232c_5a1a_11eb_b1f9_0242ac1c0002row13_col5,#T_8db7232c_5a1a_11eb_b1f9_0242ac1c0002row13_col6,#T_8db7232c_5a1a_11eb_b1f9_0242ac1c0002row13_col7,#T_8db7232c_5a1a_11eb_b1f9_0242ac1c0002row13_col9,#T_8db7232c_5a1a_11eb_b1f9_0242ac1c0002row13_col11,#T_8db7232c_5a1a_11eb_b1f9_0242ac1c0002row13_col12,#T_8db7232c_5a1a_11eb_b1f9_0242ac1c0002row13_col13,#T_8db7232c_5a1a_11eb_b1f9_0242ac1c0002row13_col14,#T_8db7232c_5a1a_11eb_b1f9_0242ac1c0002row13_col15,#T_8db7232c_5a1a_11eb_b1f9_0242ac1c0002row13_col17,#T_8db7232c_5a1a_11eb_b1f9_0242ac1c0002row14_col2,#T_8db7232c_5a1a_11eb_b1f9_0242ac1c0002row14_col3,#T_8db7232c_5a1a_11eb_b1f9_0242ac1c0002row14_col4,#T_8db7232c_5a1a_11eb_b1f9_0242ac1c0002row14_col6,#T_8db7232c_5a1a_11eb_b1f9_0242ac1c0002row14_col7,#T_8db7232c_5a1a_11eb_b1f9_0242ac1c0002row14_col8,#T_8db7232c_5a1a_11eb_b1f9_0242ac1c0002row14_col10,#T_8db7232c_5a1a_11eb_b1f9_0242ac1c0002row14_col11,#T_8db7232c_5a1a_11eb_b1f9_0242ac1c0002row14_col12,#T_8db7232c_5a1a_11eb_b1f9_0242ac1c0002row14_col13,#T_8db7232c_5a1a_11eb_b1f9_0242ac1c0002row14_col14,#T_8db7232c_5a1a_11eb_b1f9_0242ac1c0002row14_col17,#T_8db7232c_5a1a_11eb_b1f9_0242ac1c0002row15_col0,#T_8db7232c_5a1a_11eb_b1f9_0242ac1c0002row15_col1,#T_8db7232c_5a1a_11eb_b1f9_0242ac1c0002row15_col2,#T_8db7232c_5a1a_11eb_b1f9_0242ac1c0002row15_col3,#T_8db7232c_5a1a_11eb_b1f9_0242ac1c0002row15_col4,#T_8db7232c_5a1a_11eb_b1f9_0242ac1c0002row15_col6,#T_8db7232c_5a1a_11eb_b1f9_0242ac1c0002row15_col7,#T_8db7232c_5a1a_11eb_b1f9_0242ac1c0002row15_col9,#T_8db7232c_5a1a_11eb_b1f9_0242ac1c0002row15_col11,#T_8db7232c_5a1a_11eb_b1f9_0242ac1c0002row15_col12,#T_8db7232c_5a1a_11eb_b1f9_0242ac1c0002row15_col13,#T_8db7232c_5a1a_11eb_b1f9_0242ac1c0002row15_col15,#T_8db7232c_5a1a_11eb_b1f9_0242ac1c0002row15_col17,#T_8db7232c_5a1a_11eb_b1f9_0242ac1c0002row16_col4,#T_8db7232c_5a1a_11eb_b1f9_0242ac1c0002row16_col5,#T_8db7232c_5a1a_11eb_b1f9_0242ac1c0002row16_col7,#T_8db7232c_5a1a_11eb_b1f9_0242ac1c0002row16_col8,#T_8db7232c_5a1a_11eb_b1f9_0242ac1c0002row16_col9,#T_8db7232c_5a1a_11eb_b1f9_0242ac1c0002row16_col16,#T_8db7232c_5a1a_11eb_b1f9_0242ac1c0002row17_col0,#T_8db7232c_5a1a_11eb_b1f9_0242ac1c0002row17_col2,#T_8db7232c_5a1a_11eb_b1f9_0242ac1c0002row17_col3,#T_8db7232c_5a1a_11eb_b1f9_0242ac1c0002row17_col4,#T_8db7232c_5a1a_11eb_b1f9_0242ac1c0002row17_col6,#T_8db7232c_5a1a_11eb_b1f9_0242ac1c0002row17_col7,#T_8db7232c_5a1a_11eb_b1f9_0242ac1c0002row17_col9,#T_8db7232c_5a1a_11eb_b1f9_0242ac1c0002row17_col11,#T_8db7232c_5a1a_11eb_b1f9_0242ac1c0002row17_col12,#T_8db7232c_5a1a_11eb_b1f9_0242ac1c0002row17_col13,#T_8db7232c_5a1a_11eb_b1f9_0242ac1c0002row17_col14,#T_8db7232c_5a1a_11eb_b1f9_0242ac1c0002row17_col15,#T_8db7232c_5a1a_11eb_b1f9_0242ac1c0002row17_col17{\n",
              "            color:  green;\n",
              "        }#T_8db7232c_5a1a_11eb_b1f9_0242ac1c0002row0_col1,#T_8db7232c_5a1a_11eb_b1f9_0242ac1c0002row0_col2,#T_8db7232c_5a1a_11eb_b1f9_0242ac1c0002row0_col5,#T_8db7232c_5a1a_11eb_b1f9_0242ac1c0002row0_col14,#T_8db7232c_5a1a_11eb_b1f9_0242ac1c0002row0_col16,#T_8db7232c_5a1a_11eb_b1f9_0242ac1c0002row1_col0,#T_8db7232c_5a1a_11eb_b1f9_0242ac1c0002row1_col3,#T_8db7232c_5a1a_11eb_b1f9_0242ac1c0002row1_col4,#T_8db7232c_5a1a_11eb_b1f9_0242ac1c0002row1_col5,#T_8db7232c_5a1a_11eb_b1f9_0242ac1c0002row1_col7,#T_8db7232c_5a1a_11eb_b1f9_0242ac1c0002row1_col8,#T_8db7232c_5a1a_11eb_b1f9_0242ac1c0002row1_col11,#T_8db7232c_5a1a_11eb_b1f9_0242ac1c0002row1_col12,#T_8db7232c_5a1a_11eb_b1f9_0242ac1c0002row1_col13,#T_8db7232c_5a1a_11eb_b1f9_0242ac1c0002row1_col14,#T_8db7232c_5a1a_11eb_b1f9_0242ac1c0002row1_col16,#T_8db7232c_5a1a_11eb_b1f9_0242ac1c0002row1_col17,#T_8db7232c_5a1a_11eb_b1f9_0242ac1c0002row2_col0,#T_8db7232c_5a1a_11eb_b1f9_0242ac1c0002row2_col3,#T_8db7232c_5a1a_11eb_b1f9_0242ac1c0002row2_col4,#T_8db7232c_5a1a_11eb_b1f9_0242ac1c0002row2_col5,#T_8db7232c_5a1a_11eb_b1f9_0242ac1c0002row2_col8,#T_8db7232c_5a1a_11eb_b1f9_0242ac1c0002row2_col9,#T_8db7232c_5a1a_11eb_b1f9_0242ac1c0002row2_col10,#T_8db7232c_5a1a_11eb_b1f9_0242ac1c0002row2_col16,#T_8db7232c_5a1a_11eb_b1f9_0242ac1c0002row3_col1,#T_8db7232c_5a1a_11eb_b1f9_0242ac1c0002row3_col2,#T_8db7232c_5a1a_11eb_b1f9_0242ac1c0002row3_col10,#T_8db7232c_5a1a_11eb_b1f9_0242ac1c0002row3_col16,#T_8db7232c_5a1a_11eb_b1f9_0242ac1c0002row4_col1,#T_8db7232c_5a1a_11eb_b1f9_0242ac1c0002row4_col2,#T_8db7232c_5a1a_11eb_b1f9_0242ac1c0002row5_col0,#T_8db7232c_5a1a_11eb_b1f9_0242ac1c0002row5_col1,#T_8db7232c_5a1a_11eb_b1f9_0242ac1c0002row5_col2,#T_8db7232c_5a1a_11eb_b1f9_0242ac1c0002row5_col6,#T_8db7232c_5a1a_11eb_b1f9_0242ac1c0002row5_col7,#T_8db7232c_5a1a_11eb_b1f9_0242ac1c0002row5_col8,#T_8db7232c_5a1a_11eb_b1f9_0242ac1c0002row5_col9,#T_8db7232c_5a1a_11eb_b1f9_0242ac1c0002row5_col10,#T_8db7232c_5a1a_11eb_b1f9_0242ac1c0002row5_col11,#T_8db7232c_5a1a_11eb_b1f9_0242ac1c0002row5_col14,#T_8db7232c_5a1a_11eb_b1f9_0242ac1c0002row5_col15,#T_8db7232c_5a1a_11eb_b1f9_0242ac1c0002row5_col17,#T_8db7232c_5a1a_11eb_b1f9_0242ac1c0002row6_col5,#T_8db7232c_5a1a_11eb_b1f9_0242ac1c0002row6_col16,#T_8db7232c_5a1a_11eb_b1f9_0242ac1c0002row7_col1,#T_8db7232c_5a1a_11eb_b1f9_0242ac1c0002row7_col5,#T_8db7232c_5a1a_11eb_b1f9_0242ac1c0002row8_col1,#T_8db7232c_5a1a_11eb_b1f9_0242ac1c0002row8_col2,#T_8db7232c_5a1a_11eb_b1f9_0242ac1c0002row8_col5,#T_8db7232c_5a1a_11eb_b1f9_0242ac1c0002row8_col13,#T_8db7232c_5a1a_11eb_b1f9_0242ac1c0002row8_col15,#T_8db7232c_5a1a_11eb_b1f9_0242ac1c0002row8_col17,#T_8db7232c_5a1a_11eb_b1f9_0242ac1c0002row9_col2,#T_8db7232c_5a1a_11eb_b1f9_0242ac1c0002row9_col5,#T_8db7232c_5a1a_11eb_b1f9_0242ac1c0002row9_col14,#T_8db7232c_5a1a_11eb_b1f9_0242ac1c0002row10_col2,#T_8db7232c_5a1a_11eb_b1f9_0242ac1c0002row10_col3,#T_8db7232c_5a1a_11eb_b1f9_0242ac1c0002row10_col5,#T_8db7232c_5a1a_11eb_b1f9_0242ac1c0002row10_col13,#T_8db7232c_5a1a_11eb_b1f9_0242ac1c0002row10_col15,#T_8db7232c_5a1a_11eb_b1f9_0242ac1c0002row10_col16,#T_8db7232c_5a1a_11eb_b1f9_0242ac1c0002row10_col17,#T_8db7232c_5a1a_11eb_b1f9_0242ac1c0002row11_col1,#T_8db7232c_5a1a_11eb_b1f9_0242ac1c0002row11_col5,#T_8db7232c_5a1a_11eb_b1f9_0242ac1c0002row11_col16,#T_8db7232c_5a1a_11eb_b1f9_0242ac1c0002row12_col1,#T_8db7232c_5a1a_11eb_b1f9_0242ac1c0002row12_col16,#T_8db7232c_5a1a_11eb_b1f9_0242ac1c0002row13_col1,#T_8db7232c_5a1a_11eb_b1f9_0242ac1c0002row13_col8,#T_8db7232c_5a1a_11eb_b1f9_0242ac1c0002row13_col10,#T_8db7232c_5a1a_11eb_b1f9_0242ac1c0002row13_col16,#T_8db7232c_5a1a_11eb_b1f9_0242ac1c0002row14_col0,#T_8db7232c_5a1a_11eb_b1f9_0242ac1c0002row14_col1,#T_8db7232c_5a1a_11eb_b1f9_0242ac1c0002row14_col5,#T_8db7232c_5a1a_11eb_b1f9_0242ac1c0002row14_col9,#T_8db7232c_5a1a_11eb_b1f9_0242ac1c0002row14_col15,#T_8db7232c_5a1a_11eb_b1f9_0242ac1c0002row14_col16,#T_8db7232c_5a1a_11eb_b1f9_0242ac1c0002row15_col5,#T_8db7232c_5a1a_11eb_b1f9_0242ac1c0002row15_col8,#T_8db7232c_5a1a_11eb_b1f9_0242ac1c0002row15_col10,#T_8db7232c_5a1a_11eb_b1f9_0242ac1c0002row15_col14,#T_8db7232c_5a1a_11eb_b1f9_0242ac1c0002row15_col16,#T_8db7232c_5a1a_11eb_b1f9_0242ac1c0002row16_col0,#T_8db7232c_5a1a_11eb_b1f9_0242ac1c0002row16_col1,#T_8db7232c_5a1a_11eb_b1f9_0242ac1c0002row16_col2,#T_8db7232c_5a1a_11eb_b1f9_0242ac1c0002row16_col3,#T_8db7232c_5a1a_11eb_b1f9_0242ac1c0002row16_col6,#T_8db7232c_5a1a_11eb_b1f9_0242ac1c0002row16_col10,#T_8db7232c_5a1a_11eb_b1f9_0242ac1c0002row16_col11,#T_8db7232c_5a1a_11eb_b1f9_0242ac1c0002row16_col12,#T_8db7232c_5a1a_11eb_b1f9_0242ac1c0002row16_col13,#T_8db7232c_5a1a_11eb_b1f9_0242ac1c0002row16_col14,#T_8db7232c_5a1a_11eb_b1f9_0242ac1c0002row16_col15,#T_8db7232c_5a1a_11eb_b1f9_0242ac1c0002row16_col17,#T_8db7232c_5a1a_11eb_b1f9_0242ac1c0002row17_col1,#T_8db7232c_5a1a_11eb_b1f9_0242ac1c0002row17_col5,#T_8db7232c_5a1a_11eb_b1f9_0242ac1c0002row17_col8,#T_8db7232c_5a1a_11eb_b1f9_0242ac1c0002row17_col10,#T_8db7232c_5a1a_11eb_b1f9_0242ac1c0002row17_col16{\n",
              "            color:  red;\n",
              "        }</style><table id=\"T_8db7232c_5a1a_11eb_b1f9_0242ac1c0002\" ><thead>    <tr>        <th class=\"blank level0\" ></th>        <th class=\"col_heading level0 col0\" >customer_zip_code_prefix</th>        <th class=\"col_heading level0 col1\" >review_score</th>        <th class=\"col_heading level0 col2\" >payment_sequential</th>        <th class=\"col_heading level0 col3\" >payment_installments</th>        <th class=\"col_heading level0 col4\" >payment_value</th>        <th class=\"col_heading level0 col5\" >order_item_id</th>        <th class=\"col_heading level0 col6\" >price</th>        <th class=\"col_heading level0 col7\" >freight_value</th>        <th class=\"col_heading level0 col8\" >product_name_lenght</th>        <th class=\"col_heading level0 col9\" >product_description_lenght</th>        <th class=\"col_heading level0 col10\" >product_photos_qty</th>        <th class=\"col_heading level0 col11\" >product_weight_g</th>        <th class=\"col_heading level0 col12\" >product_length_cm</th>        <th class=\"col_heading level0 col13\" >product_height_cm</th>        <th class=\"col_heading level0 col14\" >product_width_cm</th>        <th class=\"col_heading level0 col15\" >seller_zip_code_prefix</th>        <th class=\"col_heading level0 col16\" >Year</th>        <th class=\"col_heading level0 col17\" >delivery_time</th>    </tr></thead><tbody>\n",
              "                <tr>\n",
              "                        <th id=\"T_8db7232c_5a1a_11eb_b1f9_0242ac1c0002level0_row0\" class=\"row_heading level0 row0\" >customer_zip_code_prefix</th>\n",
              "                        <td id=\"T_8db7232c_5a1a_11eb_b1f9_0242ac1c0002row0_col0\" class=\"data row0 col0\" >890987457.614321</td>\n",
              "                        <td id=\"T_8db7232c_5a1a_11eb_b1f9_0242ac1c0002row0_col1\" class=\"data row0 col1\" >-1078.662004</td>\n",
              "                        <td id=\"T_8db7232c_5a1a_11eb_b1f9_0242ac1c0002row0_col2\" class=\"data row0 col2\" >-597.870027</td>\n",
              "                        <td id=\"T_8db7232c_5a1a_11eb_b1f9_0242ac1c0002row0_col3\" class=\"data row0 col3\" >4802.317171</td>\n",
              "                        <td id=\"T_8db7232c_5a1a_11eb_b1f9_0242ac1c0002row0_col4\" class=\"data row0 col4\" >418809.336192</td>\n",
              "                        <td id=\"T_8db7232c_5a1a_11eb_b1f9_0242ac1c0002row0_col5\" class=\"data row0 col5\" >-12.863020</td>\n",
              "                        <td id=\"T_8db7232c_5a1a_11eb_b1f9_0242ac1c0002row0_col6\" class=\"data row0 col6\" >227441.498083</td>\n",
              "                        <td id=\"T_8db7232c_5a1a_11eb_b1f9_0242ac1c0002row0_col7\" class=\"data row0 col7\" >105815.359581</td>\n",
              "                        <td id=\"T_8db7232c_5a1a_11eb_b1f9_0242ac1c0002row0_col8\" class=\"data row0 col8\" >4818.246414</td>\n",
              "                        <td id=\"T_8db7232c_5a1a_11eb_b1f9_0242ac1c0002row0_col9\" class=\"data row0 col9\" >472171.765400</td>\n",
              "                        <td id=\"T_8db7232c_5a1a_11eb_b1f9_0242ac1c0002row0_col10\" class=\"data row0 col10\" >1081.273758</td>\n",
              "                        <td id=\"T_8db7232c_5a1a_11eb_b1f9_0242ac1c0002row0_col11\" class=\"data row0 col11\" >119425.969731</td>\n",
              "                        <td id=\"T_8db7232c_5a1a_11eb_b1f9_0242ac1c0002row0_col12\" class=\"data row0 col12\" >1754.077836</td>\n",
              "                        <td id=\"T_8db7232c_5a1a_11eb_b1f9_0242ac1c0002row0_col13\" class=\"data row0 col13\" >4677.937342</td>\n",
              "                        <td id=\"T_8db7232c_5a1a_11eb_b1f9_0242ac1c0002row0_col14\" class=\"data row0 col14\" >-3561.002730</td>\n",
              "                        <td id=\"T_8db7232c_5a1a_11eb_b1f9_0242ac1c0002row0_col15\" class=\"data row0 col15\" >61519352.567391</td>\n",
              "                        <td id=\"T_8db7232c_5a1a_11eb_b1f9_0242ac1c0002row0_col16\" class=\"data row0 col16\" >-505.424265</td>\n",
              "                        <td id=\"T_8db7232c_5a1a_11eb_b1f9_0242ac1c0002row0_col17\" class=\"data row0 col17\" >1835222.032278</td>\n",
              "            </tr>\n",
              "            <tr>\n",
              "                        <th id=\"T_8db7232c_5a1a_11eb_b1f9_0242ac1c0002level0_row1\" class=\"row_heading level0 row1\" >review_score</th>\n",
              "                        <td id=\"T_8db7232c_5a1a_11eb_b1f9_0242ac1c0002row1_col0\" class=\"data row1 col0\" >-1078.662004</td>\n",
              "                        <td id=\"T_8db7232c_5a1a_11eb_b1f9_0242ac1c0002row1_col1\" class=\"data row1 col1\" >1.843675</td>\n",
              "                        <td id=\"T_8db7232c_5a1a_11eb_b1f9_0242ac1c0002row1_col2\" class=\"data row1 col2\" >0.005495</td>\n",
              "                        <td id=\"T_8db7232c_5a1a_11eb_b1f9_0242ac1c0002row1_col3\" class=\"data row1 col3\" >-0.164697</td>\n",
              "                        <td id=\"T_8db7232c_5a1a_11eb_b1f9_0242ac1c0002row1_col4\" class=\"data row1 col4\" >-30.296751</td>\n",
              "                        <td id=\"T_8db7232c_5a1a_11eb_b1f9_0242ac1c0002row1_col5\" class=\"data row1 col5\" >-0.132476</td>\n",
              "                        <td id=\"T_8db7232c_5a1a_11eb_b1f9_0242ac1c0002row1_col6\" class=\"data row1 col6\" >0.471678</td>\n",
              "                        <td id=\"T_8db7232c_5a1a_11eb_b1f9_0242ac1c0002row1_col7\" class=\"data row1 col7\" >-0.732858</td>\n",
              "                        <td id=\"T_8db7232c_5a1a_11eb_b1f9_0242ac1c0002row1_col8\" class=\"data row1 col8\" >-0.175674</td>\n",
              "                        <td id=\"T_8db7232c_5a1a_11eb_b1f9_0242ac1c0002row1_col9\" class=\"data row1 col9\" >12.184492</td>\n",
              "                        <td id=\"T_8db7232c_5a1a_11eb_b1f9_0242ac1c0002row1_col10\" class=\"data row1 col10\" >0.050132</td>\n",
              "                        <td id=\"T_8db7232c_5a1a_11eb_b1f9_0242ac1c0002row1_col11\" class=\"data row1 col11\" >-140.410401</td>\n",
              "                        <td id=\"T_8db7232c_5a1a_11eb_b1f9_0242ac1c0002row1_col12\" class=\"data row1 col12\" >-0.458467</td>\n",
              "                        <td id=\"T_8db7232c_5a1a_11eb_b1f9_0242ac1c0002row1_col13\" class=\"data row1 col13\" >-0.433442</td>\n",
              "                        <td id=\"T_8db7232c_5a1a_11eb_b1f9_0242ac1c0002row1_col14\" class=\"data row1 col14\" >-0.196617</td>\n",
              "                        <td id=\"T_8db7232c_5a1a_11eb_b1f9_0242ac1c0002row1_col15\" class=\"data row1 col15\" >1008.980184</td>\n",
              "                        <td id=\"T_8db7232c_5a1a_11eb_b1f9_0242ac1c0002row1_col16\" class=\"data row1 col16\" >-0.009912</td>\n",
              "                        <td id=\"T_8db7232c_5a1a_11eb_b1f9_0242ac1c0002row1_col17\" class=\"data row1 col17\" >-93.652060</td>\n",
              "            </tr>\n",
              "            <tr>\n",
              "                        <th id=\"T_8db7232c_5a1a_11eb_b1f9_0242ac1c0002level0_row2\" class=\"row_heading level0 row2\" >payment_sequential</th>\n",
              "                        <td id=\"T_8db7232c_5a1a_11eb_b1f9_0242ac1c0002row2_col0\" class=\"data row2 col0\" >-597.870027</td>\n",
              "                        <td id=\"T_8db7232c_5a1a_11eb_b1f9_0242ac1c0002row2_col1\" class=\"data row2 col1\" >0.005495</td>\n",
              "                        <td id=\"T_8db7232c_5a1a_11eb_b1f9_0242ac1c0002row2_col2\" class=\"data row2 col2\" >0.468608</td>\n",
              "                        <td id=\"T_8db7232c_5a1a_11eb_b1f9_0242ac1c0002row2_col3\" class=\"data row2 col3\" >-0.167610</td>\n",
              "                        <td id=\"T_8db7232c_5a1a_11eb_b1f9_0242ac1c0002row2_col4\" class=\"data row2 col4\" >-11.924081</td>\n",
              "                        <td id=\"T_8db7232c_5a1a_11eb_b1f9_0242ac1c0002row2_col5\" class=\"data row2 col5\" >-0.000415</td>\n",
              "                        <td id=\"T_8db7232c_5a1a_11eb_b1f9_0242ac1c0002row2_col6\" class=\"data row2 col6\" >0.017497</td>\n",
              "                        <td id=\"T_8db7232c_5a1a_11eb_b1f9_0242ac1c0002row2_col7\" class=\"data row2 col7\" >0.082001</td>\n",
              "                        <td id=\"T_8db7232c_5a1a_11eb_b1f9_0242ac1c0002row2_col8\" class=\"data row2 col8\" >-0.015357</td>\n",
              "                        <td id=\"T_8db7232c_5a1a_11eb_b1f9_0242ac1c0002row2_col9\" class=\"data row2 col9\" >-4.681252</td>\n",
              "                        <td id=\"T_8db7232c_5a1a_11eb_b1f9_0242ac1c0002row2_col10\" class=\"data row2 col10\" >-0.009904</td>\n",
              "                        <td id=\"T_8db7232c_5a1a_11eb_b1f9_0242ac1c0002row2_col11\" class=\"data row2 col11\" >65.404410</td>\n",
              "                        <td id=\"T_8db7232c_5a1a_11eb_b1f9_0242ac1c0002row2_col12\" class=\"data row2 col12\" >0.330243</td>\n",
              "                        <td id=\"T_8db7232c_5a1a_11eb_b1f9_0242ac1c0002row2_col13\" class=\"data row2 col13\" >0.183276</td>\n",
              "                        <td id=\"T_8db7232c_5a1a_11eb_b1f9_0242ac1c0002row2_col14\" class=\"data row2 col14\" >0.239364</td>\n",
              "                        <td id=\"T_8db7232c_5a1a_11eb_b1f9_0242ac1c0002row2_col15\" class=\"data row2 col15\" >86.461169</td>\n",
              "                        <td id=\"T_8db7232c_5a1a_11eb_b1f9_0242ac1c0002row2_col16\" class=\"data row2 col16\" >-0.015323</td>\n",
              "                        <td id=\"T_8db7232c_5a1a_11eb_b1f9_0242ac1c0002row2_col17\" class=\"data row2 col17\" >0.375957</td>\n",
              "            </tr>\n",
              "            <tr>\n",
              "                        <th id=\"T_8db7232c_5a1a_11eb_b1f9_0242ac1c0002level0_row3\" class=\"row_heading level0 row3\" >payment_installments</th>\n",
              "                        <td id=\"T_8db7232c_5a1a_11eb_b1f9_0242ac1c0002row3_col0\" class=\"data row3 col0\" >4802.317171</td>\n",
              "                        <td id=\"T_8db7232c_5a1a_11eb_b1f9_0242ac1c0002row3_col1\" class=\"data row3 col1\" >-0.164697</td>\n",
              "                        <td id=\"T_8db7232c_5a1a_11eb_b1f9_0242ac1c0002row3_col2\" class=\"data row3 col2\" >-0.167610</td>\n",
              "                        <td id=\"T_8db7232c_5a1a_11eb_b1f9_0242ac1c0002row3_col3\" class=\"data row3 col3\" >7.738147</td>\n",
              "                        <td id=\"T_8db7232c_5a1a_11eb_b1f9_0242ac1c0002row3_col4\" class=\"data row3 col4\" >202.715820</td>\n",
              "                        <td id=\"T_8db7232c_5a1a_11eb_b1f9_0242ac1c0002row3_col5\" class=\"data row3 col5\" >0.145733</td>\n",
              "                        <td id=\"T_8db7232c_5a1a_11eb_b1f9_0242ac1c0002row3_col6\" class=\"data row3 col6\" >141.261125</td>\n",
              "                        <td id=\"T_8db7232c_5a1a_11eb_b1f9_0242ac1c0002row3_col7\" class=\"data row3 col7\" >8.146259</td>\n",
              "                        <td id=\"T_8db7232c_5a1a_11eb_b1f9_0242ac1c0002row3_col8\" class=\"data row3 col8\" >0.591975</td>\n",
              "                        <td id=\"T_8db7232c_5a1a_11eb_b1f9_0242ac1c0002row3_col9\" class=\"data row3 col9\" >65.106006</td>\n",
              "                        <td id=\"T_8db7232c_5a1a_11eb_b1f9_0242ac1c0002row3_col10\" class=\"data row3 col10\" >-0.003907</td>\n",
              "                        <td id=\"T_8db7232c_5a1a_11eb_b1f9_0242ac1c0002row3_col11\" class=\"data row3 col11\" >1878.915850</td>\n",
              "                        <td id=\"T_8db7232c_5a1a_11eb_b1f9_0242ac1c0002row3_col12\" class=\"data row3 col12\" >5.250068</td>\n",
              "                        <td id=\"T_8db7232c_5a1a_11eb_b1f9_0242ac1c0002row3_col13\" class=\"data row3 col13\" >4.519772</td>\n",
              "                        <td id=\"T_8db7232c_5a1a_11eb_b1f9_0242ac1c0002row3_col14\" class=\"data row3 col14\" >4.483753</td>\n",
              "                        <td id=\"T_8db7232c_5a1a_11eb_b1f9_0242ac1c0002row3_col15\" class=\"data row3 col15\" >2932.165565</td>\n",
              "                        <td id=\"T_8db7232c_5a1a_11eb_b1f9_0242ac1c0002row3_col16\" class=\"data row3 col16\" >-0.072171</td>\n",
              "                        <td id=\"T_8db7232c_5a1a_11eb_b1f9_0242ac1c0002row3_col17\" class=\"data row3 col17\" >27.931713</td>\n",
              "            </tr>\n",
              "            <tr>\n",
              "                        <th id=\"T_8db7232c_5a1a_11eb_b1f9_0242ac1c0002level0_row4\" class=\"row_heading level0 row4\" >payment_value</th>\n",
              "                        <td id=\"T_8db7232c_5a1a_11eb_b1f9_0242ac1c0002row4_col0\" class=\"data row4 col0\" >418809.336192</td>\n",
              "                        <td id=\"T_8db7232c_5a1a_11eb_b1f9_0242ac1c0002row4_col1\" class=\"data row4 col1\" >-30.296751</td>\n",
              "                        <td id=\"T_8db7232c_5a1a_11eb_b1f9_0242ac1c0002row4_col2\" class=\"data row4 col2\" >-11.924081</td>\n",
              "                        <td id=\"T_8db7232c_5a1a_11eb_b1f9_0242ac1c0002row4_col3\" class=\"data row4 col3\" >202.715820</td>\n",
              "                        <td id=\"T_8db7232c_5a1a_11eb_b1f9_0242ac1c0002row4_col4\" class=\"data row4 col4\" >70810.631398</td>\n",
              "                        <td id=\"T_8db7232c_5a1a_11eb_b1f9_0242ac1c0002row4_col5\" class=\"data row4 col5\" >50.059587</td>\n",
              "                        <td id=\"T_8db7232c_5a1a_11eb_b1f9_0242ac1c0002row4_col6\" class=\"data row4 col6\" >35729.568078</td>\n",
              "                        <td id=\"T_8db7232c_5a1a_11eb_b1f9_0242ac1c0002row4_col7\" class=\"data row4 col7\" >1558.599730</td>\n",
              "                        <td id=\"T_8db7232c_5a1a_11eb_b1f9_0242ac1c0002row4_col8\" class=\"data row4 col8\" >11.862732</td>\n",
              "                        <td id=\"T_8db7232c_5a1a_11eb_b1f9_0242ac1c0002row4_col9\" class=\"data row4 col9\" >27187.526422</td>\n",
              "                        <td id=\"T_8db7232c_5a1a_11eb_b1f9_0242ac1c0002row4_col10\" class=\"data row4 col10\" >4.725770</td>\n",
              "                        <td id=\"T_8db7232c_5a1a_11eb_b1f9_0242ac1c0002row4_col11\" class=\"data row4 col11\" >306776.131433</td>\n",
              "                        <td id=\"T_8db7232c_5a1a_11eb_b1f9_0242ac1c0002row4_col12\" class=\"data row4 col12\" >594.842755</td>\n",
              "                        <td id=\"T_8db7232c_5a1a_11eb_b1f9_0242ac1c0002row4_col13\" class=\"data row4 col13\" >775.605934</td>\n",
              "                        <td id=\"T_8db7232c_5a1a_11eb_b1f9_0242ac1c0002row4_col14\" class=\"data row4 col14\" >464.177263</td>\n",
              "                        <td id=\"T_8db7232c_5a1a_11eb_b1f9_0242ac1c0002row4_col15\" class=\"data row4 col15\" >512301.812536</td>\n",
              "                        <td id=\"T_8db7232c_5a1a_11eb_b1f9_0242ac1c0002row4_col16\" class=\"data row4 col16\" >0.705268</td>\n",
              "                        <td id=\"T_8db7232c_5a1a_11eb_b1f9_0242ac1c0002row4_col17\" class=\"data row4 col17\" >3598.911409</td>\n",
              "            </tr>\n",
              "            <tr>\n",
              "                        <th id=\"T_8db7232c_5a1a_11eb_b1f9_0242ac1c0002level0_row5\" class=\"row_heading level0 row5\" >order_item_id</th>\n",
              "                        <td id=\"T_8db7232c_5a1a_11eb_b1f9_0242ac1c0002row5_col0\" class=\"data row5 col0\" >-12.863020</td>\n",
              "                        <td id=\"T_8db7232c_5a1a_11eb_b1f9_0242ac1c0002row5_col1\" class=\"data row5 col1\" >-0.132476</td>\n",
              "                        <td id=\"T_8db7232c_5a1a_11eb_b1f9_0242ac1c0002row5_col2\" class=\"data row5 col2\" >-0.000415</td>\n",
              "                        <td id=\"T_8db7232c_5a1a_11eb_b1f9_0242ac1c0002row5_col3\" class=\"data row5 col3\" >0.145733</td>\n",
              "                        <td id=\"T_8db7232c_5a1a_11eb_b1f9_0242ac1c0002row5_col4\" class=\"data row5 col4\" >50.059587</td>\n",
              "                        <td id=\"T_8db7232c_5a1a_11eb_b1f9_0242ac1c0002row5_col5\" class=\"data row5 col5\" >0.494467</td>\n",
              "                        <td id=\"T_8db7232c_5a1a_11eb_b1f9_0242ac1c0002row5_col6\" class=\"data row5 col6\" >-7.748533</td>\n",
              "                        <td id=\"T_8db7232c_5a1a_11eb_b1f9_0242ac1c0002row5_col7\" class=\"data row5 col7\" >-0.336879</td>\n",
              "                        <td id=\"T_8db7232c_5a1a_11eb_b1f9_0242ac1c0002row5_col8\" class=\"data row5 col8\" >-0.165157</td>\n",
              "                        <td id=\"T_8db7232c_5a1a_11eb_b1f9_0242ac1c0002row5_col9\" class=\"data row5 col9\" >-6.528241</td>\n",
              "                        <td id=\"T_8db7232c_5a1a_11eb_b1f9_0242ac1c0002row5_col10\" class=\"data row5 col10\" >-0.065396</td>\n",
              "                        <td id=\"T_8db7232c_5a1a_11eb_b1f9_0242ac1c0002row5_col11\" class=\"data row5 col11\" >-9.044220</td>\n",
              "                        <td id=\"T_8db7232c_5a1a_11eb_b1f9_0242ac1c0002row5_col12\" class=\"data row5 col12\" >0.067497</td>\n",
              "                        <td id=\"T_8db7232c_5a1a_11eb_b1f9_0242ac1c0002row5_col13\" class=\"data row5 col13\" >0.288129</td>\n",
              "                        <td id=\"T_8db7232c_5a1a_11eb_b1f9_0242ac1c0002row5_col14\" class=\"data row5 col14\" >-0.075243</td>\n",
              "                        <td id=\"T_8db7232c_5a1a_11eb_b1f9_0242ac1c0002row5_col15\" class=\"data row5 col15\" >-378.654107</td>\n",
              "                        <td id=\"T_8db7232c_5a1a_11eb_b1f9_0242ac1c0002row5_col16\" class=\"data row5 col16\" >0.001091</td>\n",
              "                        <td id=\"T_8db7232c_5a1a_11eb_b1f9_0242ac1c0002row5_col17\" class=\"data row5 col17\" >-2.682607</td>\n",
              "            </tr>\n",
              "            <tr>\n",
              "                        <th id=\"T_8db7232c_5a1a_11eb_b1f9_0242ac1c0002level0_row6\" class=\"row_heading level0 row6\" >price</th>\n",
              "                        <td id=\"T_8db7232c_5a1a_11eb_b1f9_0242ac1c0002row6_col0\" class=\"data row6 col0\" >227441.498083</td>\n",
              "                        <td id=\"T_8db7232c_5a1a_11eb_b1f9_0242ac1c0002row6_col1\" class=\"data row6 col1\" >0.471678</td>\n",
              "                        <td id=\"T_8db7232c_5a1a_11eb_b1f9_0242ac1c0002row6_col2\" class=\"data row6 col2\" >0.017497</td>\n",
              "                        <td id=\"T_8db7232c_5a1a_11eb_b1f9_0242ac1c0002row6_col3\" class=\"data row6 col3\" >141.261125</td>\n",
              "                        <td id=\"T_8db7232c_5a1a_11eb_b1f9_0242ac1c0002row6_col4\" class=\"data row6 col4\" >35729.568078</td>\n",
              "                        <td id=\"T_8db7232c_5a1a_11eb_b1f9_0242ac1c0002row6_col5\" class=\"data row6 col5\" >-7.748533</td>\n",
              "                        <td id=\"T_8db7232c_5a1a_11eb_b1f9_0242ac1c0002row6_col6\" class=\"data row6 col6\" >33253.942259</td>\n",
              "                        <td id=\"T_8db7232c_5a1a_11eb_b1f9_0242ac1c0002row6_col7\" class=\"data row6 col7\" >1190.417016</td>\n",
              "                        <td id=\"T_8db7232c_5a1a_11eb_b1f9_0242ac1c0002row6_col8\" class=\"data row6 col8\" >36.185717</td>\n",
              "                        <td id=\"T_8db7232c_5a1a_11eb_b1f9_0242ac1c0002row6_col9\" class=\"data row6 col9\" >23826.334471</td>\n",
              "                        <td id=\"T_8db7232c_5a1a_11eb_b1f9_0242ac1c0002row6_col10\" class=\"data row6 col10\" >16.691456</td>\n",
              "                        <td id=\"T_8db7232c_5a1a_11eb_b1f9_0242ac1c0002row6_col11\" class=\"data row6 col11\" >233697.812532</td>\n",
              "                        <td id=\"T_8db7232c_5a1a_11eb_b1f9_0242ac1c0002row6_col12\" class=\"data row6 col12\" >421.094727</td>\n",
              "                        <td id=\"T_8db7232c_5a1a_11eb_b1f9_0242ac1c0002row6_col13\" class=\"data row6 col13\" >546.670965</td>\n",
              "                        <td id=\"T_8db7232c_5a1a_11eb_b1f9_0242ac1c0002row6_col14\" class=\"data row6 col14\" >370.316657</td>\n",
              "                        <td id=\"T_8db7232c_5a1a_11eb_b1f9_0242ac1c0002row6_col15\" class=\"data row6 col15\" >447499.527232</td>\n",
              "                        <td id=\"T_8db7232c_5a1a_11eb_b1f9_0242ac1c0002row6_col16\" class=\"data row6 col16\" >-0.055891</td>\n",
              "                        <td id=\"T_8db7232c_5a1a_11eb_b1f9_0242ac1c0002row6_col17\" class=\"data row6 col17\" >2522.557784</td>\n",
              "            </tr>\n",
              "            <tr>\n",
              "                        <th id=\"T_8db7232c_5a1a_11eb_b1f9_0242ac1c0002level0_row7\" class=\"row_heading level0 row7\" >freight_value</th>\n",
              "                        <td id=\"T_8db7232c_5a1a_11eb_b1f9_0242ac1c0002row7_col0\" class=\"data row7 col0\" >105815.359581</td>\n",
              "                        <td id=\"T_8db7232c_5a1a_11eb_b1f9_0242ac1c0002row7_col1\" class=\"data row7 col1\" >-0.732858</td>\n",
              "                        <td id=\"T_8db7232c_5a1a_11eb_b1f9_0242ac1c0002row7_col2\" class=\"data row7 col2\" >0.082001</td>\n",
              "                        <td id=\"T_8db7232c_5a1a_11eb_b1f9_0242ac1c0002row7_col3\" class=\"data row7 col3\" >8.146259</td>\n",
              "                        <td id=\"T_8db7232c_5a1a_11eb_b1f9_0242ac1c0002row7_col4\" class=\"data row7 col4\" >1558.599730</td>\n",
              "                        <td id=\"T_8db7232c_5a1a_11eb_b1f9_0242ac1c0002row7_col5\" class=\"data row7 col5\" >-0.336879</td>\n",
              "                        <td id=\"T_8db7232c_5a1a_11eb_b1f9_0242ac1c0002row7_col6\" class=\"data row7 col6\" >1190.417016</td>\n",
              "                        <td id=\"T_8db7232c_5a1a_11eb_b1f9_0242ac1c0002row7_col7\" class=\"data row7 col7\" >247.347987</td>\n",
              "                        <td id=\"T_8db7232c_5a1a_11eb_b1f9_0242ac1c0002row7_col8\" class=\"data row7 col8\" >3.973394</td>\n",
              "                        <td id=\"T_8db7232c_5a1a_11eb_b1f9_0242ac1c0002row7_col9\" class=\"data row7 col9\" >972.388747</td>\n",
              "                        <td id=\"T_8db7232c_5a1a_11eb_b1f9_0242ac1c0002row7_col10\" class=\"data row7 col10\" >0.619644</td>\n",
              "                        <td id=\"T_8db7232c_5a1a_11eb_b1f9_0242ac1c0002row7_col11\" class=\"data row7 col11\" >36289.161609</td>\n",
              "                        <td id=\"T_8db7232c_5a1a_11eb_b1f9_0242ac1c0002row7_col12\" class=\"data row7 col12\" >77.193850</td>\n",
              "                        <td id=\"T_8db7232c_5a1a_11eb_b1f9_0242ac1c0002row7_col13\" class=\"data row7 col13\" >82.771020</td>\n",
              "                        <td id=\"T_8db7232c_5a1a_11eb_b1f9_0242ac1c0002row7_col14\" class=\"data row7 col14\" >59.543619</td>\n",
              "                        <td id=\"T_8db7232c_5a1a_11eb_b1f9_0242ac1c0002row7_col15\" class=\"data row7 col15\" >65538.248935</td>\n",
              "                        <td id=\"T_8db7232c_5a1a_11eb_b1f9_0242ac1c0002row7_col16\" class=\"data row7 col16\" >0.289959</td>\n",
              "                        <td id=\"T_8db7232c_5a1a_11eb_b1f9_0242ac1c0002row7_col17\" class=\"data row7 col17\" >759.760256</td>\n",
              "            </tr>\n",
              "            <tr>\n",
              "                        <th id=\"T_8db7232c_5a1a_11eb_b1f9_0242ac1c0002level0_row8\" class=\"row_heading level0 row8\" >product_name_lenght</th>\n",
              "                        <td id=\"T_8db7232c_5a1a_11eb_b1f9_0242ac1c0002row8_col0\" class=\"data row8 col0\" >4818.246414</td>\n",
              "                        <td id=\"T_8db7232c_5a1a_11eb_b1f9_0242ac1c0002row8_col1\" class=\"data row8 col1\" >-0.175674</td>\n",
              "                        <td id=\"T_8db7232c_5a1a_11eb_b1f9_0242ac1c0002row8_col2\" class=\"data row8 col2\" >-0.015357</td>\n",
              "                        <td id=\"T_8db7232c_5a1a_11eb_b1f9_0242ac1c0002row8_col3\" class=\"data row8 col3\" >0.591975</td>\n",
              "                        <td id=\"T_8db7232c_5a1a_11eb_b1f9_0242ac1c0002row8_col4\" class=\"data row8 col4\" >11.862732</td>\n",
              "                        <td id=\"T_8db7232c_5a1a_11eb_b1f9_0242ac1c0002row8_col5\" class=\"data row8 col5\" >-0.165157</td>\n",
              "                        <td id=\"T_8db7232c_5a1a_11eb_b1f9_0242ac1c0002row8_col6\" class=\"data row8 col6\" >36.185717</td>\n",
              "                        <td id=\"T_8db7232c_5a1a_11eb_b1f9_0242ac1c0002row8_col7\" class=\"data row8 col7\" >3.973394</td>\n",
              "                        <td id=\"T_8db7232c_5a1a_11eb_b1f9_0242ac1c0002row8_col8\" class=\"data row8 col8\" >100.341749</td>\n",
              "                        <td id=\"T_8db7232c_5a1a_11eb_b1f9_0242ac1c0002row8_col9\" class=\"data row8 col9\" >589.468667</td>\n",
              "                        <td id=\"T_8db7232c_5a1a_11eb_b1f9_0242ac1c0002row8_col10\" class=\"data row8 col10\" >2.498081</td>\n",
              "                        <td id=\"T_8db7232c_5a1a_11eb_b1f9_0242ac1c0002row8_col11\" class=\"data row8 col11\" >847.138181</td>\n",
              "                        <td id=\"T_8db7232c_5a1a_11eb_b1f9_0242ac1c0002row8_col12\" class=\"data row8 col12\" >10.104289</td>\n",
              "                        <td id=\"T_8db7232c_5a1a_11eb_b1f9_0242ac1c0002row8_col13\" class=\"data row8 col13\" >-4.081208</td>\n",
              "                        <td id=\"T_8db7232c_5a1a_11eb_b1f9_0242ac1c0002row8_col14\" class=\"data row8 col14\" >7.451231</td>\n",
              "                        <td id=\"T_8db7232c_5a1a_11eb_b1f9_0242ac1c0002row8_col15\" class=\"data row8 col15\" >-8903.264426</td>\n",
              "                        <td id=\"T_8db7232c_5a1a_11eb_b1f9_0242ac1c0002row8_col16\" class=\"data row8 col16\" >0.093665</td>\n",
              "                        <td id=\"T_8db7232c_5a1a_11eb_b1f9_0242ac1c0002row8_col17\" class=\"data row8 col17\" >-6.605871</td>\n",
              "            </tr>\n",
              "            <tr>\n",
              "                        <th id=\"T_8db7232c_5a1a_11eb_b1f9_0242ac1c0002level0_row9\" class=\"row_heading level0 row9\" >product_description_lenght</th>\n",
              "                        <td id=\"T_8db7232c_5a1a_11eb_b1f9_0242ac1c0002row9_col0\" class=\"data row9 col0\" >472171.765400</td>\n",
              "                        <td id=\"T_8db7232c_5a1a_11eb_b1f9_0242ac1c0002row9_col1\" class=\"data row9 col1\" >12.184492</td>\n",
              "                        <td id=\"T_8db7232c_5a1a_11eb_b1f9_0242ac1c0002row9_col2\" class=\"data row9 col2\" >-4.681252</td>\n",
              "                        <td id=\"T_8db7232c_5a1a_11eb_b1f9_0242ac1c0002row9_col3\" class=\"data row9 col3\" >65.106006</td>\n",
              "                        <td id=\"T_8db7232c_5a1a_11eb_b1f9_0242ac1c0002row9_col4\" class=\"data row9 col4\" >27187.526422</td>\n",
              "                        <td id=\"T_8db7232c_5a1a_11eb_b1f9_0242ac1c0002row9_col5\" class=\"data row9 col5\" >-6.528241</td>\n",
              "                        <td id=\"T_8db7232c_5a1a_11eb_b1f9_0242ac1c0002row9_col6\" class=\"data row9 col6\" >23826.334471</td>\n",
              "                        <td id=\"T_8db7232c_5a1a_11eb_b1f9_0242ac1c0002row9_col7\" class=\"data row9 col7\" >972.388747</td>\n",
              "                        <td id=\"T_8db7232c_5a1a_11eb_b1f9_0242ac1c0002row9_col8\" class=\"data row9 col8\" >589.468667</td>\n",
              "                        <td id=\"T_8db7232c_5a1a_11eb_b1f9_0242ac1c0002row9_col9\" class=\"data row9 col9\" >423271.213948</td>\n",
              "                        <td id=\"T_8db7232c_5a1a_11eb_b1f9_0242ac1c0002row9_col10\" class=\"data row9 col10\" >133.216944</td>\n",
              "                        <td id=\"T_8db7232c_5a1a_11eb_b1f9_0242ac1c0002row9_col11\" class=\"data row9 col11\" >146227.210315</td>\n",
              "                        <td id=\"T_8db7232c_5a1a_11eb_b1f9_0242ac1c0002row9_col12\" class=\"data row9 col12\" >35.650436</td>\n",
              "                        <td id=\"T_8db7232c_5a1a_11eb_b1f9_0242ac1c0002row9_col13\" class=\"data row9 col13\" >644.853310</td>\n",
              "                        <td id=\"T_8db7232c_5a1a_11eb_b1f9_0242ac1c0002row9_col14\" class=\"data row9 col14\" >-530.140753</td>\n",
              "                        <td id=\"T_8db7232c_5a1a_11eb_b1f9_0242ac1c0002row9_col15\" class=\"data row9 col15\" >1099098.914601</td>\n",
              "                        <td id=\"T_8db7232c_5a1a_11eb_b1f9_0242ac1c0002row9_col16\" class=\"data row9 col16\" >12.378145</td>\n",
              "                        <td id=\"T_8db7232c_5a1a_11eb_b1f9_0242ac1c0002row9_col17\" class=\"data row9 col17\" >834.219566</td>\n",
              "            </tr>\n",
              "            <tr>\n",
              "                        <th id=\"T_8db7232c_5a1a_11eb_b1f9_0242ac1c0002level0_row10\" class=\"row_heading level0 row10\" >product_photos_qty</th>\n",
              "                        <td id=\"T_8db7232c_5a1a_11eb_b1f9_0242ac1c0002row10_col0\" class=\"data row10 col0\" >1081.273758</td>\n",
              "                        <td id=\"T_8db7232c_5a1a_11eb_b1f9_0242ac1c0002row10_col1\" class=\"data row10 col1\" >0.050132</td>\n",
              "                        <td id=\"T_8db7232c_5a1a_11eb_b1f9_0242ac1c0002row10_col2\" class=\"data row10 col2\" >-0.009904</td>\n",
              "                        <td id=\"T_8db7232c_5a1a_11eb_b1f9_0242ac1c0002row10_col3\" class=\"data row10 col3\" >-0.003907</td>\n",
              "                        <td id=\"T_8db7232c_5a1a_11eb_b1f9_0242ac1c0002row10_col4\" class=\"data row10 col4\" >4.725770</td>\n",
              "                        <td id=\"T_8db7232c_5a1a_11eb_b1f9_0242ac1c0002row10_col5\" class=\"data row10 col5\" >-0.065396</td>\n",
              "                        <td id=\"T_8db7232c_5a1a_11eb_b1f9_0242ac1c0002row10_col6\" class=\"data row10 col6\" >16.691456</td>\n",
              "                        <td id=\"T_8db7232c_5a1a_11eb_b1f9_0242ac1c0002row10_col7\" class=\"data row10 col7\" >0.619644</td>\n",
              "                        <td id=\"T_8db7232c_5a1a_11eb_b1f9_0242ac1c0002row10_col8\" class=\"data row10 col8\" >2.498081</td>\n",
              "                        <td id=\"T_8db7232c_5a1a_11eb_b1f9_0242ac1c0002row10_col9\" class=\"data row10 col9\" >133.216944</td>\n",
              "                        <td id=\"T_8db7232c_5a1a_11eb_b1f9_0242ac1c0002row10_col10\" class=\"data row10 col10\" >2.951589</td>\n",
              "                        <td id=\"T_8db7232c_5a1a_11eb_b1f9_0242ac1c0002row10_col11\" class=\"data row10 col11\" >146.064380</td>\n",
              "                        <td id=\"T_8db7232c_5a1a_11eb_b1f9_0242ac1c0002row10_col12\" class=\"data row10 col12\" >1.286300</td>\n",
              "                        <td id=\"T_8db7232c_5a1a_11eb_b1f9_0242ac1c0002row10_col13\" class=\"data row10 col13\" >-0.780333</td>\n",
              "                        <td id=\"T_8db7232c_5a1a_11eb_b1f9_0242ac1c0002row10_col14\" class=\"data row10 col14\" >0.156604</td>\n",
              "                        <td id=\"T_8db7232c_5a1a_11eb_b1f9_0242ac1c0002row10_col15\" class=\"data row10 col15\" >-1951.449538</td>\n",
              "                        <td id=\"T_8db7232c_5a1a_11eb_b1f9_0242ac1c0002row10_col16\" class=\"data row10 col16\" >-0.004716</td>\n",
              "                        <td id=\"T_8db7232c_5a1a_11eb_b1f9_0242ac1c0002row10_col17\" class=\"data row10 col17\" >-10.406653</td>\n",
              "            </tr>\n",
              "            <tr>\n",
              "                        <th id=\"T_8db7232c_5a1a_11eb_b1f9_0242ac1c0002level0_row11\" class=\"row_heading level0 row11\" >product_weight_g</th>\n",
              "                        <td id=\"T_8db7232c_5a1a_11eb_b1f9_0242ac1c0002row11_col0\" class=\"data row11 col0\" >119425.969731</td>\n",
              "                        <td id=\"T_8db7232c_5a1a_11eb_b1f9_0242ac1c0002row11_col1\" class=\"data row11 col1\" >-140.410401</td>\n",
              "                        <td id=\"T_8db7232c_5a1a_11eb_b1f9_0242ac1c0002row11_col2\" class=\"data row11 col2\" >65.404410</td>\n",
              "                        <td id=\"T_8db7232c_5a1a_11eb_b1f9_0242ac1c0002row11_col3\" class=\"data row11 col3\" >1878.915850</td>\n",
              "                        <td id=\"T_8db7232c_5a1a_11eb_b1f9_0242ac1c0002row11_col4\" class=\"data row11 col4\" >306776.131433</td>\n",
              "                        <td id=\"T_8db7232c_5a1a_11eb_b1f9_0242ac1c0002row11_col5\" class=\"data row11 col5\" >-9.044220</td>\n",
              "                        <td id=\"T_8db7232c_5a1a_11eb_b1f9_0242ac1c0002row11_col6\" class=\"data row11 col6\" >233697.812532</td>\n",
              "                        <td id=\"T_8db7232c_5a1a_11eb_b1f9_0242ac1c0002row11_col7\" class=\"data row11 col7\" >36289.161609</td>\n",
              "                        <td id=\"T_8db7232c_5a1a_11eb_b1f9_0242ac1c0002row11_col8\" class=\"data row11 col8\" >847.138181</td>\n",
              "                        <td id=\"T_8db7232c_5a1a_11eb_b1f9_0242ac1c0002row11_col9\" class=\"data row11 col9\" >146227.210315</td>\n",
              "                        <td id=\"T_8db7232c_5a1a_11eb_b1f9_0242ac1c0002row11_col10\" class=\"data row11 col10\" >146.064380</td>\n",
              "                        <td id=\"T_8db7232c_5a1a_11eb_b1f9_0242ac1c0002row11_col11\" class=\"data row11 col11\" >14201966.489517</td>\n",
              "                        <td id=\"T_8db7232c_5a1a_11eb_b1f9_0242ac1c0002row11_col12\" class=\"data row11 col12\" >27964.476875</td>\n",
              "                        <td id=\"T_8db7232c_5a1a_11eb_b1f9_0242ac1c0002row11_col13\" class=\"data row11 col13\" >29505.572012</td>\n",
              "                        <td id=\"T_8db7232c_5a1a_11eb_b1f9_0242ac1c0002row11_col14\" class=\"data row11 col14\" >22390.326442</td>\n",
              "                        <td id=\"T_8db7232c_5a1a_11eb_b1f9_0242ac1c0002row11_col15\" class=\"data row11 col15\" >917135.788536</td>\n",
              "                        <td id=\"T_8db7232c_5a1a_11eb_b1f9_0242ac1c0002row11_col16\" class=\"data row11 col16\" >-41.143376</td>\n",
              "                        <td id=\"T_8db7232c_5a1a_11eb_b1f9_0242ac1c0002row11_col17\" class=\"data row11 col17\" >73183.431020</td>\n",
              "            </tr>\n",
              "            <tr>\n",
              "                        <th id=\"T_8db7232c_5a1a_11eb_b1f9_0242ac1c0002level0_row12\" class=\"row_heading level0 row12\" >product_length_cm</th>\n",
              "                        <td id=\"T_8db7232c_5a1a_11eb_b1f9_0242ac1c0002row12_col0\" class=\"data row12 col0\" >1754.077836</td>\n",
              "                        <td id=\"T_8db7232c_5a1a_11eb_b1f9_0242ac1c0002row12_col1\" class=\"data row12 col1\" >-0.458467</td>\n",
              "                        <td id=\"T_8db7232c_5a1a_11eb_b1f9_0242ac1c0002row12_col2\" class=\"data row12 col2\" >0.330243</td>\n",
              "                        <td id=\"T_8db7232c_5a1a_11eb_b1f9_0242ac1c0002row12_col3\" class=\"data row12 col3\" >5.250068</td>\n",
              "                        <td id=\"T_8db7232c_5a1a_11eb_b1f9_0242ac1c0002row12_col4\" class=\"data row12 col4\" >594.842755</td>\n",
              "                        <td id=\"T_8db7232c_5a1a_11eb_b1f9_0242ac1c0002row12_col5\" class=\"data row12 col5\" >0.067497</td>\n",
              "                        <td id=\"T_8db7232c_5a1a_11eb_b1f9_0242ac1c0002row12_col6\" class=\"data row12 col6\" >421.094727</td>\n",
              "                        <td id=\"T_8db7232c_5a1a_11eb_b1f9_0242ac1c0002row12_col7\" class=\"data row12 col7\" >77.193850</td>\n",
              "                        <td id=\"T_8db7232c_5a1a_11eb_b1f9_0242ac1c0002row12_col8\" class=\"data row12 col8\" >10.104289</td>\n",
              "                        <td id=\"T_8db7232c_5a1a_11eb_b1f9_0242ac1c0002row12_col9\" class=\"data row12 col9\" >35.650436</td>\n",
              "                        <td id=\"T_8db7232c_5a1a_11eb_b1f9_0242ac1c0002row12_col10\" class=\"data row12 col10\" >1.286300</td>\n",
              "                        <td id=\"T_8db7232c_5a1a_11eb_b1f9_0242ac1c0002row12_col11\" class=\"data row12 col11\" >27964.476875</td>\n",
              "                        <td id=\"T_8db7232c_5a1a_11eb_b1f9_0242ac1c0002row12_col12\" class=\"data row12 col12\" >261.093253</td>\n",
              "                        <td id=\"T_8db7232c_5a1a_11eb_b1f9_0242ac1c0002row12_col13\" class=\"data row12 col13\" >40.914400</td>\n",
              "                        <td id=\"T_8db7232c_5a1a_11eb_b1f9_0242ac1c0002row12_col14\" class=\"data row12 col14\" >101.462485</td>\n",
              "                        <td id=\"T_8db7232c_5a1a_11eb_b1f9_0242ac1c0002row12_col15\" class=\"data row12 col15\" >12932.478097</td>\n",
              "                        <td id=\"T_8db7232c_5a1a_11eb_b1f9_0242ac1c0002row12_col16\" class=\"data row12 col16\" >-0.412752</td>\n",
              "                        <td id=\"T_8db7232c_5a1a_11eb_b1f9_0242ac1c0002row12_col17\" class=\"data row12 col17\" >248.759789</td>\n",
              "            </tr>\n",
              "            <tr>\n",
              "                        <th id=\"T_8db7232c_5a1a_11eb_b1f9_0242ac1c0002level0_row13\" class=\"row_heading level0 row13\" >product_height_cm</th>\n",
              "                        <td id=\"T_8db7232c_5a1a_11eb_b1f9_0242ac1c0002row13_col0\" class=\"data row13 col0\" >4677.937342</td>\n",
              "                        <td id=\"T_8db7232c_5a1a_11eb_b1f9_0242ac1c0002row13_col1\" class=\"data row13 col1\" >-0.433442</td>\n",
              "                        <td id=\"T_8db7232c_5a1a_11eb_b1f9_0242ac1c0002row13_col2\" class=\"data row13 col2\" >0.183276</td>\n",
              "                        <td id=\"T_8db7232c_5a1a_11eb_b1f9_0242ac1c0002row13_col3\" class=\"data row13 col3\" >4.519772</td>\n",
              "                        <td id=\"T_8db7232c_5a1a_11eb_b1f9_0242ac1c0002row13_col4\" class=\"data row13 col4\" >775.605934</td>\n",
              "                        <td id=\"T_8db7232c_5a1a_11eb_b1f9_0242ac1c0002row13_col5\" class=\"data row13 col5\" >0.288129</td>\n",
              "                        <td id=\"T_8db7232c_5a1a_11eb_b1f9_0242ac1c0002row13_col6\" class=\"data row13 col6\" >546.670965</td>\n",
              "                        <td id=\"T_8db7232c_5a1a_11eb_b1f9_0242ac1c0002row13_col7\" class=\"data row13 col7\" >82.771020</td>\n",
              "                        <td id=\"T_8db7232c_5a1a_11eb_b1f9_0242ac1c0002row13_col8\" class=\"data row13 col8\" >-4.081208</td>\n",
              "                        <td id=\"T_8db7232c_5a1a_11eb_b1f9_0242ac1c0002row13_col9\" class=\"data row13 col9\" >644.853310</td>\n",
              "                        <td id=\"T_8db7232c_5a1a_11eb_b1f9_0242ac1c0002row13_col10\" class=\"data row13 col10\" >-0.780333</td>\n",
              "                        <td id=\"T_8db7232c_5a1a_11eb_b1f9_0242ac1c0002row13_col11\" class=\"data row13 col11\" >29505.572012</td>\n",
              "                        <td id=\"T_8db7232c_5a1a_11eb_b1f9_0242ac1c0002row13_col12\" class=\"data row13 col12\" >40.914400</td>\n",
              "                        <td id=\"T_8db7232c_5a1a_11eb_b1f9_0242ac1c0002row13_col13\" class=\"data row13 col13\" >180.641835</td>\n",
              "                        <td id=\"T_8db7232c_5a1a_11eb_b1f9_0242ac1c0002row13_col14\" class=\"data row13 col14\" >43.523486</td>\n",
              "                        <td id=\"T_8db7232c_5a1a_11eb_b1f9_0242ac1c0002row13_col15\" class=\"data row13 col15\" >5118.403778</td>\n",
              "                        <td id=\"T_8db7232c_5a1a_11eb_b1f9_0242ac1c0002row13_col16\" class=\"data row13 col16\" >-0.169740</td>\n",
              "                        <td id=\"T_8db7232c_5a1a_11eb_b1f9_0242ac1c0002row13_col17\" class=\"data row13 col17\" >211.240280</td>\n",
              "            </tr>\n",
              "            <tr>\n",
              "                        <th id=\"T_8db7232c_5a1a_11eb_b1f9_0242ac1c0002level0_row14\" class=\"row_heading level0 row14\" >product_width_cm</th>\n",
              "                        <td id=\"T_8db7232c_5a1a_11eb_b1f9_0242ac1c0002row14_col0\" class=\"data row14 col0\" >-3561.002730</td>\n",
              "                        <td id=\"T_8db7232c_5a1a_11eb_b1f9_0242ac1c0002row14_col1\" class=\"data row14 col1\" >-0.196617</td>\n",
              "                        <td id=\"T_8db7232c_5a1a_11eb_b1f9_0242ac1c0002row14_col2\" class=\"data row14 col2\" >0.239364</td>\n",
              "                        <td id=\"T_8db7232c_5a1a_11eb_b1f9_0242ac1c0002row14_col3\" class=\"data row14 col3\" >4.483753</td>\n",
              "                        <td id=\"T_8db7232c_5a1a_11eb_b1f9_0242ac1c0002row14_col4\" class=\"data row14 col4\" >464.177263</td>\n",
              "                        <td id=\"T_8db7232c_5a1a_11eb_b1f9_0242ac1c0002row14_col5\" class=\"data row14 col5\" >-0.075243</td>\n",
              "                        <td id=\"T_8db7232c_5a1a_11eb_b1f9_0242ac1c0002row14_col6\" class=\"data row14 col6\" >370.316657</td>\n",
              "                        <td id=\"T_8db7232c_5a1a_11eb_b1f9_0242ac1c0002row14_col7\" class=\"data row14 col7\" >59.543619</td>\n",
              "                        <td id=\"T_8db7232c_5a1a_11eb_b1f9_0242ac1c0002row14_col8\" class=\"data row14 col8\" >7.451231</td>\n",
              "                        <td id=\"T_8db7232c_5a1a_11eb_b1f9_0242ac1c0002row14_col9\" class=\"data row14 col9\" >-530.140753</td>\n",
              "                        <td id=\"T_8db7232c_5a1a_11eb_b1f9_0242ac1c0002row14_col10\" class=\"data row14 col10\" >0.156604</td>\n",
              "                        <td id=\"T_8db7232c_5a1a_11eb_b1f9_0242ac1c0002row14_col11\" class=\"data row14 col11\" >22390.326442</td>\n",
              "                        <td id=\"T_8db7232c_5a1a_11eb_b1f9_0242ac1c0002row14_col12\" class=\"data row14 col12\" >101.462485</td>\n",
              "                        <td id=\"T_8db7232c_5a1a_11eb_b1f9_0242ac1c0002row14_col13\" class=\"data row14 col13\" >43.523486</td>\n",
              "                        <td id=\"T_8db7232c_5a1a_11eb_b1f9_0242ac1c0002row14_col14\" class=\"data row14 col14\" >137.842892</td>\n",
              "                        <td id=\"T_8db7232c_5a1a_11eb_b1f9_0242ac1c0002row14_col15\" class=\"data row14 col15\" >-6260.012801</td>\n",
              "                        <td id=\"T_8db7232c_5a1a_11eb_b1f9_0242ac1c0002row14_col16\" class=\"data row14 col16\" >-0.336892</td>\n",
              "                        <td id=\"T_8db7232c_5a1a_11eb_b1f9_0242ac1c0002row14_col17\" class=\"data row14 col17\" >105.904205</td>\n",
              "            </tr>\n",
              "            <tr>\n",
              "                        <th id=\"T_8db7232c_5a1a_11eb_b1f9_0242ac1c0002level0_row15\" class=\"row_heading level0 row15\" >seller_zip_code_prefix</th>\n",
              "                        <td id=\"T_8db7232c_5a1a_11eb_b1f9_0242ac1c0002row15_col0\" class=\"data row15 col0\" >61519352.567391</td>\n",
              "                        <td id=\"T_8db7232c_5a1a_11eb_b1f9_0242ac1c0002row15_col1\" class=\"data row15 col1\" >1008.980184</td>\n",
              "                        <td id=\"T_8db7232c_5a1a_11eb_b1f9_0242ac1c0002row15_col2\" class=\"data row15 col2\" >86.461169</td>\n",
              "                        <td id=\"T_8db7232c_5a1a_11eb_b1f9_0242ac1c0002row15_col3\" class=\"data row15 col3\" >2932.165565</td>\n",
              "                        <td id=\"T_8db7232c_5a1a_11eb_b1f9_0242ac1c0002row15_col4\" class=\"data row15 col4\" >512301.812536</td>\n",
              "                        <td id=\"T_8db7232c_5a1a_11eb_b1f9_0242ac1c0002row15_col5\" class=\"data row15 col5\" >-378.654107</td>\n",
              "                        <td id=\"T_8db7232c_5a1a_11eb_b1f9_0242ac1c0002row15_col6\" class=\"data row15 col6\" >447499.527232</td>\n",
              "                        <td id=\"T_8db7232c_5a1a_11eb_b1f9_0242ac1c0002row15_col7\" class=\"data row15 col7\" >65538.248935</td>\n",
              "                        <td id=\"T_8db7232c_5a1a_11eb_b1f9_0242ac1c0002row15_col8\" class=\"data row15 col8\" >-8903.264426</td>\n",
              "                        <td id=\"T_8db7232c_5a1a_11eb_b1f9_0242ac1c0002row15_col9\" class=\"data row15 col9\" >1099098.914601</td>\n",
              "                        <td id=\"T_8db7232c_5a1a_11eb_b1f9_0242ac1c0002row15_col10\" class=\"data row15 col10\" >-1951.449538</td>\n",
              "                        <td id=\"T_8db7232c_5a1a_11eb_b1f9_0242ac1c0002row15_col11\" class=\"data row15 col11\" >917135.788536</td>\n",
              "                        <td id=\"T_8db7232c_5a1a_11eb_b1f9_0242ac1c0002row15_col12\" class=\"data row15 col12\" >12932.478097</td>\n",
              "                        <td id=\"T_8db7232c_5a1a_11eb_b1f9_0242ac1c0002row15_col13\" class=\"data row15 col13\" >5118.403778</td>\n",
              "                        <td id=\"T_8db7232c_5a1a_11eb_b1f9_0242ac1c0002row15_col14\" class=\"data row15 col14\" >-6260.012801</td>\n",
              "                        <td id=\"T_8db7232c_5a1a_11eb_b1f9_0242ac1c0002row15_col15\" class=\"data row15 col15\" >763906306.464591</td>\n",
              "                        <td id=\"T_8db7232c_5a1a_11eb_b1f9_0242ac1c0002row15_col16\" class=\"data row15 col16\" >-147.842739</td>\n",
              "                        <td id=\"T_8db7232c_5a1a_11eb_b1f9_0242ac1c0002row15_col17\" class=\"data row15 col17\" >298994.760435</td>\n",
              "            </tr>\n",
              "            <tr>\n",
              "                        <th id=\"T_8db7232c_5a1a_11eb_b1f9_0242ac1c0002level0_row16\" class=\"row_heading level0 row16\" >Year</th>\n",
              "                        <td id=\"T_8db7232c_5a1a_11eb_b1f9_0242ac1c0002row16_col0\" class=\"data row16 col0\" >-505.424265</td>\n",
              "                        <td id=\"T_8db7232c_5a1a_11eb_b1f9_0242ac1c0002row16_col1\" class=\"data row16 col1\" >-0.009912</td>\n",
              "                        <td id=\"T_8db7232c_5a1a_11eb_b1f9_0242ac1c0002row16_col2\" class=\"data row16 col2\" >-0.015323</td>\n",
              "                        <td id=\"T_8db7232c_5a1a_11eb_b1f9_0242ac1c0002row16_col3\" class=\"data row16 col3\" >-0.072171</td>\n",
              "                        <td id=\"T_8db7232c_5a1a_11eb_b1f9_0242ac1c0002row16_col4\" class=\"data row16 col4\" >0.705268</td>\n",
              "                        <td id=\"T_8db7232c_5a1a_11eb_b1f9_0242ac1c0002row16_col5\" class=\"data row16 col5\" >0.001091</td>\n",
              "                        <td id=\"T_8db7232c_5a1a_11eb_b1f9_0242ac1c0002row16_col6\" class=\"data row16 col6\" >-0.055891</td>\n",
              "                        <td id=\"T_8db7232c_5a1a_11eb_b1f9_0242ac1c0002row16_col7\" class=\"data row16 col7\" >0.289959</td>\n",
              "                        <td id=\"T_8db7232c_5a1a_11eb_b1f9_0242ac1c0002row16_col8\" class=\"data row16 col8\" >0.093665</td>\n",
              "                        <td id=\"T_8db7232c_5a1a_11eb_b1f9_0242ac1c0002row16_col9\" class=\"data row16 col9\" >12.378145</td>\n",
              "                        <td id=\"T_8db7232c_5a1a_11eb_b1f9_0242ac1c0002row16_col10\" class=\"data row16 col10\" >-0.004716</td>\n",
              "                        <td id=\"T_8db7232c_5a1a_11eb_b1f9_0242ac1c0002row16_col11\" class=\"data row16 col11\" >-41.143376</td>\n",
              "                        <td id=\"T_8db7232c_5a1a_11eb_b1f9_0242ac1c0002row16_col12\" class=\"data row16 col12\" >-0.412752</td>\n",
              "                        <td id=\"T_8db7232c_5a1a_11eb_b1f9_0242ac1c0002row16_col13\" class=\"data row16 col13\" >-0.169740</td>\n",
              "                        <td id=\"T_8db7232c_5a1a_11eb_b1f9_0242ac1c0002row16_col14\" class=\"data row16 col14\" >-0.336892</td>\n",
              "                        <td id=\"T_8db7232c_5a1a_11eb_b1f9_0242ac1c0002row16_col15\" class=\"data row16 col15\" >-147.842739</td>\n",
              "                        <td id=\"T_8db7232c_5a1a_11eb_b1f9_0242ac1c0002row16_col16\" class=\"data row16 col16\" >0.254245</td>\n",
              "                        <td id=\"T_8db7232c_5a1a_11eb_b1f9_0242ac1c0002row16_col17\" class=\"data row16 col17\" >-6.063691</td>\n",
              "            </tr>\n",
              "            <tr>\n",
              "                        <th id=\"T_8db7232c_5a1a_11eb_b1f9_0242ac1c0002level0_row17\" class=\"row_heading level0 row17\" >delivery_time</th>\n",
              "                        <td id=\"T_8db7232c_5a1a_11eb_b1f9_0242ac1c0002row17_col0\" class=\"data row17 col0\" >1835222.032278</td>\n",
              "                        <td id=\"T_8db7232c_5a1a_11eb_b1f9_0242ac1c0002row17_col1\" class=\"data row17 col1\" >-93.652060</td>\n",
              "                        <td id=\"T_8db7232c_5a1a_11eb_b1f9_0242ac1c0002row17_col2\" class=\"data row17 col2\" >0.375957</td>\n",
              "                        <td id=\"T_8db7232c_5a1a_11eb_b1f9_0242ac1c0002row17_col3\" class=\"data row17 col3\" >27.931713</td>\n",
              "                        <td id=\"T_8db7232c_5a1a_11eb_b1f9_0242ac1c0002row17_col4\" class=\"data row17 col4\" >3598.911409</td>\n",
              "                        <td id=\"T_8db7232c_5a1a_11eb_b1f9_0242ac1c0002row17_col5\" class=\"data row17 col5\" >-2.682607</td>\n",
              "                        <td id=\"T_8db7232c_5a1a_11eb_b1f9_0242ac1c0002row17_col6\" class=\"data row17 col6\" >2522.557784</td>\n",
              "                        <td id=\"T_8db7232c_5a1a_11eb_b1f9_0242ac1c0002row17_col7\" class=\"data row17 col7\" >759.760256</td>\n",
              "                        <td id=\"T_8db7232c_5a1a_11eb_b1f9_0242ac1c0002row17_col8\" class=\"data row17 col8\" >-6.605871</td>\n",
              "                        <td id=\"T_8db7232c_5a1a_11eb_b1f9_0242ac1c0002row17_col9\" class=\"data row17 col9\" >834.219566</td>\n",
              "                        <td id=\"T_8db7232c_5a1a_11eb_b1f9_0242ac1c0002row17_col10\" class=\"data row17 col10\" >-10.406653</td>\n",
              "                        <td id=\"T_8db7232c_5a1a_11eb_b1f9_0242ac1c0002row17_col11\" class=\"data row17 col11\" >73183.431020</td>\n",
              "                        <td id=\"T_8db7232c_5a1a_11eb_b1f9_0242ac1c0002row17_col12\" class=\"data row17 col12\" >248.759789</td>\n",
              "                        <td id=\"T_8db7232c_5a1a_11eb_b1f9_0242ac1c0002row17_col13\" class=\"data row17 col13\" >211.240280</td>\n",
              "                        <td id=\"T_8db7232c_5a1a_11eb_b1f9_0242ac1c0002row17_col14\" class=\"data row17 col14\" >105.904205</td>\n",
              "                        <td id=\"T_8db7232c_5a1a_11eb_b1f9_0242ac1c0002row17_col15\" class=\"data row17 col15\" >298994.760435</td>\n",
              "                        <td id=\"T_8db7232c_5a1a_11eb_b1f9_0242ac1c0002row17_col16\" class=\"data row17 col16\" >-6.063691</td>\n",
              "                        <td id=\"T_8db7232c_5a1a_11eb_b1f9_0242ac1c0002row17_col17\" class=\"data row17 col17\" >51317.968297</td>\n",
              "            </tr>\n",
              "    </tbody></table>"
            ],
            "text/plain": [
              "<pandas.io.formats.style.Styler at 0x7f2001362358>"
            ]
          },
          "metadata": {
            "tags": []
          },
          "execution_count": 212
        }
      ]
    }
  ]
}